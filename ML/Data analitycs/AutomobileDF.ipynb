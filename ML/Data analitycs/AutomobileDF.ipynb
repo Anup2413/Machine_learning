{
 "cells": [
  {
   "cell_type": "code",
   "execution_count": 1,
   "metadata": {},
   "outputs": [],
   "source": [
    "#Real dataset : - \n",
    "#automobile_data.csv\n",
    "#symbolic normalised losses  make   fuel-type  body-style city-mpg  highway-mpg\n",
    "#horse-power  engine-type   engine-location  price\n",
    "#csv means comma separated values"
   ]
  },
  {
   "cell_type": "code",
   "execution_count": 2,
   "metadata": {},
   "outputs": [
    {
     "data": {
      "text/plain": [
       "'C:\\\\Users\\\\Admin\\\\Desktop\\\\Anup\\\\Data analitycs'"
      ]
     },
     "execution_count": 2,
     "metadata": {},
     "output_type": "execute_result"
    }
   ],
   "source": [
    "import os\n",
    "os.getcwd()"
   ]
  },
  {
   "cell_type": "code",
   "execution_count": 3,
   "metadata": {},
   "outputs": [],
   "source": [
    "#work on real data file\n",
    "#to read csv file : use inbuilt function read_csv(\"filename.csv\")\n",
    "#which is inbuilt method of pandas\n",
    "import pandas as pd \n",
    "import numpy as np\n"
   ]
  },
  {
   "cell_type": "code",
   "execution_count": 4,
   "metadata": {},
   "outputs": [],
   "source": [
    "#to load csv file\n",
    "car=pd.read_csv('automobile_data.csv') #here car is user defined dataframe"
   ]
  },
  {
   "cell_type": "code",
   "execution_count": 5,
   "metadata": {},
   "outputs": [
    {
     "data": {
      "text/html": [
       "<div>\n",
       "<style scoped>\n",
       "    .dataframe tbody tr th:only-of-type {\n",
       "        vertical-align: middle;\n",
       "    }\n",
       "\n",
       "    .dataframe tbody tr th {\n",
       "        vertical-align: top;\n",
       "    }\n",
       "\n",
       "    .dataframe thead th {\n",
       "        text-align: right;\n",
       "    }\n",
       "</style>\n",
       "<table border=\"1\" class=\"dataframe\">\n",
       "  <thead>\n",
       "    <tr style=\"text-align: right;\">\n",
       "      <th></th>\n",
       "      <th>symboling</th>\n",
       "      <th>normalized-losses</th>\n",
       "      <th>make</th>\n",
       "      <th>fuel-type</th>\n",
       "      <th>body-style</th>\n",
       "      <th>drive-wheels</th>\n",
       "      <th>engine-location</th>\n",
       "      <th>width</th>\n",
       "      <th>height</th>\n",
       "      <th>engine-type</th>\n",
       "      <th>engine-size</th>\n",
       "      <th>horsepower</th>\n",
       "      <th>city-mpg</th>\n",
       "      <th>highway-mpg</th>\n",
       "      <th>price</th>\n",
       "    </tr>\n",
       "  </thead>\n",
       "  <tbody>\n",
       "    <tr>\n",
       "      <th>0</th>\n",
       "      <td>3</td>\n",
       "      <td>?</td>\n",
       "      <td>alfa-romero</td>\n",
       "      <td>gas</td>\n",
       "      <td>convertible</td>\n",
       "      <td>rwd</td>\n",
       "      <td>front</td>\n",
       "      <td>64.1</td>\n",
       "      <td>48.8</td>\n",
       "      <td>dohc</td>\n",
       "      <td>130</td>\n",
       "      <td>111</td>\n",
       "      <td>21</td>\n",
       "      <td>27</td>\n",
       "      <td>13495</td>\n",
       "    </tr>\n",
       "    <tr>\n",
       "      <th>1</th>\n",
       "      <td>3</td>\n",
       "      <td>?</td>\n",
       "      <td>alfa-romero</td>\n",
       "      <td>gas</td>\n",
       "      <td>convertible</td>\n",
       "      <td>rwd</td>\n",
       "      <td>front</td>\n",
       "      <td>64.1</td>\n",
       "      <td>48.8</td>\n",
       "      <td>dohc</td>\n",
       "      <td>130</td>\n",
       "      <td>111</td>\n",
       "      <td>21</td>\n",
       "      <td>27</td>\n",
       "      <td>16500</td>\n",
       "    </tr>\n",
       "    <tr>\n",
       "      <th>2</th>\n",
       "      <td>1</td>\n",
       "      <td>?</td>\n",
       "      <td>alfa-romero</td>\n",
       "      <td>gas</td>\n",
       "      <td>hatchback</td>\n",
       "      <td>rwd</td>\n",
       "      <td>front</td>\n",
       "      <td>65.5</td>\n",
       "      <td>52.4</td>\n",
       "      <td>ohcv</td>\n",
       "      <td>152</td>\n",
       "      <td>154</td>\n",
       "      <td>19</td>\n",
       "      <td>26</td>\n",
       "      <td>16500</td>\n",
       "    </tr>\n",
       "    <tr>\n",
       "      <th>3</th>\n",
       "      <td>2</td>\n",
       "      <td>164</td>\n",
       "      <td>audi</td>\n",
       "      <td>gas</td>\n",
       "      <td>sedan</td>\n",
       "      <td>fwd</td>\n",
       "      <td>front</td>\n",
       "      <td>66.2</td>\n",
       "      <td>54.3</td>\n",
       "      <td>ohc</td>\n",
       "      <td>109</td>\n",
       "      <td>102</td>\n",
       "      <td>24</td>\n",
       "      <td>30</td>\n",
       "      <td>13950</td>\n",
       "    </tr>\n",
       "    <tr>\n",
       "      <th>4</th>\n",
       "      <td>2</td>\n",
       "      <td>164</td>\n",
       "      <td>audi</td>\n",
       "      <td>gas</td>\n",
       "      <td>sedan</td>\n",
       "      <td>4wd</td>\n",
       "      <td>front</td>\n",
       "      <td>66.4</td>\n",
       "      <td>54.3</td>\n",
       "      <td>ohc</td>\n",
       "      <td>136</td>\n",
       "      <td>115</td>\n",
       "      <td>18</td>\n",
       "      <td>22</td>\n",
       "      <td>17450</td>\n",
       "    </tr>\n",
       "  </tbody>\n",
       "</table>\n",
       "</div>"
      ],
      "text/plain": [
       "   symboling normalized-losses         make fuel-type   body-style  \\\n",
       "0          3                 ?  alfa-romero       gas  convertible   \n",
       "1          3                 ?  alfa-romero       gas  convertible   \n",
       "2          1                 ?  alfa-romero       gas    hatchback   \n",
       "3          2               164         audi       gas        sedan   \n",
       "4          2               164         audi       gas        sedan   \n",
       "\n",
       "  drive-wheels engine-location  width  height engine-type  engine-size  \\\n",
       "0          rwd           front   64.1    48.8        dohc          130   \n",
       "1          rwd           front   64.1    48.8        dohc          130   \n",
       "2          rwd           front   65.5    52.4        ohcv          152   \n",
       "3          fwd           front   66.2    54.3         ohc          109   \n",
       "4          4wd           front   66.4    54.3         ohc          136   \n",
       "\n",
       "  horsepower  city-mpg  highway-mpg  price  \n",
       "0        111        21           27  13495  \n",
       "1        111        21           27  16500  \n",
       "2        154        19           26  16500  \n",
       "3        102        24           30  13950  \n",
       "4        115        18           22  17450  "
      ]
     },
     "execution_count": 5,
     "metadata": {},
     "output_type": "execute_result"
    }
   ],
   "source": [
    "#to show first 5 record\n",
    "car.head()"
   ]
  },
  {
   "cell_type": "code",
   "execution_count": 6,
   "metadata": {},
   "outputs": [
    {
     "data": {
      "text/plain": [
       "(205, 15)"
      ]
     },
     "execution_count": 6,
     "metadata": {},
     "output_type": "execute_result"
    }
   ],
   "source": [
    "#to show num of row and col, use shape method\n",
    "car.shape"
   ]
  },
  {
   "cell_type": "code",
   "execution_count": 7,
   "metadata": {},
   "outputs": [
    {
     "data": {
      "text/plain": [
       "45400"
      ]
     },
     "execution_count": 7,
     "metadata": {},
     "output_type": "execute_result"
    }
   ],
   "source": [
    "#finding max price of car, use inbuilt function max() i.e from numpy lib\n",
    "car['price'].max()\n"
   ]
  },
  {
   "cell_type": "code",
   "execution_count": 8,
   "metadata": {},
   "outputs": [
    {
     "data": {
      "text/plain": [
       "74"
      ]
     },
     "execution_count": 8,
     "metadata": {},
     "output_type": "execute_result"
    }
   ],
   "source": [
    "#finding record No. of max priced car, use inbuilt method idxmax()\n",
    "#idx means record np\n",
    "car['price'].idxmax()\n",
    "#for minium price use idxmin()"
   ]
  },
  {
   "cell_type": "code",
   "execution_count": 9,
   "metadata": {},
   "outputs": [
    {
     "data": {
      "text/plain": [
       "symboling                        1\n",
       "normalized-losses                ?\n",
       "make                 mercedes-benz\n",
       "fuel-type                      gas\n",
       "body-style                 hardtop\n",
       "drive-wheels                   rwd\n",
       "engine-location              front\n",
       "width                           72\n",
       "height                        55.4\n",
       "engine-type                   ohcv\n",
       "engine-size                    304\n",
       "horsepower                     184\n",
       "city-mpg                        14\n",
       "highway-mpg                     16\n",
       "price                        45400\n",
       "Name: 74, dtype: object"
      ]
     },
     "execution_count": 9,
     "metadata": {},
     "output_type": "execute_result"
    }
   ],
   "source": [
    "#to show details of 74 no record\n",
    "car.iloc[74]"
   ]
  },
  {
   "cell_type": "code",
   "execution_count": 10,
   "metadata": {},
   "outputs": [
    {
     "data": {
      "text/plain": [
       "Index(['symboling', 'normalized-losses', 'make', 'fuel-type', 'body-style',\n",
       "       'drive-wheels', 'engine-location', 'width', 'height', 'engine-type',\n",
       "       'engine-size', 'horsepower', 'city-mpg', 'highway-mpg', 'price'],\n",
       "      dtype='object')"
      ]
     },
     "execution_count": 10,
     "metadata": {},
     "output_type": "execute_result"
    }
   ],
   "source": [
    "car.columns"
   ]
  },
  {
   "cell_type": "code",
   "execution_count": 11,
   "metadata": {},
   "outputs": [
    {
     "data": {
      "text/plain": [
       "array(['gas', 'diesel'], dtype=object)"
      ]
     },
     "execution_count": 11,
     "metadata": {},
     "output_type": "execute_result"
    }
   ],
   "source": [
    "#to show fule type of car in given dataset\n",
    "car['fuel-type'].unique()"
   ]
  },
  {
   "cell_type": "code",
   "execution_count": 12,
   "metadata": {},
   "outputs": [
    {
     "data": {
      "text/plain": [
       "gas       185\n",
       "diesel     20\n",
       "Name: fuel-type, dtype: int64"
      ]
     },
     "execution_count": 12,
     "metadata": {},
     "output_type": "execute_result"
    }
   ],
   "source": [
    "#to show how many gas cars and how many diesel cars in given datframe, use value_counts()\n",
    "car['fuel-type'].value_counts()"
   ]
  },
  {
   "cell_type": "code",
   "execution_count": 13,
   "metadata": {},
   "outputs": [
    {
     "data": {
      "text/plain": [
       "fuel-type\n",
       "diesel     316763\n",
       "gas       2394870\n",
       "Name: price, dtype: int64"
      ]
     },
     "execution_count": 13,
     "metadata": {},
     "output_type": "execute_result"
    }
   ],
   "source": [
    "#to sum price on bases of fule type, use inbuilt method groupby()\n",
    "car.groupby('fuel-type')['price'].sum()"
   ]
  },
  {
   "cell_type": "code",
   "execution_count": 14,
   "metadata": {},
   "outputs": [
    {
     "data": {
      "text/plain": [
       "fuel-type\n",
       "diesel    15838.150000\n",
       "gas       12945.243243\n",
       "Name: price, dtype: float64"
      ]
     },
     "execution_count": 14,
     "metadata": {},
     "output_type": "execute_result"
    }
   ],
   "source": [
    "#to find avg price\n",
    "car.groupby('fuel-type')['price'].mean()"
   ]
  },
  {
   "cell_type": "code",
   "execution_count": 15,
   "metadata": {},
   "outputs": [
    {
     "data": {
      "text/plain": [
       "array(['convertible', 'hatchback', 'sedan', 'wagon', 'hardtop'],\n",
       "      dtype=object)"
      ]
     },
     "execution_count": 15,
     "metadata": {},
     "output_type": "execute_result"
    }
   ],
   "source": [
    "#type of body style of car\n",
    "car['body-style'].unique()"
   ]
  },
  {
   "cell_type": "code",
   "execution_count": 16,
   "metadata": {},
   "outputs": [
    {
     "data": {
      "text/plain": [
       "sedan          96\n",
       "hatchback      70\n",
       "wagon          25\n",
       "hardtop         8\n",
       "convertible     6\n",
       "Name: body-style, dtype: int64"
      ]
     },
     "execution_count": 16,
     "metadata": {},
     "output_type": "execute_result"
    }
   ],
   "source": [
    "#how many no. of care according to body-style\n",
    "car['body-style'].value_counts()"
   ]
  },
  {
   "cell_type": "code",
   "execution_count": 17,
   "metadata": {},
   "outputs": [
    {
     "data": {
      "text/html": [
       "<div>\n",
       "<style scoped>\n",
       "    .dataframe tbody tr th:only-of-type {\n",
       "        vertical-align: middle;\n",
       "    }\n",
       "\n",
       "    .dataframe tbody tr th {\n",
       "        vertical-align: top;\n",
       "    }\n",
       "\n",
       "    .dataframe thead th {\n",
       "        text-align: right;\n",
       "    }\n",
       "</style>\n",
       "<table border=\"1\" class=\"dataframe\">\n",
       "  <thead>\n",
       "    <tr style=\"text-align: right;\">\n",
       "      <th></th>\n",
       "      <th>symboling</th>\n",
       "      <th>normalized-losses</th>\n",
       "      <th>make</th>\n",
       "      <th>fuel-type</th>\n",
       "      <th>body-style</th>\n",
       "      <th>drive-wheels</th>\n",
       "      <th>engine-location</th>\n",
       "      <th>width</th>\n",
       "      <th>height</th>\n",
       "      <th>engine-type</th>\n",
       "      <th>engine-size</th>\n",
       "      <th>horsepower</th>\n",
       "      <th>city-mpg</th>\n",
       "      <th>highway-mpg</th>\n",
       "      <th>price</th>\n",
       "    </tr>\n",
       "  </thead>\n",
       "  <tbody>\n",
       "    <tr>\n",
       "      <th>69</th>\n",
       "      <td>0</td>\n",
       "      <td>93</td>\n",
       "      <td>mercedes-benz</td>\n",
       "      <td>diesel</td>\n",
       "      <td>hardtop</td>\n",
       "      <td>rwd</td>\n",
       "      <td>front</td>\n",
       "      <td>70.3</td>\n",
       "      <td>54.9</td>\n",
       "      <td>ohc</td>\n",
       "      <td>183</td>\n",
       "      <td>123</td>\n",
       "      <td>22</td>\n",
       "      <td>25</td>\n",
       "      <td>28176</td>\n",
       "    </tr>\n",
       "    <tr>\n",
       "      <th>74</th>\n",
       "      <td>1</td>\n",
       "      <td>?</td>\n",
       "      <td>mercedes-benz</td>\n",
       "      <td>gas</td>\n",
       "      <td>hardtop</td>\n",
       "      <td>rwd</td>\n",
       "      <td>front</td>\n",
       "      <td>72.0</td>\n",
       "      <td>55.4</td>\n",
       "      <td>ohcv</td>\n",
       "      <td>304</td>\n",
       "      <td>184</td>\n",
       "      <td>14</td>\n",
       "      <td>16</td>\n",
       "      <td>45400</td>\n",
       "    </tr>\n",
       "    <tr>\n",
       "      <th>98</th>\n",
       "      <td>2</td>\n",
       "      <td>168</td>\n",
       "      <td>nissan</td>\n",
       "      <td>gas</td>\n",
       "      <td>hardtop</td>\n",
       "      <td>fwd</td>\n",
       "      <td>front</td>\n",
       "      <td>63.8</td>\n",
       "      <td>53.3</td>\n",
       "      <td>ohc</td>\n",
       "      <td>97</td>\n",
       "      <td>69</td>\n",
       "      <td>31</td>\n",
       "      <td>37</td>\n",
       "      <td>8249</td>\n",
       "    </tr>\n",
       "    <tr>\n",
       "      <th>126</th>\n",
       "      <td>3</td>\n",
       "      <td>?</td>\n",
       "      <td>porsche</td>\n",
       "      <td>gas</td>\n",
       "      <td>hardtop</td>\n",
       "      <td>rwd</td>\n",
       "      <td>rear</td>\n",
       "      <td>65.0</td>\n",
       "      <td>51.6</td>\n",
       "      <td>ohcf</td>\n",
       "      <td>194</td>\n",
       "      <td>207</td>\n",
       "      <td>17</td>\n",
       "      <td>25</td>\n",
       "      <td>32528</td>\n",
       "    </tr>\n",
       "    <tr>\n",
       "      <th>127</th>\n",
       "      <td>3</td>\n",
       "      <td>?</td>\n",
       "      <td>porsche</td>\n",
       "      <td>gas</td>\n",
       "      <td>hardtop</td>\n",
       "      <td>rwd</td>\n",
       "      <td>rear</td>\n",
       "      <td>65.0</td>\n",
       "      <td>51.6</td>\n",
       "      <td>ohcf</td>\n",
       "      <td>194</td>\n",
       "      <td>207</td>\n",
       "      <td>17</td>\n",
       "      <td>25</td>\n",
       "      <td>34028</td>\n",
       "    </tr>\n",
       "    <tr>\n",
       "      <th>167</th>\n",
       "      <td>2</td>\n",
       "      <td>134</td>\n",
       "      <td>toyota</td>\n",
       "      <td>gas</td>\n",
       "      <td>hardtop</td>\n",
       "      <td>rwd</td>\n",
       "      <td>front</td>\n",
       "      <td>65.6</td>\n",
       "      <td>52.0</td>\n",
       "      <td>ohc</td>\n",
       "      <td>146</td>\n",
       "      <td>116</td>\n",
       "      <td>24</td>\n",
       "      <td>30</td>\n",
       "      <td>8449</td>\n",
       "    </tr>\n",
       "    <tr>\n",
       "      <th>168</th>\n",
       "      <td>2</td>\n",
       "      <td>134</td>\n",
       "      <td>toyota</td>\n",
       "      <td>gas</td>\n",
       "      <td>hardtop</td>\n",
       "      <td>rwd</td>\n",
       "      <td>front</td>\n",
       "      <td>65.6</td>\n",
       "      <td>52.0</td>\n",
       "      <td>ohc</td>\n",
       "      <td>146</td>\n",
       "      <td>116</td>\n",
       "      <td>24</td>\n",
       "      <td>30</td>\n",
       "      <td>9639</td>\n",
       "    </tr>\n",
       "    <tr>\n",
       "      <th>170</th>\n",
       "      <td>2</td>\n",
       "      <td>134</td>\n",
       "      <td>toyota</td>\n",
       "      <td>gas</td>\n",
       "      <td>hardtop</td>\n",
       "      <td>rwd</td>\n",
       "      <td>front</td>\n",
       "      <td>65.6</td>\n",
       "      <td>52.0</td>\n",
       "      <td>ohc</td>\n",
       "      <td>146</td>\n",
       "      <td>116</td>\n",
       "      <td>24</td>\n",
       "      <td>30</td>\n",
       "      <td>11199</td>\n",
       "    </tr>\n",
       "  </tbody>\n",
       "</table>\n",
       "</div>"
      ],
      "text/plain": [
       "     symboling normalized-losses           make fuel-type body-style  \\\n",
       "69           0                93  mercedes-benz    diesel    hardtop   \n",
       "74           1                 ?  mercedes-benz       gas    hardtop   \n",
       "98           2               168         nissan       gas    hardtop   \n",
       "126          3                 ?        porsche       gas    hardtop   \n",
       "127          3                 ?        porsche       gas    hardtop   \n",
       "167          2               134         toyota       gas    hardtop   \n",
       "168          2               134         toyota       gas    hardtop   \n",
       "170          2               134         toyota       gas    hardtop   \n",
       "\n",
       "    drive-wheels engine-location  width  height engine-type  engine-size  \\\n",
       "69           rwd           front   70.3    54.9         ohc          183   \n",
       "74           rwd           front   72.0    55.4        ohcv          304   \n",
       "98           fwd           front   63.8    53.3         ohc           97   \n",
       "126          rwd            rear   65.0    51.6        ohcf          194   \n",
       "127          rwd            rear   65.0    51.6        ohcf          194   \n",
       "167          rwd           front   65.6    52.0         ohc          146   \n",
       "168          rwd           front   65.6    52.0         ohc          146   \n",
       "170          rwd           front   65.6    52.0         ohc          146   \n",
       "\n",
       "    horsepower  city-mpg  highway-mpg  price  \n",
       "69         123        22           25  28176  \n",
       "74         184        14           16  45400  \n",
       "98          69        31           37   8249  \n",
       "126        207        17           25  32528  \n",
       "127        207        17           25  34028  \n",
       "167        116        24           30   8449  \n",
       "168        116        24           30   9639  \n",
       "170        116        24           30  11199  "
      ]
     },
     "execution_count": 17,
     "metadata": {},
     "output_type": "execute_result"
    }
   ],
   "source": [
    "#to see all info of hardtop car\n",
    "car[car['body-style']=='hardtop']\n",
    "#condition ; car[car['body-style']=='hardtop']"
   ]
  },
  {
   "cell_type": "code",
   "execution_count": 18,
   "metadata": {},
   "outputs": [
    {
     "data": {
      "text/plain": [
       "body-style   fuel-type\n",
       "convertible  gas           131343\n",
       "hardtop      diesel         28176\n",
       "             gas           149492\n",
       "hatchback    diesel          7788\n",
       "             gas           693318\n",
       "sedan        diesel        221616\n",
       "             gas          1170601\n",
       "wagon        diesel         59183\n",
       "             gas           250116\n",
       "Name: price, dtype: int64"
      ]
     },
     "execution_count": 18,
     "metadata": {},
     "output_type": "execute_result"
    }
   ],
   "source": [
    "#to show sum of gas and diesel care taking primary as fuel--type\n",
    "car.groupby(['body-style','fuel-type'])['price'].sum()\n",
    "#condition: groupby(['body-style','fuel-type'])['price'].sum()"
   ]
  },
  {
   "cell_type": "code",
   "execution_count": 19,
   "metadata": {},
   "outputs": [
    {
     "data": {
      "text/plain": [
       "make           fuel-type\n",
       "alfa-romero    gas           46495\n",
       "audi           gas          119155\n",
       "bmw            gas          208950\n",
       "chevrolet      gas           18021\n",
       "dodge          gas           70879\n",
       "honda          gas          106401\n",
       "isuzu          gas           50833\n",
       "jaguar         gas          103800\n",
       "mazda          diesel        29139\n",
       "               gas          151960\n",
       "mercedes-benz  diesel       113576\n",
       "               gas          155600\n",
       "mercury        gas           16503\n",
       "mitsubishi     gas          120117\n",
       "nissan         diesel         7099\n",
       "               gas          180383\n",
       "peugot         diesel        78985\n",
       "               gas           91395\n",
       "plymouth       gas           55744\n",
       "porsche        gas          137602\n",
       "renault        gas           19190\n",
       "saab           gas           91340\n",
       "subaru         gas          102495\n",
       "toyota         diesel        26384\n",
       "               gas          289962\n",
       "volkswagen     diesel        39110\n",
       "               gas           81820\n",
       "volvo          diesel        22470\n",
       "               gas          176225\n",
       "Name: price, dtype: int64"
      ]
     },
     "execution_count": 19,
     "metadata": {},
     "output_type": "execute_result"
    }
   ],
   "source": [
    "car.groupby(['make','fuel-type'])['price'].sum()"
   ]
  },
  {
   "cell_type": "code",
   "execution_count": 20,
   "metadata": {},
   "outputs": [
    {
     "data": {
      "text/plain": [
       "make           body-style \n",
       "alfa-romero    convertible     29995\n",
       "               hatchback       16500\n",
       "audi           hatchback       12000\n",
       "               sedan           88235\n",
       "               wagon           18920\n",
       "bmw            sedan          208950\n",
       "chevrolet      hatchback       11446\n",
       "               sedan            6575\n",
       "dodge          hatchback       39099\n",
       "               sedan           22859\n",
       "               wagon            8921\n",
       "honda          hatchback       49381\n",
       "               sedan           49725\n",
       "               wagon            7295\n",
       "isuzu          hatchback       11048\n",
       "               sedan           39785\n",
       "jaguar         sedan          103800\n",
       "mazda          hatchback      100850\n",
       "               sedan           80249\n",
       "mercedes-benz  convertible     35056\n",
       "               hardtop         73576\n",
       "               sedan          132296\n",
       "               wagon           28248\n",
       "mercury        hatchback       16503\n",
       "mitsubishi     hatchback       86381\n",
       "               sedan           33736\n",
       "nissan         hardtop          8249\n",
       "               hatchback       72045\n",
       "               sedan           77441\n",
       "               wagon           29747\n",
       "peugot         sedan          110310\n",
       "               wagon           60070\n",
       "plymouth       hatchback       32522\n",
       "               sedan           14301\n",
       "               wagon            8921\n",
       "porsche        convertible     37028\n",
       "               hardtop         66556\n",
       "               hatchback       34018\n",
       "renault        hatchback        9895\n",
       "               wagon            9295\n",
       "saab           hatchback       45040\n",
       "               sedan           46300\n",
       "subaru         hatchback       19774\n",
       "               sedan           45353\n",
       "               wagon           37368\n",
       "toyota         convertible     17669\n",
       "               hardtop         29287\n",
       "               hatchback      134624\n",
       "               sedan           95422\n",
       "               wagon           39344\n",
       "volkswagen     convertible     11595\n",
       "               hatchback        9980\n",
       "               sedan           87065\n",
       "               wagon           12290\n",
       "volvo          sedan          149815\n",
       "               wagon           48880\n",
       "Name: price, dtype: int64"
      ]
     },
     "execution_count": 20,
     "metadata": {},
     "output_type": "execute_result"
    }
   ],
   "source": [
    "car.groupby(['make','body-style'])['price'].sum()"
   ]
  },
  {
   "cell_type": "code",
   "execution_count": 21,
   "metadata": {},
   "outputs": [
    {
     "name": "stdout",
     "output_type": "stream",
     "text": [
      "{'name': ['anu', 'deepak', 'suresh', 'asha'], 'python': [62, 76, 89, 90]}\n",
      "<class 'dict'>\n"
     ]
    }
   ],
   "source": [
    "#merge()\n",
    "#types 1. inner() 2. outer()\n",
    "#create a DataFarme with the help of dictionary\n",
    "d1={'name':['anu','deepak','suresh','asha'],'python':[62,76,89,90]}\n",
    "print(d1)\n",
    "print(type(d1))"
   ]
  },
  {
   "cell_type": "code",
   "execution_count": 22,
   "metadata": {},
   "outputs": [
    {
     "name": "stdout",
     "output_type": "stream",
     "text": [
      "     name  python\n",
      "0     anu      62\n",
      "1  deepak      76\n",
      "2  suresh      89\n",
      "3    asha      90\n"
     ]
    }
   ],
   "source": [
    "#creating dataframe\n",
    "df1=pd.DataFrame(d1)\n",
    "print(df1)"
   ]
  },
  {
   "cell_type": "code",
   "execution_count": 23,
   "metadata": {},
   "outputs": [
    {
     "name": "stdout",
     "output_type": "stream",
     "text": [
      "{'name': ['anu', 'suresh', 'asha', 'priya', 'seema'], 'ML': [50, 60, 54, 69, 90]}\n",
      "<class 'dict'>\n"
     ]
    }
   ],
   "source": [
    "#create a another DataFarme with the help of dictionary\n",
    "d2={'name':['anu','suresh','asha','priya','seema'],'ML':[50,60,54,69,90]}\n",
    "print(d2)\n",
    "print(type(d2))"
   ]
  },
  {
   "cell_type": "code",
   "execution_count": 24,
   "metadata": {},
   "outputs": [
    {
     "name": "stdout",
     "output_type": "stream",
     "text": [
      "     name  ML\n",
      "0     anu  50\n",
      "1  suresh  60\n",
      "2    asha  54\n",
      "3   priya  69\n",
      "4   seema  90\n"
     ]
    }
   ],
   "source": [
    "#creating dataframe\n",
    "df2=pd.DataFrame(d2)\n",
    "print(df2)"
   ]
  },
  {
   "cell_type": "code",
   "execution_count": 25,
   "metadata": {},
   "outputs": [
    {
     "name": "stdout",
     "output_type": "stream",
     "text": [
      "     name  python  ML\n",
      "0     anu      62  50\n",
      "1  suresh      89  60\n",
      "2    asha      90  54\n"
     ]
    }
   ],
   "source": [
    "#merge both dataframes df1 and df2 on common column name and hold in new\n",
    "#dataframe new_df\n",
    "#1. inner join means to join only common data means intersection\n",
    "new_df=pd.merge(df1,df2,on=\"name\")#bydefault inner join or equal join\n",
    "#syntax of merge\n",
    "#new dataframe=pd.merge(dataframe1,dataframe2,...,on=\"common column of all df\")\n",
    "print(new_df)"
   ]
  },
  {
   "cell_type": "code",
   "execution_count": 26,
   "metadata": {},
   "outputs": [
    {
     "name": "stdout",
     "output_type": "stream",
     "text": [
      "     name  python    ML\n",
      "0     anu    62.0  50.0\n",
      "1  deepak    76.0   NaN\n",
      "2  suresh    89.0  60.0\n",
      "3    asha    90.0  54.0\n",
      "4   priya     NaN  69.0\n",
      "5   seema     NaN  90.0\n"
     ]
    }
   ],
   "source": [
    "#outer join\n",
    "new_df=pd.merge(df1,df2,on=\"name\",how='outer')#bydefault ho=\"inner\"\n",
    "#similar to union\n",
    "print(new_df)"
   ]
  },
  {
   "cell_type": "markdown",
   "metadata": {},
   "source": [
    "# Append"
   ]
  },
  {
   "cell_type": "code",
   "execution_count": 28,
   "metadata": {},
   "outputs": [
    {
     "name": "stdout",
     "output_type": "stream",
     "text": [
      "    name  python\n",
      "0    anu      45\n",
      "1  deepa      67\n",
      "2   anil      89\n"
     ]
    }
   ],
   "source": [
    "\n",
    "#creating DataFrame with Dict\n",
    "d1={'name':['anu','deepa','anil'],'python':[45,67,89]}\n",
    "df1=pd.DataFrame(d1)\n",
    "print(df1)"
   ]
  },
  {
   "cell_type": "code",
   "execution_count": 29,
   "metadata": {},
   "outputs": [
    {
     "name": "stdout",
     "output_type": "stream",
     "text": [
      "      name  python\n",
      "0  shushak      90\n",
      "1   suresh      67\n",
      "2    pinki      58\n",
      "3    mohan      79\n",
      "4      ram      45\n"
     ]
    }
   ],
   "source": [
    "d2={'name':['shushak','suresh','pinki','mohan','ram'],'python':[90,67,58,79,45]}\n",
    "df2=pd.DataFrame(d2)\n",
    "print(df2)"
   ]
  },
  {
   "cell_type": "code",
   "execution_count": 35,
   "metadata": {},
   "outputs": [
    {
     "data": {
      "text/html": [
       "<div>\n",
       "<style scoped>\n",
       "    .dataframe tbody tr th:only-of-type {\n",
       "        vertical-align: middle;\n",
       "    }\n",
       "\n",
       "    .dataframe tbody tr th {\n",
       "        vertical-align: top;\n",
       "    }\n",
       "\n",
       "    .dataframe thead th {\n",
       "        text-align: right;\n",
       "    }\n",
       "</style>\n",
       "<table border=\"1\" class=\"dataframe\">\n",
       "  <thead>\n",
       "    <tr style=\"text-align: right;\">\n",
       "      <th></th>\n",
       "      <th>name</th>\n",
       "      <th>python</th>\n",
       "    </tr>\n",
       "  </thead>\n",
       "  <tbody>\n",
       "    <tr>\n",
       "      <th>0</th>\n",
       "      <td>anu</td>\n",
       "      <td>45</td>\n",
       "    </tr>\n",
       "    <tr>\n",
       "      <th>1</th>\n",
       "      <td>deepa</td>\n",
       "      <td>67</td>\n",
       "    </tr>\n",
       "    <tr>\n",
       "      <th>2</th>\n",
       "      <td>anil</td>\n",
       "      <td>89</td>\n",
       "    </tr>\n",
       "    <tr>\n",
       "      <th>0</th>\n",
       "      <td>shushak</td>\n",
       "      <td>90</td>\n",
       "    </tr>\n",
       "    <tr>\n",
       "      <th>1</th>\n",
       "      <td>suresh</td>\n",
       "      <td>67</td>\n",
       "    </tr>\n",
       "    <tr>\n",
       "      <th>2</th>\n",
       "      <td>pinki</td>\n",
       "      <td>58</td>\n",
       "    </tr>\n",
       "    <tr>\n",
       "      <th>3</th>\n",
       "      <td>mohan</td>\n",
       "      <td>79</td>\n",
       "    </tr>\n",
       "    <tr>\n",
       "      <th>4</th>\n",
       "      <td>ram</td>\n",
       "      <td>45</td>\n",
       "    </tr>\n",
       "  </tbody>\n",
       "</table>\n",
       "</div>"
      ],
      "text/plain": [
       "      name  python\n",
       "0      anu      45\n",
       "1    deepa      67\n",
       "2     anil      89\n",
       "0  shushak      90\n",
       "1   suresh      67\n",
       "2    pinki      58\n",
       "3    mohan      79\n",
       "4      ram      45"
      ]
     },
     "execution_count": 35,
     "metadata": {},
     "output_type": "execute_result"
    }
   ],
   "source": [
    "#using Append function\n",
    "df3=df1.append(df2)\n",
    "df3"
   ]
  },
  {
   "cell_type": "code",
   "execution_count": 36,
   "metadata": {},
   "outputs": [
    {
     "data": {
      "text/html": [
       "<div>\n",
       "<style scoped>\n",
       "    .dataframe tbody tr th:only-of-type {\n",
       "        vertical-align: middle;\n",
       "    }\n",
       "\n",
       "    .dataframe tbody tr th {\n",
       "        vertical-align: top;\n",
       "    }\n",
       "\n",
       "    .dataframe thead th {\n",
       "        text-align: right;\n",
       "    }\n",
       "</style>\n",
       "<table border=\"1\" class=\"dataframe\">\n",
       "  <thead>\n",
       "    <tr style=\"text-align: right;\">\n",
       "      <th></th>\n",
       "      <th>name</th>\n",
       "      <th>python</th>\n",
       "    </tr>\n",
       "  </thead>\n",
       "  <tbody>\n",
       "    <tr>\n",
       "      <th>0</th>\n",
       "      <td>anu</td>\n",
       "      <td>45</td>\n",
       "    </tr>\n",
       "    <tr>\n",
       "      <th>1</th>\n",
       "      <td>deepa</td>\n",
       "      <td>67</td>\n",
       "    </tr>\n",
       "    <tr>\n",
       "      <th>2</th>\n",
       "      <td>anil</td>\n",
       "      <td>89</td>\n",
       "    </tr>\n",
       "    <tr>\n",
       "      <th>3</th>\n",
       "      <td>shushak</td>\n",
       "      <td>90</td>\n",
       "    </tr>\n",
       "    <tr>\n",
       "      <th>4</th>\n",
       "      <td>suresh</td>\n",
       "      <td>67</td>\n",
       "    </tr>\n",
       "    <tr>\n",
       "      <th>5</th>\n",
       "      <td>pinki</td>\n",
       "      <td>58</td>\n",
       "    </tr>\n",
       "    <tr>\n",
       "      <th>6</th>\n",
       "      <td>mohan</td>\n",
       "      <td>79</td>\n",
       "    </tr>\n",
       "    <tr>\n",
       "      <th>7</th>\n",
       "      <td>ram</td>\n",
       "      <td>45</td>\n",
       "    </tr>\n",
       "  </tbody>\n",
       "</table>\n",
       "</div>"
      ],
      "text/plain": [
       "      name  python\n",
       "0      anu      45\n",
       "1    deepa      67\n",
       "2     anil      89\n",
       "3  shushak      90\n",
       "4   suresh      67\n",
       "5    pinki      58\n",
       "6    mohan      79\n",
       "7      ram      45"
      ]
     },
     "execution_count": 36,
     "metadata": {},
     "output_type": "execute_result"
    }
   ],
   "source": [
    "#removing record (number/index) num\n",
    "df3=df1.append(df2,ignore_index=True)\n",
    "df3"
   ]
  },
  {
   "cell_type": "markdown",
   "metadata": {},
   "source": [
    "# print data in order "
   ]
  },
  {
   "cell_type": "code",
   "execution_count": 40,
   "metadata": {},
   "outputs": [
    {
     "name": "stdout",
     "output_type": "stream",
     "text": [
      "65\n",
      "106\n",
      "68\n",
      "116\n"
     ]
    }
   ],
   "source": [
    "#to find ascii value (American Standard Code For Information Interchange)\n",
    "print(ord(\"A\"))\n",
    "print(ord(\"j\"))\n",
    "print(ord(\"D\"))\n",
    "print(ord(\"t\"))"
   ]
  },
  {
   "cell_type": "code",
   "execution_count": 43,
   "metadata": {},
   "outputs": [
    {
     "data": {
      "text/html": [
       "<div>\n",
       "<style scoped>\n",
       "    .dataframe tbody tr th:only-of-type {\n",
       "        vertical-align: middle;\n",
       "    }\n",
       "\n",
       "    .dataframe tbody tr th {\n",
       "        vertical-align: top;\n",
       "    }\n",
       "\n",
       "    .dataframe thead th {\n",
       "        text-align: right;\n",
       "    }\n",
       "</style>\n",
       "<table border=\"1\" class=\"dataframe\">\n",
       "  <thead>\n",
       "    <tr style=\"text-align: right;\">\n",
       "      <th></th>\n",
       "      <th>name</th>\n",
       "      <th>python</th>\n",
       "    </tr>\n",
       "  </thead>\n",
       "  <tbody>\n",
       "    <tr>\n",
       "      <th>2</th>\n",
       "      <td>anil</td>\n",
       "      <td>89</td>\n",
       "    </tr>\n",
       "    <tr>\n",
       "      <th>0</th>\n",
       "      <td>anu</td>\n",
       "      <td>45</td>\n",
       "    </tr>\n",
       "    <tr>\n",
       "      <th>1</th>\n",
       "      <td>deepa</td>\n",
       "      <td>67</td>\n",
       "    </tr>\n",
       "    <tr>\n",
       "      <th>6</th>\n",
       "      <td>mohan</td>\n",
       "      <td>79</td>\n",
       "    </tr>\n",
       "    <tr>\n",
       "      <th>5</th>\n",
       "      <td>pinki</td>\n",
       "      <td>58</td>\n",
       "    </tr>\n",
       "    <tr>\n",
       "      <th>7</th>\n",
       "      <td>ram</td>\n",
       "      <td>45</td>\n",
       "    </tr>\n",
       "    <tr>\n",
       "      <th>3</th>\n",
       "      <td>shushak</td>\n",
       "      <td>90</td>\n",
       "    </tr>\n",
       "    <tr>\n",
       "      <th>4</th>\n",
       "      <td>suresh</td>\n",
       "      <td>67</td>\n",
       "    </tr>\n",
       "  </tbody>\n",
       "</table>\n",
       "</div>"
      ],
      "text/plain": [
       "      name  python\n",
       "2     anil      89\n",
       "0      anu      45\n",
       "1    deepa      67\n",
       "6    mohan      79\n",
       "5    pinki      58\n",
       "7      ram      45\n",
       "3  shushak      90\n",
       "4   suresh      67"
      ]
     },
     "execution_count": 43,
     "metadata": {},
     "output_type": "execute_result"
    }
   ],
   "source": [
    "#sort_values() : to arrange records in ascending or descending order\n",
    "#according to column\n",
    "df3.sort_values('name') #sort_values(by='column name',ascending=True) \n",
    "#bydefault ascending\n",
    "#to sort data in temporary\n"
   ]
  },
  {
   "cell_type": "code",
   "execution_count": 44,
   "metadata": {},
   "outputs": [
    {
     "data": {
      "text/html": [
       "<div>\n",
       "<style scoped>\n",
       "    .dataframe tbody tr th:only-of-type {\n",
       "        vertical-align: middle;\n",
       "    }\n",
       "\n",
       "    .dataframe tbody tr th {\n",
       "        vertical-align: top;\n",
       "    }\n",
       "\n",
       "    .dataframe thead th {\n",
       "        text-align: right;\n",
       "    }\n",
       "</style>\n",
       "<table border=\"1\" class=\"dataframe\">\n",
       "  <thead>\n",
       "    <tr style=\"text-align: right;\">\n",
       "      <th></th>\n",
       "      <th>name</th>\n",
       "      <th>python</th>\n",
       "    </tr>\n",
       "  </thead>\n",
       "  <tbody>\n",
       "    <tr>\n",
       "      <th>0</th>\n",
       "      <td>anil</td>\n",
       "      <td>89</td>\n",
       "    </tr>\n",
       "    <tr>\n",
       "      <th>1</th>\n",
       "      <td>anu</td>\n",
       "      <td>45</td>\n",
       "    </tr>\n",
       "    <tr>\n",
       "      <th>2</th>\n",
       "      <td>deepa</td>\n",
       "      <td>67</td>\n",
       "    </tr>\n",
       "    <tr>\n",
       "      <th>3</th>\n",
       "      <td>mohan</td>\n",
       "      <td>79</td>\n",
       "    </tr>\n",
       "    <tr>\n",
       "      <th>4</th>\n",
       "      <td>pinki</td>\n",
       "      <td>58</td>\n",
       "    </tr>\n",
       "    <tr>\n",
       "      <th>5</th>\n",
       "      <td>ram</td>\n",
       "      <td>45</td>\n",
       "    </tr>\n",
       "    <tr>\n",
       "      <th>6</th>\n",
       "      <td>shushak</td>\n",
       "      <td>90</td>\n",
       "    </tr>\n",
       "    <tr>\n",
       "      <th>7</th>\n",
       "      <td>suresh</td>\n",
       "      <td>67</td>\n",
       "    </tr>\n",
       "  </tbody>\n",
       "</table>\n",
       "</div>"
      ],
      "text/plain": [
       "      name  python\n",
       "0     anil      89\n",
       "1      anu      45\n",
       "2    deepa      67\n",
       "3    mohan      79\n",
       "4    pinki      58\n",
       "5      ram      45\n",
       "6  shushak      90\n",
       "7   suresh      67"
      ]
     },
     "execution_count": 44,
     "metadata": {},
     "output_type": "execute_result"
    }
   ],
   "source": [
    "#sort_values() : to arrange records in ascending or descending order\n",
    "#according to column\n",
    "df3.sort_values('name',ignore_index=True) #sort_values(by='column name',ascending=True) \n",
    "#bydefault ascending\n",
    "#to sort data in temporary"
   ]
  },
  {
   "cell_type": "markdown",
   "metadata": {},
   "source": [
    "# for decending order"
   ]
  },
  {
   "cell_type": "code",
   "execution_count": 45,
   "metadata": {},
   "outputs": [
    {
     "data": {
      "text/html": [
       "<div>\n",
       "<style scoped>\n",
       "    .dataframe tbody tr th:only-of-type {\n",
       "        vertical-align: middle;\n",
       "    }\n",
       "\n",
       "    .dataframe tbody tr th {\n",
       "        vertical-align: top;\n",
       "    }\n",
       "\n",
       "    .dataframe thead th {\n",
       "        text-align: right;\n",
       "    }\n",
       "</style>\n",
       "<table border=\"1\" class=\"dataframe\">\n",
       "  <thead>\n",
       "    <tr style=\"text-align: right;\">\n",
       "      <th></th>\n",
       "      <th>name</th>\n",
       "      <th>python</th>\n",
       "    </tr>\n",
       "  </thead>\n",
       "  <tbody>\n",
       "    <tr>\n",
       "      <th>0</th>\n",
       "      <td>suresh</td>\n",
       "      <td>67</td>\n",
       "    </tr>\n",
       "    <tr>\n",
       "      <th>1</th>\n",
       "      <td>shushak</td>\n",
       "      <td>90</td>\n",
       "    </tr>\n",
       "    <tr>\n",
       "      <th>2</th>\n",
       "      <td>ram</td>\n",
       "      <td>45</td>\n",
       "    </tr>\n",
       "    <tr>\n",
       "      <th>3</th>\n",
       "      <td>pinki</td>\n",
       "      <td>58</td>\n",
       "    </tr>\n",
       "    <tr>\n",
       "      <th>4</th>\n",
       "      <td>mohan</td>\n",
       "      <td>79</td>\n",
       "    </tr>\n",
       "    <tr>\n",
       "      <th>5</th>\n",
       "      <td>deepa</td>\n",
       "      <td>67</td>\n",
       "    </tr>\n",
       "    <tr>\n",
       "      <th>6</th>\n",
       "      <td>anu</td>\n",
       "      <td>45</td>\n",
       "    </tr>\n",
       "    <tr>\n",
       "      <th>7</th>\n",
       "      <td>anil</td>\n",
       "      <td>89</td>\n",
       "    </tr>\n",
       "  </tbody>\n",
       "</table>\n",
       "</div>"
      ],
      "text/plain": [
       "      name  python\n",
       "0   suresh      67\n",
       "1  shushak      90\n",
       "2      ram      45\n",
       "3    pinki      58\n",
       "4    mohan      79\n",
       "5    deepa      67\n",
       "6      anu      45\n",
       "7     anil      89"
      ]
     },
     "execution_count": 45,
     "metadata": {},
     "output_type": "execute_result"
    }
   ],
   "source": [
    "#sort_values() : to arrange records in ascending or descending order\n",
    "#according to column\n",
    "df3.sort_values('name',ascending=False,ignore_index=True) #sort_values(by='column name',ascending=True) \n",
    "#bydefault ascending\n",
    "#to sort data in temporary"
   ]
  },
  {
   "cell_type": "code",
   "execution_count": null,
   "metadata": {},
   "outputs": [],
   "source": []
  }
 ],
 "metadata": {
  "kernelspec": {
   "display_name": "Python 3 (ipykernel)",
   "language": "python",
   "name": "python3"
  },
  "language_info": {
   "codemirror_mode": {
    "name": "ipython",
    "version": 3
   },
   "file_extension": ".py",
   "mimetype": "text/x-python",
   "name": "python",
   "nbconvert_exporter": "python",
   "pygments_lexer": "ipython3",
   "version": "3.10.1"
  }
 },
 "nbformat": 4,
 "nbformat_minor": 4
}
