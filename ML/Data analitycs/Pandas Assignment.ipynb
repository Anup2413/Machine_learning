{
 "cells": [
  {
   "cell_type": "code",
   "execution_count": 1,
   "id": "4212f3aa",
   "metadata": {},
   "outputs": [
    {
     "data": {
      "text/plain": [
       "'\\nItem\\t Material\\t                                     Colour\\t Price\\n Sofa\\t Wooden\\t                                          Maroon\\t 25000\\n Dining Table\\t Plywood\\t                              Yellow\\t 20000\\n Chair\\t Plastic\\t                                          Red\\t 1500\\n Sofa\\t Stainless Steel\\t                                   Silver\\t 55000\\nWooden \\t Light                                                 Blue\\t 2500\\n \\t Aluminum\\t                                              Golden\\t 65000\\n '"
      ]
     },
     "execution_count": 1,
     "metadata": {},
     "output_type": "execute_result"
    }
   ],
   "source": [
    "'''\n",
    "Item\t Material\t                                     Colour\t Price\n",
    " Sofa\t Wooden\t                                          Maroon\t 25000\n",
    " Dining Table\t Plywood\t                              Yellow\t 20000\n",
    " Chair\t Plastic\t                                          Red\t 1500\n",
    " Sofa\t Stainless Steel\t                                   Silver\t 55000\n",
    "Wooden \t Light                                                 Blue\t 2500\n",
    " \t Aluminum\t                                              Golden\t 65000\n",
    " '''"
   ]
  },
  {
   "cell_type": "code",
   "execution_count": 2,
   "id": "43e8e42f",
   "metadata": {},
   "outputs": [
    {
     "name": "stdout",
     "output_type": "stream",
     "text": [
      "['Sofa', 'Dining Table', 'Chair', 'Sofa', 'Chair', 'Dining Table']\n",
      "<class 'list'>\n"
     ]
    }
   ],
   "source": [
    "Item=[\"Sofa\",\"Dining Table\",\"Chair\",\"Sofa\",\"Chair\",\"Dining Table\"]\n",
    "print(Item)\n",
    "print(type(Item))"
   ]
  },
  {
   "cell_type": "code",
   "execution_count": 3,
   "id": "9d4001af",
   "metadata": {},
   "outputs": [
    {
     "name": "stdout",
     "output_type": "stream",
     "text": [
      "['Wooden', 'Plywood', 'Plastic', 'StainlessSteel', 'Wooden', 'Aluminum']\n",
      "<class 'list'>\n"
     ]
    }
   ],
   "source": [
    "Material=['Wooden','Plywood','Plastic','Stainless' 'Steel','Wooden','Aluminum']\n",
    "print(Material)\n",
    "print(type(Material))"
   ]
  },
  {
   "cell_type": "code",
   "execution_count": 4,
   "id": "cdaecd76",
   "metadata": {},
   "outputs": [
    {
     "name": "stdout",
     "output_type": "stream",
     "text": [
      "['Maroon', 'Yellow', 'Red', 'Silver', 'Light Blue', 'Golden']\n",
      "<class 'list'>\n"
     ]
    }
   ],
   "source": [
    "Colour=['Maroon','Yellow','Red','Silver','Light Blue','Golden']\n",
    "print(Colour)\n",
    "print(type(Colour))"
   ]
  },
  {
   "cell_type": "code",
   "execution_count": 5,
   "id": "7cfa63dd",
   "metadata": {},
   "outputs": [
    {
     "name": "stdout",
     "output_type": "stream",
     "text": [
      "[25000, 20000, 1500, 55000, 2500, 65000]\n",
      "<class 'list'>\n"
     ]
    }
   ],
   "source": [
    "Price=[25000,20000,1500,55000,2500,65000]\n",
    "print(Price)\n",
    "print(type(Price))"
   ]
  },
  {
   "cell_type": "code",
   "execution_count": 6,
   "id": "e49fb527",
   "metadata": {},
   "outputs": [
    {
     "name": "stdout",
     "output_type": "stream",
     "text": [
      "{'Item': ['Sofa', 'Dining Table', 'Chair', 'Sofa', 'Chair', 'Dining Table'], 'Material': ['Wooden', 'Plywood', 'Plastic', 'StainlessSteel', 'Wooden', 'Aluminum'], 'Colour': ['Maroon', 'Yellow', 'Red', 'Silver', 'Light Blue', 'Golden'], 'Price': [25000, 20000, 1500, 55000, 2500, 65000]}\n",
      "<class 'dict'>\n"
     ]
    }
   ],
   "source": [
    "dic={'Item':Item,'Material':Material,'Colour':Colour,'Price':Price}\n",
    "print(dic)\n",
    "print(type(dic))"
   ]
  },
  {
   "cell_type": "code",
   "execution_count": 7,
   "id": "1695ee47",
   "metadata": {},
   "outputs": [
    {
     "data": {
      "text/html": [
       "<div>\n",
       "<style scoped>\n",
       "    .dataframe tbody tr th:only-of-type {\n",
       "        vertical-align: middle;\n",
       "    }\n",
       "\n",
       "    .dataframe tbody tr th {\n",
       "        vertical-align: top;\n",
       "    }\n",
       "\n",
       "    .dataframe thead th {\n",
       "        text-align: right;\n",
       "    }\n",
       "</style>\n",
       "<table border=\"1\" class=\"dataframe\">\n",
       "  <thead>\n",
       "    <tr style=\"text-align: right;\">\n",
       "      <th></th>\n",
       "      <th>Item</th>\n",
       "      <th>Material</th>\n",
       "      <th>Colour</th>\n",
       "      <th>Price</th>\n",
       "    </tr>\n",
       "  </thead>\n",
       "  <tbody>\n",
       "    <tr>\n",
       "      <th>0</th>\n",
       "      <td>Sofa</td>\n",
       "      <td>Wooden</td>\n",
       "      <td>Maroon</td>\n",
       "      <td>25000</td>\n",
       "    </tr>\n",
       "    <tr>\n",
       "      <th>1</th>\n",
       "      <td>Dining Table</td>\n",
       "      <td>Plywood</td>\n",
       "      <td>Yellow</td>\n",
       "      <td>20000</td>\n",
       "    </tr>\n",
       "    <tr>\n",
       "      <th>2</th>\n",
       "      <td>Chair</td>\n",
       "      <td>Plastic</td>\n",
       "      <td>Red</td>\n",
       "      <td>1500</td>\n",
       "    </tr>\n",
       "    <tr>\n",
       "      <th>3</th>\n",
       "      <td>Sofa</td>\n",
       "      <td>StainlessSteel</td>\n",
       "      <td>Silver</td>\n",
       "      <td>55000</td>\n",
       "    </tr>\n",
       "    <tr>\n",
       "      <th>4</th>\n",
       "      <td>Chair</td>\n",
       "      <td>Wooden</td>\n",
       "      <td>Light Blue</td>\n",
       "      <td>2500</td>\n",
       "    </tr>\n",
       "    <tr>\n",
       "      <th>5</th>\n",
       "      <td>Dining Table</td>\n",
       "      <td>Aluminum</td>\n",
       "      <td>Golden</td>\n",
       "      <td>65000</td>\n",
       "    </tr>\n",
       "  </tbody>\n",
       "</table>\n",
       "</div>"
      ],
      "text/plain": [
       "           Item        Material      Colour  Price\n",
       "0          Sofa          Wooden      Maroon  25000\n",
       "1  Dining Table         Plywood      Yellow  20000\n",
       "2         Chair         Plastic         Red   1500\n",
       "3          Sofa  StainlessSteel      Silver  55000\n",
       "4         Chair          Wooden  Light Blue   2500\n",
       "5  Dining Table        Aluminum      Golden  65000"
      ]
     },
     "execution_count": 7,
     "metadata": {},
     "output_type": "execute_result"
    }
   ],
   "source": [
    "import pandas as pd\n",
    "df=pd.DataFrame(dic)\n",
    "df"
   ]
  },
  {
   "cell_type": "code",
   "execution_count": 8,
   "id": "906dda52",
   "metadata": {},
   "outputs": [
    {
     "ename": "TypeError",
     "evalue": "unsupported operand type(s) for &: 'str' and 'str'",
     "output_type": "error",
     "traceback": [
      "\u001b[1;31m---------------------------------------------------------------------------\u001b[0m",
      "\u001b[1;31mTypeError\u001b[0m                                 Traceback (most recent call last)",
      "\u001b[1;32m~\\AppData\\Local\\Temp/ipykernel_5308/2512392839.py\u001b[0m in \u001b[0;36m<module>\u001b[1;34m\u001b[0m\n\u001b[0;32m      1\u001b[0m \u001b[1;31m#display the Details of chair and sofa\u001b[0m\u001b[1;33m\u001b[0m\u001b[1;33m\u001b[0m\u001b[0m\n\u001b[1;32m----> 2\u001b[1;33m \u001b[0mdf\u001b[0m\u001b[1;33m[\u001b[0m\u001b[0mdf\u001b[0m\u001b[1;33m[\u001b[0m\u001b[1;34m\"Item\"\u001b[0m\u001b[1;33m]\u001b[0m\u001b[1;33m==\u001b[0m\u001b[1;34m\"Chair\"\u001b[0m \u001b[1;33m&\u001b[0m \u001b[1;34m\"Sofa\"\u001b[0m\u001b[1;33m]\u001b[0m\u001b[1;33m\u001b[0m\u001b[1;33m\u001b[0m\u001b[0m\n\u001b[0m",
      "\u001b[1;31mTypeError\u001b[0m: unsupported operand type(s) for &: 'str' and 'str'"
     ]
    }
   ],
   "source": [
    "#display the Details of chair and sofa\n",
    "df[df[\"Item\"]==\"Chair\" & \"Sofa\"]"
   ]
  },
  {
   "cell_type": "code",
   "execution_count": 9,
   "id": "09a60bd7",
   "metadata": {},
   "outputs": [
    {
     "name": "stdout",
     "output_type": "stream",
     "text": [
      "    Item Material      Colour  Price\n",
      "2  Chair  Plastic         Red   1500\n",
      "4  Chair   Wooden  Light Blue   2500\n",
      "   Item        Material  Colour  Price\n",
      "0  Sofa          Wooden  Maroon  25000\n",
      "3  Sofa  StainlessSteel  Silver  55000\n"
     ]
    }
   ],
   "source": [
    "#display the Details of chair and sofa\n",
    "Chair=df[df[\"Item\"]==\"Chair\"]\n",
    "Sofa=df[df[\"Item\"]==\"Sofa\"]\n",
    "print(Chair)\n",
    "print(Sofa)"
   ]
  },
  {
   "cell_type": "code",
   "execution_count": 10,
   "id": "4fcee95c",
   "metadata": {},
   "outputs": [
    {
     "data": {
      "text/html": [
       "<div>\n",
       "<style scoped>\n",
       "    .dataframe tbody tr th:only-of-type {\n",
       "        vertical-align: middle;\n",
       "    }\n",
       "\n",
       "    .dataframe tbody tr th {\n",
       "        vertical-align: top;\n",
       "    }\n",
       "\n",
       "    .dataframe thead th {\n",
       "        text-align: right;\n",
       "    }\n",
       "</style>\n",
       "<table border=\"1\" class=\"dataframe\">\n",
       "  <thead>\n",
       "    <tr style=\"text-align: right;\">\n",
       "      <th></th>\n",
       "      <th>Item</th>\n",
       "      <th>Material</th>\n",
       "      <th>Colour</th>\n",
       "      <th>Price</th>\n",
       "    </tr>\n",
       "  </thead>\n",
       "  <tbody>\n",
       "    <tr>\n",
       "      <th>3</th>\n",
       "      <td>Sofa</td>\n",
       "      <td>StainlessSteel</td>\n",
       "      <td>Silver</td>\n",
       "      <td>55000</td>\n",
       "    </tr>\n",
       "    <tr>\n",
       "      <th>5</th>\n",
       "      <td>Dining Table</td>\n",
       "      <td>Aluminum</td>\n",
       "      <td>Golden</td>\n",
       "      <td>65000</td>\n",
       "    </tr>\n",
       "  </tbody>\n",
       "</table>\n",
       "</div>"
      ],
      "text/plain": [
       "           Item        Material  Colour  Price\n",
       "3          Sofa  StainlessSteel  Silver  55000\n",
       "5  Dining Table        Aluminum  Golden  65000"
      ]
     },
     "execution_count": 10,
     "metadata": {},
     "output_type": "execute_result"
    }
   ],
   "source": [
    "#Display furniture details which price is more than 25000.\n",
    "df[df[\"Price\"]>25000]"
   ]
  },
  {
   "cell_type": "code",
   "execution_count": 11,
   "id": "3a11817e",
   "metadata": {},
   "outputs": [
    {
     "data": {
      "text/html": [
       "<div>\n",
       "<style scoped>\n",
       "    .dataframe tbody tr th:only-of-type {\n",
       "        vertical-align: middle;\n",
       "    }\n",
       "\n",
       "    .dataframe tbody tr th {\n",
       "        vertical-align: top;\n",
       "    }\n",
       "\n",
       "    .dataframe thead th {\n",
       "        text-align: right;\n",
       "    }\n",
       "</style>\n",
       "<table border=\"1\" class=\"dataframe\">\n",
       "  <thead>\n",
       "    <tr style=\"text-align: right;\">\n",
       "      <th></th>\n",
       "      <th>Item</th>\n",
       "      <th>Material</th>\n",
       "      <th>Colour</th>\n",
       "      <th>Price</th>\n",
       "    </tr>\n",
       "  </thead>\n",
       "  <tbody>\n",
       "    <tr>\n",
       "      <th>2</th>\n",
       "      <td>Chair</td>\n",
       "      <td>Plastic</td>\n",
       "      <td>Red</td>\n",
       "      <td>1500</td>\n",
       "    </tr>\n",
       "    <tr>\n",
       "      <th>4</th>\n",
       "      <td>Chair</td>\n",
       "      <td>Wooden</td>\n",
       "      <td>Light Blue</td>\n",
       "      <td>2500</td>\n",
       "    </tr>\n",
       "  </tbody>\n",
       "</table>\n",
       "</div>"
      ],
      "text/plain": [
       "    Item Material      Colour  Price\n",
       "2  Chair  Plastic         Red   1500\n",
       "4  Chair   Wooden  Light Blue   2500"
      ]
     },
     "execution_count": 11,
     "metadata": {},
     "output_type": "execute_result"
    }
   ],
   "source": [
    "#Display the furniture details price under 10000.\n",
    "df[df[\"Price\"]<10000]"
   ]
  },
  {
   "cell_type": "code",
   "execution_count": 12,
   "id": "9585d494",
   "metadata": {},
   "outputs": [
    {
     "data": {
      "text/plain": [
       "age    [24, 25, 25, 27, 30]\n",
       "dtype: object"
      ]
     },
     "execution_count": 12,
     "metadata": {},
     "output_type": "execute_result"
    }
   ],
   "source": [
    "dic1={\"age\":[24,25,25,27,30]}\n",
    "s=pd.Series(dic1)\n",
    "s"
   ]
  }
 ],
 "metadata": {
  "kernelspec": {
   "display_name": "Python 3 (ipykernel)",
   "language": "python",
   "name": "python3"
  },
  "language_info": {
   "codemirror_mode": {
    "name": "ipython",
    "version": 3
   },
   "file_extension": ".py",
   "mimetype": "text/x-python",
   "name": "python",
   "nbconvert_exporter": "python",
   "pygments_lexer": "ipython3",
   "version": "3.10.1"
  }
 },
 "nbformat": 4,
 "nbformat_minor": 5
}
