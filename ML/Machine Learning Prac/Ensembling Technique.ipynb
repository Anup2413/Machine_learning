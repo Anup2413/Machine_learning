{
 "cells": [
  {
   "cell_type": "code",
   "execution_count": null,
   "id": "693c04ff",
   "metadata": {},
   "outputs": [],
   "source": [
    "'''Ensembling Technique : \n",
    "1. Naive Aggregation method\n",
    "a. Hard voting      b. soft voting\n",
    "2. Bootstraping method\n",
    "a. Bagging    b. pasting    c. random forest tree\n",
    "3. Boosting Technique\n",
    "a. ADA Boost    b. Gredient Boost     c. Extreme Gradient Boost(XGB)\n",
    "4. Stacking classifier\n",
    "'''"
   ]
  }
 ],
 "metadata": {
  "kernelspec": {
   "display_name": "Python 3 (ipykernel)",
   "language": "python",
   "name": "python3"
  },
  "language_info": {
   "codemirror_mode": {
    "name": "ipython",
    "version": 3
   },
   "file_extension": ".py",
   "mimetype": "text/x-python",
   "name": "python",
   "nbconvert_exporter": "python",
   "pygments_lexer": "ipython3",
   "version": "3.10.1"
  }
 },
 "nbformat": 4,
 "nbformat_minor": 5
}
