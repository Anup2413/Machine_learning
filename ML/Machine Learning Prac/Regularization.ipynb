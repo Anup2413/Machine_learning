{
 "cells": [
  {
   "cell_type": "code",
   "execution_count": 1,
   "id": "a3942dab",
   "metadata": {},
   "outputs": [],
   "source": [
    "import numpy as np\n",
    "import pandas as pd\n",
    "import seaborn as sns\n",
    "import matplotlib.pyplot as plt\n",
    "import warnings \n",
    "warnings.filterwarnings(\"ignore\")"
   ]
  },
  {
   "cell_type": "code",
   "execution_count": 2,
   "id": "3c4028b0",
   "metadata": {},
   "outputs": [],
   "source": [
    "#to load csv file\n",
    "df=pd.read_csv('automobile_data.csv') #here car is user defined dataframe"
   ]
  },
  {
   "cell_type": "code",
   "execution_count": 3,
   "id": "6d491232",
   "metadata": {},
   "outputs": [
    {
     "data": {
      "text/html": [
       "<div>\n",
       "<style scoped>\n",
       "    .dataframe tbody tr th:only-of-type {\n",
       "        vertical-align: middle;\n",
       "    }\n",
       "\n",
       "    .dataframe tbody tr th {\n",
       "        vertical-align: top;\n",
       "    }\n",
       "\n",
       "    .dataframe thead th {\n",
       "        text-align: right;\n",
       "    }\n",
       "</style>\n",
       "<table border=\"1\" class=\"dataframe\">\n",
       "  <thead>\n",
       "    <tr style=\"text-align: right;\">\n",
       "      <th></th>\n",
       "      <th>symboling</th>\n",
       "      <th>normalized-losses</th>\n",
       "      <th>make</th>\n",
       "      <th>fuel-type</th>\n",
       "      <th>body-style</th>\n",
       "      <th>drive-wheels</th>\n",
       "      <th>engine-location</th>\n",
       "      <th>width</th>\n",
       "      <th>height</th>\n",
       "      <th>engine-type</th>\n",
       "      <th>engine-size</th>\n",
       "      <th>horsepower</th>\n",
       "      <th>city-mpg</th>\n",
       "      <th>highway-mpg</th>\n",
       "      <th>price</th>\n",
       "    </tr>\n",
       "  </thead>\n",
       "  <tbody>\n",
       "    <tr>\n",
       "      <th>0</th>\n",
       "      <td>3</td>\n",
       "      <td>?</td>\n",
       "      <td>alfa-romero</td>\n",
       "      <td>gas</td>\n",
       "      <td>convertible</td>\n",
       "      <td>rwd</td>\n",
       "      <td>front</td>\n",
       "      <td>64.1</td>\n",
       "      <td>48.8</td>\n",
       "      <td>dohc</td>\n",
       "      <td>130</td>\n",
       "      <td>111</td>\n",
       "      <td>21</td>\n",
       "      <td>27</td>\n",
       "      <td>13495</td>\n",
       "    </tr>\n",
       "    <tr>\n",
       "      <th>1</th>\n",
       "      <td>3</td>\n",
       "      <td>?</td>\n",
       "      <td>alfa-romero</td>\n",
       "      <td>gas</td>\n",
       "      <td>convertible</td>\n",
       "      <td>rwd</td>\n",
       "      <td>front</td>\n",
       "      <td>64.1</td>\n",
       "      <td>48.8</td>\n",
       "      <td>dohc</td>\n",
       "      <td>130</td>\n",
       "      <td>111</td>\n",
       "      <td>21</td>\n",
       "      <td>27</td>\n",
       "      <td>16500</td>\n",
       "    </tr>\n",
       "    <tr>\n",
       "      <th>2</th>\n",
       "      <td>1</td>\n",
       "      <td>?</td>\n",
       "      <td>alfa-romero</td>\n",
       "      <td>gas</td>\n",
       "      <td>hatchback</td>\n",
       "      <td>rwd</td>\n",
       "      <td>front</td>\n",
       "      <td>65.5</td>\n",
       "      <td>52.4</td>\n",
       "      <td>ohcv</td>\n",
       "      <td>152</td>\n",
       "      <td>154</td>\n",
       "      <td>19</td>\n",
       "      <td>26</td>\n",
       "      <td>16500</td>\n",
       "    </tr>\n",
       "    <tr>\n",
       "      <th>3</th>\n",
       "      <td>2</td>\n",
       "      <td>164</td>\n",
       "      <td>audi</td>\n",
       "      <td>gas</td>\n",
       "      <td>sedan</td>\n",
       "      <td>fwd</td>\n",
       "      <td>front</td>\n",
       "      <td>66.2</td>\n",
       "      <td>54.3</td>\n",
       "      <td>ohc</td>\n",
       "      <td>109</td>\n",
       "      <td>102</td>\n",
       "      <td>24</td>\n",
       "      <td>30</td>\n",
       "      <td>13950</td>\n",
       "    </tr>\n",
       "    <tr>\n",
       "      <th>4</th>\n",
       "      <td>2</td>\n",
       "      <td>164</td>\n",
       "      <td>audi</td>\n",
       "      <td>gas</td>\n",
       "      <td>sedan</td>\n",
       "      <td>4wd</td>\n",
       "      <td>front</td>\n",
       "      <td>66.4</td>\n",
       "      <td>54.3</td>\n",
       "      <td>ohc</td>\n",
       "      <td>136</td>\n",
       "      <td>115</td>\n",
       "      <td>18</td>\n",
       "      <td>22</td>\n",
       "      <td>17450</td>\n",
       "    </tr>\n",
       "  </tbody>\n",
       "</table>\n",
       "</div>"
      ],
      "text/plain": [
       "   symboling normalized-losses         make fuel-type   body-style  \\\n",
       "0          3                 ?  alfa-romero       gas  convertible   \n",
       "1          3                 ?  alfa-romero       gas  convertible   \n",
       "2          1                 ?  alfa-romero       gas    hatchback   \n",
       "3          2               164         audi       gas        sedan   \n",
       "4          2               164         audi       gas        sedan   \n",
       "\n",
       "  drive-wheels engine-location  width  height engine-type  engine-size  \\\n",
       "0          rwd           front   64.1    48.8        dohc          130   \n",
       "1          rwd           front   64.1    48.8        dohc          130   \n",
       "2          rwd           front   65.5    52.4        ohcv          152   \n",
       "3          fwd           front   66.2    54.3         ohc          109   \n",
       "4          4wd           front   66.4    54.3         ohc          136   \n",
       "\n",
       "  horsepower  city-mpg  highway-mpg  price  \n",
       "0        111        21           27  13495  \n",
       "1        111        21           27  16500  \n",
       "2        154        19           26  16500  \n",
       "3        102        24           30  13950  \n",
       "4        115        18           22  17450  "
      ]
     },
     "execution_count": 3,
     "metadata": {},
     "output_type": "execute_result"
    }
   ],
   "source": [
    "df.head()"
   ]
  },
  {
   "cell_type": "code",
   "execution_count": 4,
   "id": "9e810958",
   "metadata": {},
   "outputs": [
    {
     "data": {
      "text/plain": [
       "symboling            0\n",
       "normalized-losses    0\n",
       "make                 0\n",
       "fuel-type            0\n",
       "body-style           0\n",
       "drive-wheels         0\n",
       "engine-location      0\n",
       "width                0\n",
       "height               0\n",
       "engine-type          0\n",
       "engine-size          0\n",
       "horsepower           0\n",
       "city-mpg             0\n",
       "highway-mpg          0\n",
       "price                0\n",
       "dtype: int64"
      ]
     },
     "execution_count": 4,
     "metadata": {},
     "output_type": "execute_result"
    }
   ],
   "source": [
    "df.isnull().sum()"
   ]
  },
  {
   "cell_type": "code",
   "execution_count": 5,
   "id": "3dbf1c1f",
   "metadata": {},
   "outputs": [
    {
     "data": {
      "text/plain": [
       "symboling              int64\n",
       "normalized-losses     object\n",
       "make                  object\n",
       "fuel-type             object\n",
       "body-style            object\n",
       "drive-wheels          object\n",
       "engine-location       object\n",
       "width                float64\n",
       "height               float64\n",
       "engine-type           object\n",
       "engine-size            int64\n",
       "horsepower            object\n",
       "city-mpg               int64\n",
       "highway-mpg            int64\n",
       "price                  int64\n",
       "dtype: object"
      ]
     },
     "execution_count": 5,
     "metadata": {},
     "output_type": "execute_result"
    }
   ],
   "source": [
    "df.dtypes"
   ]
  },
  {
   "cell_type": "code",
   "execution_count": 6,
   "id": "e8572727",
   "metadata": {},
   "outputs": [
    {
     "data": {
      "text/plain": [
       "array(['?', '164', '158', '192', '188', '121', '98', '81', '118', '148',\n",
       "       '110', '145', '137', '101', '78', '106', '85', '107', '104', '113',\n",
       "       '150', '129', '115', '93', '142', '161', '153', '125', '128',\n",
       "       '122', '103', '168', '108', '194', '231', '119', '154', '74',\n",
       "       '186', '83', '102', '89', '87', '77', '91', '134', '65', '197',\n",
       "       '90', '94', '256', '95'], dtype=object)"
      ]
     },
     "execution_count": 6,
     "metadata": {},
     "output_type": "execute_result"
    }
   ],
   "source": [
    "df[\"normalized-losses\"].unique()"
   ]
  },
  {
   "cell_type": "code",
   "execution_count": 7,
   "id": "261e0dc1",
   "metadata": {},
   "outputs": [
    {
     "data": {
      "text/html": [
       "<div>\n",
       "<style scoped>\n",
       "    .dataframe tbody tr th:only-of-type {\n",
       "        vertical-align: middle;\n",
       "    }\n",
       "\n",
       "    .dataframe tbody tr th {\n",
       "        vertical-align: top;\n",
       "    }\n",
       "\n",
       "    .dataframe thead th {\n",
       "        text-align: right;\n",
       "    }\n",
       "</style>\n",
       "<table border=\"1\" class=\"dataframe\">\n",
       "  <thead>\n",
       "    <tr style=\"text-align: right;\">\n",
       "      <th></th>\n",
       "      <th>symboling</th>\n",
       "      <th>normalized-losses</th>\n",
       "      <th>make</th>\n",
       "      <th>fuel-type</th>\n",
       "      <th>body-style</th>\n",
       "      <th>drive-wheels</th>\n",
       "      <th>engine-location</th>\n",
       "      <th>width</th>\n",
       "      <th>height</th>\n",
       "      <th>engine-type</th>\n",
       "      <th>engine-size</th>\n",
       "      <th>horsepower</th>\n",
       "      <th>city-mpg</th>\n",
       "      <th>highway-mpg</th>\n",
       "      <th>price</th>\n",
       "    </tr>\n",
       "  </thead>\n",
       "  <tbody>\n",
       "    <tr>\n",
       "      <th>0</th>\n",
       "      <td>3</td>\n",
       "      <td>NaN</td>\n",
       "      <td>alfa-romero</td>\n",
       "      <td>gas</td>\n",
       "      <td>convertible</td>\n",
       "      <td>rwd</td>\n",
       "      <td>front</td>\n",
       "      <td>64.1</td>\n",
       "      <td>48.8</td>\n",
       "      <td>dohc</td>\n",
       "      <td>130</td>\n",
       "      <td>111</td>\n",
       "      <td>21</td>\n",
       "      <td>27</td>\n",
       "      <td>13495</td>\n",
       "    </tr>\n",
       "    <tr>\n",
       "      <th>1</th>\n",
       "      <td>3</td>\n",
       "      <td>NaN</td>\n",
       "      <td>alfa-romero</td>\n",
       "      <td>gas</td>\n",
       "      <td>convertible</td>\n",
       "      <td>rwd</td>\n",
       "      <td>front</td>\n",
       "      <td>64.1</td>\n",
       "      <td>48.8</td>\n",
       "      <td>dohc</td>\n",
       "      <td>130</td>\n",
       "      <td>111</td>\n",
       "      <td>21</td>\n",
       "      <td>27</td>\n",
       "      <td>16500</td>\n",
       "    </tr>\n",
       "    <tr>\n",
       "      <th>2</th>\n",
       "      <td>1</td>\n",
       "      <td>NaN</td>\n",
       "      <td>alfa-romero</td>\n",
       "      <td>gas</td>\n",
       "      <td>hatchback</td>\n",
       "      <td>rwd</td>\n",
       "      <td>front</td>\n",
       "      <td>65.5</td>\n",
       "      <td>52.4</td>\n",
       "      <td>ohcv</td>\n",
       "      <td>152</td>\n",
       "      <td>154</td>\n",
       "      <td>19</td>\n",
       "      <td>26</td>\n",
       "      <td>16500</td>\n",
       "    </tr>\n",
       "    <tr>\n",
       "      <th>3</th>\n",
       "      <td>2</td>\n",
       "      <td>164</td>\n",
       "      <td>audi</td>\n",
       "      <td>gas</td>\n",
       "      <td>sedan</td>\n",
       "      <td>fwd</td>\n",
       "      <td>front</td>\n",
       "      <td>66.2</td>\n",
       "      <td>54.3</td>\n",
       "      <td>ohc</td>\n",
       "      <td>109</td>\n",
       "      <td>102</td>\n",
       "      <td>24</td>\n",
       "      <td>30</td>\n",
       "      <td>13950</td>\n",
       "    </tr>\n",
       "    <tr>\n",
       "      <th>4</th>\n",
       "      <td>2</td>\n",
       "      <td>164</td>\n",
       "      <td>audi</td>\n",
       "      <td>gas</td>\n",
       "      <td>sedan</td>\n",
       "      <td>4wd</td>\n",
       "      <td>front</td>\n",
       "      <td>66.4</td>\n",
       "      <td>54.3</td>\n",
       "      <td>ohc</td>\n",
       "      <td>136</td>\n",
       "      <td>115</td>\n",
       "      <td>18</td>\n",
       "      <td>22</td>\n",
       "      <td>17450</td>\n",
       "    </tr>\n",
       "    <tr>\n",
       "      <th>...</th>\n",
       "      <td>...</td>\n",
       "      <td>...</td>\n",
       "      <td>...</td>\n",
       "      <td>...</td>\n",
       "      <td>...</td>\n",
       "      <td>...</td>\n",
       "      <td>...</td>\n",
       "      <td>...</td>\n",
       "      <td>...</td>\n",
       "      <td>...</td>\n",
       "      <td>...</td>\n",
       "      <td>...</td>\n",
       "      <td>...</td>\n",
       "      <td>...</td>\n",
       "      <td>...</td>\n",
       "    </tr>\n",
       "    <tr>\n",
       "      <th>200</th>\n",
       "      <td>-1</td>\n",
       "      <td>95</td>\n",
       "      <td>volvo</td>\n",
       "      <td>gas</td>\n",
       "      <td>sedan</td>\n",
       "      <td>rwd</td>\n",
       "      <td>front</td>\n",
       "      <td>68.9</td>\n",
       "      <td>55.5</td>\n",
       "      <td>ohc</td>\n",
       "      <td>141</td>\n",
       "      <td>114</td>\n",
       "      <td>23</td>\n",
       "      <td>28</td>\n",
       "      <td>16845</td>\n",
       "    </tr>\n",
       "    <tr>\n",
       "      <th>201</th>\n",
       "      <td>-1</td>\n",
       "      <td>95</td>\n",
       "      <td>volvo</td>\n",
       "      <td>gas</td>\n",
       "      <td>sedan</td>\n",
       "      <td>rwd</td>\n",
       "      <td>front</td>\n",
       "      <td>68.8</td>\n",
       "      <td>55.5</td>\n",
       "      <td>ohc</td>\n",
       "      <td>141</td>\n",
       "      <td>160</td>\n",
       "      <td>19</td>\n",
       "      <td>25</td>\n",
       "      <td>19045</td>\n",
       "    </tr>\n",
       "    <tr>\n",
       "      <th>202</th>\n",
       "      <td>-1</td>\n",
       "      <td>95</td>\n",
       "      <td>volvo</td>\n",
       "      <td>gas</td>\n",
       "      <td>sedan</td>\n",
       "      <td>rwd</td>\n",
       "      <td>front</td>\n",
       "      <td>68.9</td>\n",
       "      <td>55.5</td>\n",
       "      <td>ohcv</td>\n",
       "      <td>173</td>\n",
       "      <td>134</td>\n",
       "      <td>18</td>\n",
       "      <td>23</td>\n",
       "      <td>21485</td>\n",
       "    </tr>\n",
       "    <tr>\n",
       "      <th>203</th>\n",
       "      <td>-1</td>\n",
       "      <td>95</td>\n",
       "      <td>volvo</td>\n",
       "      <td>diesel</td>\n",
       "      <td>sedan</td>\n",
       "      <td>rwd</td>\n",
       "      <td>front</td>\n",
       "      <td>68.9</td>\n",
       "      <td>55.5</td>\n",
       "      <td>ohc</td>\n",
       "      <td>145</td>\n",
       "      <td>106</td>\n",
       "      <td>26</td>\n",
       "      <td>27</td>\n",
       "      <td>22470</td>\n",
       "    </tr>\n",
       "    <tr>\n",
       "      <th>204</th>\n",
       "      <td>-1</td>\n",
       "      <td>95</td>\n",
       "      <td>volvo</td>\n",
       "      <td>gas</td>\n",
       "      <td>sedan</td>\n",
       "      <td>rwd</td>\n",
       "      <td>front</td>\n",
       "      <td>68.9</td>\n",
       "      <td>55.5</td>\n",
       "      <td>ohc</td>\n",
       "      <td>141</td>\n",
       "      <td>114</td>\n",
       "      <td>19</td>\n",
       "      <td>25</td>\n",
       "      <td>22625</td>\n",
       "    </tr>\n",
       "  </tbody>\n",
       "</table>\n",
       "<p>205 rows × 15 columns</p>\n",
       "</div>"
      ],
      "text/plain": [
       "     symboling normalized-losses         make fuel-type   body-style  \\\n",
       "0            3               NaN  alfa-romero       gas  convertible   \n",
       "1            3               NaN  alfa-romero       gas  convertible   \n",
       "2            1               NaN  alfa-romero       gas    hatchback   \n",
       "3            2               164         audi       gas        sedan   \n",
       "4            2               164         audi       gas        sedan   \n",
       "..         ...               ...          ...       ...          ...   \n",
       "200         -1                95        volvo       gas        sedan   \n",
       "201         -1                95        volvo       gas        sedan   \n",
       "202         -1                95        volvo       gas        sedan   \n",
       "203         -1                95        volvo    diesel        sedan   \n",
       "204         -1                95        volvo       gas        sedan   \n",
       "\n",
       "    drive-wheels engine-location  width  height engine-type  engine-size  \\\n",
       "0            rwd           front   64.1    48.8        dohc          130   \n",
       "1            rwd           front   64.1    48.8        dohc          130   \n",
       "2            rwd           front   65.5    52.4        ohcv          152   \n",
       "3            fwd           front   66.2    54.3         ohc          109   \n",
       "4            4wd           front   66.4    54.3         ohc          136   \n",
       "..           ...             ...    ...     ...         ...          ...   \n",
       "200          rwd           front   68.9    55.5         ohc          141   \n",
       "201          rwd           front   68.8    55.5         ohc          141   \n",
       "202          rwd           front   68.9    55.5        ohcv          173   \n",
       "203          rwd           front   68.9    55.5         ohc          145   \n",
       "204          rwd           front   68.9    55.5         ohc          141   \n",
       "\n",
       "    horsepower  city-mpg  highway-mpg  price  \n",
       "0          111        21           27  13495  \n",
       "1          111        21           27  16500  \n",
       "2          154        19           26  16500  \n",
       "3          102        24           30  13950  \n",
       "4          115        18           22  17450  \n",
       "..         ...       ...          ...    ...  \n",
       "200        114        23           28  16845  \n",
       "201        160        19           25  19045  \n",
       "202        134        18           23  21485  \n",
       "203        106        26           27  22470  \n",
       "204        114        19           25  22625  \n",
       "\n",
       "[205 rows x 15 columns]"
      ]
     },
     "execution_count": 7,
     "metadata": {},
     "output_type": "execute_result"
    }
   ],
   "source": [
    "#replace \"?\" with null values in normalized-losses column permenantly\n",
    "df[\"normalized-losses\"].replace(\"?\",np.nan,inplace=True)\n",
    "#replace('OldValue','NewValue',inplace=True) Syntex\n",
    "df"
   ]
  },
  {
   "cell_type": "code",
   "execution_count": 8,
   "id": "a6383077",
   "metadata": {},
   "outputs": [
    {
     "data": {
      "image/png": "[encoded data removed]",
      "text/plain": [
       "<Figure size 432x288 with 2 Axes>"
      ]
     },
     "metadata": {
      "needs_background": "light"
     },
     "output_type": "display_data"
    }
   ],
   "source": [
    "sns.heatmap(df.isnull())\n",
    "plt.show()"
   ]
  },
  {
   "cell_type": "code",
   "execution_count": 9,
   "id": "508eacc4",
   "metadata": {},
   "outputs": [
    {
     "data": {
      "text/plain": [
       "symboling              int64\n",
       "normalized-losses    float64\n",
       "make                  object\n",
       "fuel-type             object\n",
       "body-style            object\n",
       "drive-wheels          object\n",
       "engine-location       object\n",
       "width                float64\n",
       "height               float64\n",
       "engine-type           object\n",
       "engine-size            int64\n",
       "horsepower            object\n",
       "city-mpg               int64\n",
       "highway-mpg            int64\n",
       "price                  int64\n",
       "dtype: object"
      ]
     },
     "execution_count": 9,
     "metadata": {},
     "output_type": "execute_result"
    }
   ],
   "source": [
    "#changing datatype of normalized-losses column from object to float\n",
    "#use inbuilt method astype()\n",
    "df[\"normalized-losses\"]=df[\"normalized-losses\"].astype(float)\n",
    "df.dtypes"
   ]
  },
  {
   "cell_type": "code",
   "execution_count": 10,
   "id": "6fdb65b3",
   "metadata": {},
   "outputs": [
    {
     "name": "stdout",
     "output_type": "stream",
     "text": [
      "122.0\n"
     ]
    }
   ],
   "source": [
    "#finding mean of normalized-losses\n",
    "m=df[\"normalized-losses\"].mean()\n",
    "print(m)\n",
    "df[\"normalized-losses\"].fillna(m,inplace=True)"
   ]
  },
  {
   "cell_type": "code",
   "execution_count": 11,
   "id": "1ff33ca8",
   "metadata": {},
   "outputs": [
    {
     "name": "stdout",
     "output_type": "stream",
     "text": [
      "?\n",
      "?\n",
      "2\n"
     ]
    }
   ],
   "source": [
    "c=0\n",
    "for data in df['horsepower']:\n",
    "    if not(str(data).isnumeric()):\n",
    "        print(data)\n",
    "        c=c+1\n",
    "print(c)"
   ]
  },
  {
   "cell_type": "code",
   "execution_count": 12,
   "id": "aad1b12a",
   "metadata": {},
   "outputs": [
    {
     "data": {
      "text/html": [
       "<div>\n",
       "<style scoped>\n",
       "    .dataframe tbody tr th:only-of-type {\n",
       "        vertical-align: middle;\n",
       "    }\n",
       "\n",
       "    .dataframe tbody tr th {\n",
       "        vertical-align: top;\n",
       "    }\n",
       "\n",
       "    .dataframe thead th {\n",
       "        text-align: right;\n",
       "    }\n",
       "</style>\n",
       "<table border=\"1\" class=\"dataframe\">\n",
       "  <thead>\n",
       "    <tr style=\"text-align: right;\">\n",
       "      <th></th>\n",
       "      <th>symboling</th>\n",
       "      <th>normalized-losses</th>\n",
       "      <th>make</th>\n",
       "      <th>fuel-type</th>\n",
       "      <th>body-style</th>\n",
       "      <th>drive-wheels</th>\n",
       "      <th>engine-location</th>\n",
       "      <th>width</th>\n",
       "      <th>height</th>\n",
       "      <th>engine-type</th>\n",
       "      <th>engine-size</th>\n",
       "      <th>horsepower</th>\n",
       "      <th>city-mpg</th>\n",
       "      <th>highway-mpg</th>\n",
       "      <th>price</th>\n",
       "    </tr>\n",
       "  </thead>\n",
       "  <tbody>\n",
       "    <tr>\n",
       "      <th>0</th>\n",
       "      <td>3</td>\n",
       "      <td>122.0</td>\n",
       "      <td>alfa-romero</td>\n",
       "      <td>gas</td>\n",
       "      <td>convertible</td>\n",
       "      <td>rwd</td>\n",
       "      <td>front</td>\n",
       "      <td>64.1</td>\n",
       "      <td>48.8</td>\n",
       "      <td>dohc</td>\n",
       "      <td>130</td>\n",
       "      <td>111</td>\n",
       "      <td>21</td>\n",
       "      <td>27</td>\n",
       "      <td>13495</td>\n",
       "    </tr>\n",
       "    <tr>\n",
       "      <th>1</th>\n",
       "      <td>3</td>\n",
       "      <td>122.0</td>\n",
       "      <td>alfa-romero</td>\n",
       "      <td>gas</td>\n",
       "      <td>convertible</td>\n",
       "      <td>rwd</td>\n",
       "      <td>front</td>\n",
       "      <td>64.1</td>\n",
       "      <td>48.8</td>\n",
       "      <td>dohc</td>\n",
       "      <td>130</td>\n",
       "      <td>111</td>\n",
       "      <td>21</td>\n",
       "      <td>27</td>\n",
       "      <td>16500</td>\n",
       "    </tr>\n",
       "    <tr>\n",
       "      <th>2</th>\n",
       "      <td>1</td>\n",
       "      <td>122.0</td>\n",
       "      <td>alfa-romero</td>\n",
       "      <td>gas</td>\n",
       "      <td>hatchback</td>\n",
       "      <td>rwd</td>\n",
       "      <td>front</td>\n",
       "      <td>65.5</td>\n",
       "      <td>52.4</td>\n",
       "      <td>ohcv</td>\n",
       "      <td>152</td>\n",
       "      <td>154</td>\n",
       "      <td>19</td>\n",
       "      <td>26</td>\n",
       "      <td>16500</td>\n",
       "    </tr>\n",
       "    <tr>\n",
       "      <th>3</th>\n",
       "      <td>2</td>\n",
       "      <td>164.0</td>\n",
       "      <td>audi</td>\n",
       "      <td>gas</td>\n",
       "      <td>sedan</td>\n",
       "      <td>fwd</td>\n",
       "      <td>front</td>\n",
       "      <td>66.2</td>\n",
       "      <td>54.3</td>\n",
       "      <td>ohc</td>\n",
       "      <td>109</td>\n",
       "      <td>102</td>\n",
       "      <td>24</td>\n",
       "      <td>30</td>\n",
       "      <td>13950</td>\n",
       "    </tr>\n",
       "    <tr>\n",
       "      <th>4</th>\n",
       "      <td>2</td>\n",
       "      <td>164.0</td>\n",
       "      <td>audi</td>\n",
       "      <td>gas</td>\n",
       "      <td>sedan</td>\n",
       "      <td>4wd</td>\n",
       "      <td>front</td>\n",
       "      <td>66.4</td>\n",
       "      <td>54.3</td>\n",
       "      <td>ohc</td>\n",
       "      <td>136</td>\n",
       "      <td>115</td>\n",
       "      <td>18</td>\n",
       "      <td>22</td>\n",
       "      <td>17450</td>\n",
       "    </tr>\n",
       "    <tr>\n",
       "      <th>...</th>\n",
       "      <td>...</td>\n",
       "      <td>...</td>\n",
       "      <td>...</td>\n",
       "      <td>...</td>\n",
       "      <td>...</td>\n",
       "      <td>...</td>\n",
       "      <td>...</td>\n",
       "      <td>...</td>\n",
       "      <td>...</td>\n",
       "      <td>...</td>\n",
       "      <td>...</td>\n",
       "      <td>...</td>\n",
       "      <td>...</td>\n",
       "      <td>...</td>\n",
       "      <td>...</td>\n",
       "    </tr>\n",
       "    <tr>\n",
       "      <th>200</th>\n",
       "      <td>-1</td>\n",
       "      <td>95.0</td>\n",
       "      <td>volvo</td>\n",
       "      <td>gas</td>\n",
       "      <td>sedan</td>\n",
       "      <td>rwd</td>\n",
       "      <td>front</td>\n",
       "      <td>68.9</td>\n",
       "      <td>55.5</td>\n",
       "      <td>ohc</td>\n",
       "      <td>141</td>\n",
       "      <td>114</td>\n",
       "      <td>23</td>\n",
       "      <td>28</td>\n",
       "      <td>16845</td>\n",
       "    </tr>\n",
       "    <tr>\n",
       "      <th>201</th>\n",
       "      <td>-1</td>\n",
       "      <td>95.0</td>\n",
       "      <td>volvo</td>\n",
       "      <td>gas</td>\n",
       "      <td>sedan</td>\n",
       "      <td>rwd</td>\n",
       "      <td>front</td>\n",
       "      <td>68.8</td>\n",
       "      <td>55.5</td>\n",
       "      <td>ohc</td>\n",
       "      <td>141</td>\n",
       "      <td>160</td>\n",
       "      <td>19</td>\n",
       "      <td>25</td>\n",
       "      <td>19045</td>\n",
       "    </tr>\n",
       "    <tr>\n",
       "      <th>202</th>\n",
       "      <td>-1</td>\n",
       "      <td>95.0</td>\n",
       "      <td>volvo</td>\n",
       "      <td>gas</td>\n",
       "      <td>sedan</td>\n",
       "      <td>rwd</td>\n",
       "      <td>front</td>\n",
       "      <td>68.9</td>\n",
       "      <td>55.5</td>\n",
       "      <td>ohcv</td>\n",
       "      <td>173</td>\n",
       "      <td>134</td>\n",
       "      <td>18</td>\n",
       "      <td>23</td>\n",
       "      <td>21485</td>\n",
       "    </tr>\n",
       "    <tr>\n",
       "      <th>203</th>\n",
       "      <td>-1</td>\n",
       "      <td>95.0</td>\n",
       "      <td>volvo</td>\n",
       "      <td>diesel</td>\n",
       "      <td>sedan</td>\n",
       "      <td>rwd</td>\n",
       "      <td>front</td>\n",
       "      <td>68.9</td>\n",
       "      <td>55.5</td>\n",
       "      <td>ohc</td>\n",
       "      <td>145</td>\n",
       "      <td>106</td>\n",
       "      <td>26</td>\n",
       "      <td>27</td>\n",
       "      <td>22470</td>\n",
       "    </tr>\n",
       "    <tr>\n",
       "      <th>204</th>\n",
       "      <td>-1</td>\n",
       "      <td>95.0</td>\n",
       "      <td>volvo</td>\n",
       "      <td>gas</td>\n",
       "      <td>sedan</td>\n",
       "      <td>rwd</td>\n",
       "      <td>front</td>\n",
       "      <td>68.9</td>\n",
       "      <td>55.5</td>\n",
       "      <td>ohc</td>\n",
       "      <td>141</td>\n",
       "      <td>114</td>\n",
       "      <td>19</td>\n",
       "      <td>25</td>\n",
       "      <td>22625</td>\n",
       "    </tr>\n",
       "  </tbody>\n",
       "</table>\n",
       "<p>205 rows × 15 columns</p>\n",
       "</div>"
      ],
      "text/plain": [
       "     symboling  normalized-losses         make fuel-type   body-style  \\\n",
       "0            3              122.0  alfa-romero       gas  convertible   \n",
       "1            3              122.0  alfa-romero       gas  convertible   \n",
       "2            1              122.0  alfa-romero       gas    hatchback   \n",
       "3            2              164.0         audi       gas        sedan   \n",
       "4            2              164.0         audi       gas        sedan   \n",
       "..         ...                ...          ...       ...          ...   \n",
       "200         -1               95.0        volvo       gas        sedan   \n",
       "201         -1               95.0        volvo       gas        sedan   \n",
       "202         -1               95.0        volvo       gas        sedan   \n",
       "203         -1               95.0        volvo    diesel        sedan   \n",
       "204         -1               95.0        volvo       gas        sedan   \n",
       "\n",
       "    drive-wheels engine-location  width  height engine-type  engine-size  \\\n",
       "0            rwd           front   64.1    48.8        dohc          130   \n",
       "1            rwd           front   64.1    48.8        dohc          130   \n",
       "2            rwd           front   65.5    52.4        ohcv          152   \n",
       "3            fwd           front   66.2    54.3         ohc          109   \n",
       "4            4wd           front   66.4    54.3         ohc          136   \n",
       "..           ...             ...    ...     ...         ...          ...   \n",
       "200          rwd           front   68.9    55.5         ohc          141   \n",
       "201          rwd           front   68.8    55.5         ohc          141   \n",
       "202          rwd           front   68.9    55.5        ohcv          173   \n",
       "203          rwd           front   68.9    55.5         ohc          145   \n",
       "204          rwd           front   68.9    55.5         ohc          141   \n",
       "\n",
       "    horsepower  city-mpg  highway-mpg  price  \n",
       "0          111        21           27  13495  \n",
       "1          111        21           27  16500  \n",
       "2          154        19           26  16500  \n",
       "3          102        24           30  13950  \n",
       "4          115        18           22  17450  \n",
       "..         ...       ...          ...    ...  \n",
       "200        114        23           28  16845  \n",
       "201        160        19           25  19045  \n",
       "202        134        18           23  21485  \n",
       "203        106        26           27  22470  \n",
       "204        114        19           25  22625  \n",
       "\n",
       "[205 rows x 15 columns]"
      ]
     },
     "execution_count": 12,
     "metadata": {},
     "output_type": "execute_result"
    }
   ],
   "source": [
    "#replace \"?\" with null values in horsepower column permenantly\n",
    "df[\"horsepower\"].replace(\"?\",np.nan,inplace=True)\n",
    "#replace('OldValue','NewValue',inplace=True) Syntex\n",
    "df"
   ]
  },
  {
   "cell_type": "code",
   "execution_count": 13,
   "id": "9dcccdb5",
   "metadata": {},
   "outputs": [
    {
     "data": {
      "text/plain": [
       "symboling              int64\n",
       "normalized-losses    float64\n",
       "make                  object\n",
       "fuel-type             object\n",
       "body-style            object\n",
       "drive-wheels          object\n",
       "engine-location       object\n",
       "width                float64\n",
       "height               float64\n",
       "engine-type           object\n",
       "engine-size            int64\n",
       "horsepower           float64\n",
       "city-mpg               int64\n",
       "highway-mpg            int64\n",
       "price                  int64\n",
       "dtype: object"
      ]
     },
     "execution_count": 13,
     "metadata": {},
     "output_type": "execute_result"
    }
   ],
   "source": [
    "#changing datatype of horsepower column from object to float\n",
    "df[\"horsepower\"]=df[\"horsepower\"].astype(float)\n",
    "df.dtypes"
   ]
  },
  {
   "cell_type": "code",
   "execution_count": 14,
   "id": "ced7ba79",
   "metadata": {},
   "outputs": [
    {
     "name": "stdout",
     "output_type": "stream",
     "text": [
      "104.25615763546799\n"
     ]
    }
   ],
   "source": [
    "#finding mean of horsepower\n",
    "m=df[\"horsepower\"].mean()\n",
    "print(m)\n",
    "df[\"horsepower\"].fillna(m,inplace=True)"
   ]
  },
  {
   "cell_type": "code",
   "execution_count": 15,
   "id": "765b81a3",
   "metadata": {},
   "outputs": [],
   "source": [
    "#Separate the numerical data(int and float) and categorical data(object)\n",
    "#First create dataframe 1 which hold object type data means categorical data\n",
    "df_cat=df.select_dtypes(object)\n",
    "#here df_cat is a new dataframe \n",
    "#select_dtyps() inbuilt method of dtaframe"
   ]
  },
  {
   "cell_type": "code",
   "execution_count": 16,
   "id": "3d20ee8e",
   "metadata": {},
   "outputs": [
    {
     "data": {
      "text/plain": [
       "Index(['make', 'fuel-type', 'body-style', 'drive-wheels', 'engine-location',\n",
       "       'engine-type'],\n",
       "      dtype='object')"
      ]
     },
     "execution_count": 16,
     "metadata": {},
     "output_type": "execute_result"
    }
   ],
   "source": [
    "df_cat.columns"
   ]
  },
  {
   "cell_type": "code",
   "execution_count": 17,
   "id": "15ab9f44",
   "metadata": {},
   "outputs": [],
   "source": [
    "#Then  create second dataframe 2 which hold numerical data means \n",
    "#int and float type \n",
    "df_num=df.select_dtypes([\"int64\",\"float64\"])"
   ]
  },
  {
   "cell_type": "code",
   "execution_count": 18,
   "id": "53ddbcab",
   "metadata": {},
   "outputs": [],
   "source": [
    "#apply label encoder in df_cat(object type):\n",
    "#to convert object type data to number type \n",
    "#call LabelEncoder inbuilt class\n",
    "from sklearn.preprocessing import LabelEncoder"
   ]
  },
  {
   "cell_type": "code",
   "execution_count": 19,
   "id": "4f801c95",
   "metadata": {},
   "outputs": [
    {
     "name": "stdout",
     "output_type": "stream",
     "text": [
      "make\n",
      "fuel-type\n",
      "body-style\n",
      "drive-wheels\n",
      "engine-location\n",
      "engine-type\n"
     ]
    }
   ],
   "source": [
    "for col in df_cat:\n",
    "    print(col)\n",
    "    #creating object of laber encoder class\n",
    "    le=LabelEncoder()\n",
    "    df_cat[col]=le.fit_transform(df_cat[[col]])"
   ]
  },
  {
   "cell_type": "code",
   "execution_count": 20,
   "id": "e34ea4c2",
   "metadata": {},
   "outputs": [
    {
     "data": {
      "text/html": [
       "<div>\n",
       "<style scoped>\n",
       "    .dataframe tbody tr th:only-of-type {\n",
       "        vertical-align: middle;\n",
       "    }\n",
       "\n",
       "    .dataframe tbody tr th {\n",
       "        vertical-align: top;\n",
       "    }\n",
       "\n",
       "    .dataframe thead th {\n",
       "        text-align: right;\n",
       "    }\n",
       "</style>\n",
       "<table border=\"1\" class=\"dataframe\">\n",
       "  <thead>\n",
       "    <tr style=\"text-align: right;\">\n",
       "      <th></th>\n",
       "      <th>symboling</th>\n",
       "      <th>normalized-losses</th>\n",
       "      <th>width</th>\n",
       "      <th>height</th>\n",
       "      <th>engine-size</th>\n",
       "      <th>horsepower</th>\n",
       "      <th>city-mpg</th>\n",
       "      <th>highway-mpg</th>\n",
       "      <th>price</th>\n",
       "      <th>make</th>\n",
       "      <th>fuel-type</th>\n",
       "      <th>body-style</th>\n",
       "      <th>drive-wheels</th>\n",
       "      <th>engine-location</th>\n",
       "      <th>engine-type</th>\n",
       "    </tr>\n",
       "  </thead>\n",
       "  <tbody>\n",
       "    <tr>\n",
       "      <th>0</th>\n",
       "      <td>3</td>\n",
       "      <td>122.0</td>\n",
       "      <td>64.1</td>\n",
       "      <td>48.8</td>\n",
       "      <td>130</td>\n",
       "      <td>111.0</td>\n",
       "      <td>21</td>\n",
       "      <td>27</td>\n",
       "      <td>13495</td>\n",
       "      <td>0</td>\n",
       "      <td>1</td>\n",
       "      <td>0</td>\n",
       "      <td>2</td>\n",
       "      <td>0</td>\n",
       "      <td>0</td>\n",
       "    </tr>\n",
       "    <tr>\n",
       "      <th>1</th>\n",
       "      <td>3</td>\n",
       "      <td>122.0</td>\n",
       "      <td>64.1</td>\n",
       "      <td>48.8</td>\n",
       "      <td>130</td>\n",
       "      <td>111.0</td>\n",
       "      <td>21</td>\n",
       "      <td>27</td>\n",
       "      <td>16500</td>\n",
       "      <td>0</td>\n",
       "      <td>1</td>\n",
       "      <td>0</td>\n",
       "      <td>2</td>\n",
       "      <td>0</td>\n",
       "      <td>0</td>\n",
       "    </tr>\n",
       "    <tr>\n",
       "      <th>2</th>\n",
       "      <td>1</td>\n",
       "      <td>122.0</td>\n",
       "      <td>65.5</td>\n",
       "      <td>52.4</td>\n",
       "      <td>152</td>\n",
       "      <td>154.0</td>\n",
       "      <td>19</td>\n",
       "      <td>26</td>\n",
       "      <td>16500</td>\n",
       "      <td>0</td>\n",
       "      <td>1</td>\n",
       "      <td>2</td>\n",
       "      <td>2</td>\n",
       "      <td>0</td>\n",
       "      <td>5</td>\n",
       "    </tr>\n",
       "    <tr>\n",
       "      <th>3</th>\n",
       "      <td>2</td>\n",
       "      <td>164.0</td>\n",
       "      <td>66.2</td>\n",
       "      <td>54.3</td>\n",
       "      <td>109</td>\n",
       "      <td>102.0</td>\n",
       "      <td>24</td>\n",
       "      <td>30</td>\n",
       "      <td>13950</td>\n",
       "      <td>1</td>\n",
       "      <td>1</td>\n",
       "      <td>3</td>\n",
       "      <td>1</td>\n",
       "      <td>0</td>\n",
       "      <td>3</td>\n",
       "    </tr>\n",
       "    <tr>\n",
       "      <th>4</th>\n",
       "      <td>2</td>\n",
       "      <td>164.0</td>\n",
       "      <td>66.4</td>\n",
       "      <td>54.3</td>\n",
       "      <td>136</td>\n",
       "      <td>115.0</td>\n",
       "      <td>18</td>\n",
       "      <td>22</td>\n",
       "      <td>17450</td>\n",
       "      <td>1</td>\n",
       "      <td>1</td>\n",
       "      <td>3</td>\n",
       "      <td>0</td>\n",
       "      <td>0</td>\n",
       "      <td>3</td>\n",
       "    </tr>\n",
       "  </tbody>\n",
       "</table>\n",
       "</div>"
      ],
      "text/plain": [
       "   symboling  normalized-losses  width  height  engine-size  horsepower  \\\n",
       "0          3              122.0   64.1    48.8          130       111.0   \n",
       "1          3              122.0   64.1    48.8          130       111.0   \n",
       "2          1              122.0   65.5    52.4          152       154.0   \n",
       "3          2              164.0   66.2    54.3          109       102.0   \n",
       "4          2              164.0   66.4    54.3          136       115.0   \n",
       "\n",
       "   city-mpg  highway-mpg  price  make  fuel-type  body-style  drive-wheels  \\\n",
       "0        21           27  13495     0          1           0             2   \n",
       "1        21           27  16500     0          1           0             2   \n",
       "2        19           26  16500     0          1           2             2   \n",
       "3        24           30  13950     1          1           3             1   \n",
       "4        18           22  17450     1          1           3             0   \n",
       "\n",
       "   engine-location  engine-type  \n",
       "0                0            0  \n",
       "1                0            0  \n",
       "2                0            5  \n",
       "3                0            3  \n",
       "4                0            3  "
      ]
     },
     "execution_count": 20,
     "metadata": {},
     "output_type": "execute_result"
    }
   ],
   "source": [
    "#concatenation of both dataset df_num and df_cat and hold new dataset df_new\n",
    "df_new=pd.concat([df_num,df_cat],axis=1) #axis=1 column wise\n",
    "df_new.head()"
   ]
  },
  {
   "cell_type": "code",
   "execution_count": 21,
   "id": "b9d1bc35",
   "metadata": {},
   "outputs": [],
   "source": [
    "#performing the model with the help of linear regression\n",
    "#we want to predict the car's price which are contineous numeric value\n",
    "#apply multiple linear regression because many input means many independent\n",
    "#variables or features and one target"
   ]
  },
  {
   "cell_type": "code",
   "execution_count": 22,
   "id": "5ab281dc",
   "metadata": {},
   "outputs": [],
   "source": [
    "#select independent means input variable (X) and target means dependent variable (Y)\n",
    "X=df_new.drop(\"price\",axis=1) #appart from price, hold all clumn in X \n",
    "Y=df_new[\"price\"]"
   ]
  },
  {
   "cell_type": "code",
   "execution_count": 23,
   "id": "970d4971",
   "metadata": {},
   "outputs": [
    {
     "data": {
      "text/plain": [
       "Index(['symboling', 'normalized-losses', 'width', 'height', 'engine-size',\n",
       "       'horsepower', 'city-mpg', 'highway-mpg', 'make', 'fuel-type',\n",
       "       'body-style', 'drive-wheels', 'engine-location', 'engine-type'],\n",
       "      dtype='object')"
      ]
     },
     "execution_count": 23,
     "metadata": {},
     "output_type": "execute_result"
    }
   ],
   "source": [
    "X.columns"
   ]
  },
  {
   "cell_type": "code",
   "execution_count": 24,
   "id": "1f07a6e0",
   "metadata": {},
   "outputs": [],
   "source": [
    "from sklearn.model_selection import train_test_split\n",
    "\n"
   ]
  },
  {
   "cell_type": "code",
   "execution_count": 25,
   "id": "87c7e28f",
   "metadata": {},
   "outputs": [],
   "source": [
    "#rain_test_split() we seprate dataset X & Y in 70% and #0% for training and testing\n",
    "X_train,X_test,Y_train,Y_test=train_test_split(X,Y,test_size=0.3,random_state=1)"
   ]
  },
  {
   "cell_type": "code",
   "execution_count": 26,
   "id": "2fb76dc1",
   "metadata": {},
   "outputs": [],
   "source": [
    "from sklearn.linear_model import LinearRegression"
   ]
  },
  {
   "cell_type": "code",
   "execution_count": 27,
   "id": "d04e08bb",
   "metadata": {},
   "outputs": [],
   "source": [
    "lr=LinearRegression() # creating object"
   ]
  },
  {
   "cell_type": "markdown",
   "id": "0f63d8a4",
   "metadata": {},
   "source": [
    "# FIT AND PREDICT AND REPORT"
   ]
  },
  {
   "cell_type": "code",
   "execution_count": 28,
   "id": "dd0bdf3e",
   "metadata": {},
   "outputs": [
    {
     "data": {
      "text/plain": [
       "LinearRegression()"
      ]
     },
     "execution_count": 28,
     "metadata": {},
     "output_type": "execute_result"
    }
   ],
   "source": [
    "lr.fit(X_train,Y_train) #traing the model"
   ]
  },
  {
   "cell_type": "code",
   "execution_count": 29,
   "id": "1eaa6865",
   "metadata": {},
   "outputs": [],
   "source": [
    "Y_pred=lr.predict(X_test) #testing the model"
   ]
  },
  {
   "cell_type": "code",
   "execution_count": 30,
   "id": "4e08dd5f",
   "metadata": {},
   "outputs": [
    {
     "data": {
      "text/plain": [
       "array([ 6147.97177535,  6877.02018581,  5163.92272988,  6529.64152282,\n",
       "        9097.48416127, 26360.34172002,  7459.86435141,   877.82049881,\n",
       "        5144.01614104, 13519.72327075, 15450.90944825, 14432.86068487,\n",
       "       16383.3823446 , 11141.26580437, 16456.45835103, 13899.96152052,\n",
       "        7470.89015168,  8822.10978266, 10871.71907185,  7575.62315193,\n",
       "       10982.8020501 ,  6830.55418791, 13695.54356268,  6367.05540369,\n",
       "       13729.72634597,  8822.10978266, 15020.54539526,  6519.17466513,\n",
       "        4748.87641153,  9309.57917764,  8168.78349461, 14331.33093265,\n",
       "       25640.12934796, 11908.15949477, 19763.97916514,  6562.05039495,\n",
       "        8169.68530317, 30669.00442191,  9815.72891291, 16913.4988703 ,\n",
       "        6488.35956878, 20293.75457963,  7703.43107067,  8440.48221513,\n",
       "        8644.09950215,  7183.23963857, 40496.63165103,  7556.38024834,\n",
       "       17202.53531151, 18961.11466889, 26165.68818112, 16952.9687522 ,\n",
       "       21835.40141131,  6217.42536906, 13103.73962425,  7263.42333164,\n",
       "       11008.38626844, 11229.0050243 , 22671.49360937,  8339.01866916,\n",
       "        9507.83932434, 11200.8150837 ])"
      ]
     },
     "execution_count": 30,
     "metadata": {},
     "output_type": "execute_result"
    }
   ],
   "source": [
    "Y_pred"
   ]
  },
  {
   "cell_type": "code",
   "execution_count": 31,
   "id": "640211d0",
   "metadata": {},
   "outputs": [
    {
     "data": {
      "text/plain": [
       "78      6669\n",
       "97      7999\n",
       "151     6338\n",
       "44     10000\n",
       "40     10295\n",
       "Name: price, dtype: int64"
      ]
     },
     "execution_count": 31,
     "metadata": {},
     "output_type": "execute_result"
    }
   ],
   "source": [
    "Y_test.head()"
   ]
  },
  {
   "cell_type": "code",
   "execution_count": 32,
   "id": "c5fb8ffd",
   "metadata": {},
   "outputs": [
    {
     "data": {
      "text/plain": [
       "array([ 4.51384957e+01,  1.53127607e+00,  7.89452171e+02,  3.62663990e+02,\n",
       "        9.83682875e+01, -1.08169245e+01,  3.08017854e+02, -4.17024371e+02,\n",
       "       -2.00099087e+02, -6.22650015e+02, -1.70235175e+02,  1.86860719e+03,\n",
       "        1.64133620e+04,  2.83174279e+02])"
      ]
     },
     "execution_count": 32,
     "metadata": {},
     "output_type": "execute_result"
    }
   ],
   "source": [
    "#checking coefficent and intercept\n",
    "lr.coef_"
   ]
  },
  {
   "cell_type": "code",
   "execution_count": 33,
   "id": "7243e4ce",
   "metadata": {},
   "outputs": [
    {
     "data": {
      "text/plain": [
       "-65022.7698599566"
      ]
     },
     "execution_count": 33,
     "metadata": {},
     "output_type": "execute_result"
    }
   ],
   "source": [
    "lr.intercept_"
   ]
  },
  {
   "cell_type": "code",
   "execution_count": 34,
   "id": "36749d7b",
   "metadata": {},
   "outputs": [
    {
     "name": "stdout",
     "output_type": "stream",
     "text": [
      "Training Score : 0.8504573774895474\n"
     ]
    }
   ],
   "source": [
    "#checking traing score : Score() inbuilt function of Linearregression class \n",
    "#score() is similar to r2_score (value means range: 0 to 1) NOTE: R2_SCORE WORKS ONLY WITH OUTPUT DATA i.e YTest and Ypred\n",
    "print(\"Training Score :\",lr.score(X_train,Y_train)) #training Score"
   ]
  },
  {
   "cell_type": "code",
   "execution_count": 35,
   "id": "a046a699",
   "metadata": {},
   "outputs": [],
   "source": [
    "from sklearn.metrics import r2_score"
   ]
  },
  {
   "cell_type": "code",
   "execution_count": 36,
   "id": "e6f5a9db",
   "metadata": {},
   "outputs": [
    {
     "name": "stdout",
     "output_type": "stream",
     "text": [
      "Testing score : 0.7965566780397384\n",
      "Testing score : 0.7965566780397384\n"
     ]
    }
   ],
   "source": [
    "#testing score\n",
    "print(\"Testing score :\",lr.score(X_test,Y_test))\n",
    "#or\n",
    "print(\"Testing score :\",r2_score(Y_test,Y_pred))"
   ]
  },
  {
   "cell_type": "code",
   "execution_count": 37,
   "id": "957f8c35",
   "metadata": {},
   "outputs": [
    {
     "data": {
      "text/plain": [
       "'\\nHere traing score is more the testing score means Model is OverFit\\n#here Training score > testing score means testing error > training error\\n#means model is overfitting so remove overfitting situation then \\n#add external error on training time means apply regularization\\n\\n'"
      ]
     },
     "execution_count": 37,
     "metadata": {},
     "output_type": "execute_result"
    }
   ],
   "source": [
    "\"\"\"\n",
    "Here traing score is more the testing score means Model is OverFit\n",
    "#here Training score > testing score means testing error > training error\n",
    "#means model is overfitting so remove overfitting situation then \n",
    "#add external error on training time means apply regularization\n",
    "\n",
    "\"\"\""
   ]
  },
  {
   "cell_type": "code",
   "execution_count": 38,
   "id": "992e094f",
   "metadata": {},
   "outputs": [],
   "source": [
    "#How do we take care of overfitting : -  \n",
    "#use L1 : Lasso and L2 : Ridge  regularization"
   ]
  },
  {
   "cell_type": "code",
   "execution_count": 39,
   "id": "26b11731",
   "metadata": {},
   "outputs": [
    {
     "data": {
      "text/plain": [
       "' Add some error during training time \\n   1. Lasso Regularization : L1  \\n   RSS+lambda*sum(abs(all coefficient)) here lambda is also known as \\n   hyper-parameter, value of lambda  can be 200,400,600,..1000\\n   2. Ridge Regularization : L2\\n   RSS+lambda*sum(square(all coefficient)) here lambda is also known as \\n   hyper-parameter, value of lambda  can be 0 to 50\\n    '"
      ]
     },
     "execution_count": 39,
     "metadata": {},
     "output_type": "execute_result"
    }
   ],
   "source": [
    "''' Add some error during training time \n",
    "   1. Lasso Regularization : L1  \n",
    "   RSS+lambda*sum(abs(all coefficient)) here lambda is also known as \n",
    "   hyper-parameter, value of lambda  can be 200,400,600,..1000\n",
    "   2. Ridge Regularization : L2\n",
    "   RSS+lambda*sum(square(all coefficient)) here lambda is also known as \n",
    "   hyper-parameter, value of lambda  can be 0 to 50\n",
    "    '''"
   ]
  },
  {
   "cell_type": "code",
   "execution_count": 40,
   "id": "3f5a036f",
   "metadata": {},
   "outputs": [],
   "source": [
    "#lasso regulization means L1 call inbuilt class Lasso\n",
    "from sklearn.linear_model import Lasso"
   ]
  },
  {
   "cell_type": "code",
   "execution_count": 41,
   "id": "2d5000e7",
   "metadata": {},
   "outputs": [],
   "source": [
    "#creating object of Lasso\n",
    "l1=Lasso(1000)\n",
    "#passing the value of lamda between 200 to 1000 "
   ]
  },
  {
   "cell_type": "code",
   "execution_count": 42,
   "id": "210dfe42",
   "metadata": {},
   "outputs": [
    {
     "data": {
      "text/plain": [
       "Lasso(alpha=1000)"
      ]
     },
     "execution_count": 42,
     "metadata": {},
     "output_type": "execute_result"
    }
   ],
   "source": [
    "# again train the model using fit() inbuilt method of Lasso\n",
    "l1.fit(X_train,Y_train)"
   ]
  },
  {
   "cell_type": "code",
   "execution_count": 43,
   "id": "41e100bd",
   "metadata": {},
   "outputs": [
    {
     "name": "stdout",
     "output_type": "stream",
     "text": [
      "After adding Error slope= [   0.            3.96310671    0.          276.93279232  135.34169218\n",
      "   16.00129073   -0.         -113.03311963 -126.40695244   -0.\n",
      "   -0.            0.            0.            0.        ]\n"
     ]
    }
   ],
   "source": [
    "#checking Coefficent after adding error during training\n",
    "l1_slope=l1.coef_\n",
    "print(\"After adding Error slope=\",l1_slope)"
   ]
  },
  {
   "cell_type": "code",
   "execution_count": 44,
   "id": "3617dd3a",
   "metadata": {},
   "outputs": [
    {
     "name": "stdout",
     "output_type": "stream",
     "text": [
      "Before adding Error Slope= [ 4.51384957e+01  1.53127607e+00  7.89452171e+02  3.62663990e+02\n",
      "  9.83682875e+01 -1.08169245e+01  3.08017854e+02 -4.17024371e+02\n",
      " -2.00099087e+02 -6.22650015e+02 -1.70235175e+02  1.86860719e+03\n",
      "  1.64133620e+04  2.83174279e+02]\n"
     ]
    }
   ],
   "source": [
    "#before adding error Slope =\n",
    "lr_slope=lr.coef_\n",
    "print(\"Before adding Error Slope=\",lr_slope)"
   ]
  },
  {
   "cell_type": "code",
   "execution_count": 45,
   "id": "9178fbe7",
   "metadata": {},
   "outputs": [
    {
     "data": {
      "text/plain": [
       "Index(['symboling', 'normalized-losses', 'width', 'height', 'engine-size',\n",
       "       'horsepower', 'city-mpg', 'highway-mpg', 'make', 'fuel-type',\n",
       "       'body-style', 'drive-wheels', 'engine-location', 'engine-type'],\n",
       "      dtype='object')"
      ]
     },
     "execution_count": 45,
     "metadata": {},
     "output_type": "execute_result"
    }
   ],
   "source": [
    "col=X.columns\n",
    "col"
   ]
  },
  {
   "cell_type": "code",
   "execution_count": 46,
   "id": "b045e176",
   "metadata": {},
   "outputs": [
    {
     "data": {
      "text/html": [
       "<div>\n",
       "<style scoped>\n",
       "    .dataframe tbody tr th:only-of-type {\n",
       "        vertical-align: middle;\n",
       "    }\n",
       "\n",
       "    .dataframe tbody tr th {\n",
       "        vertical-align: top;\n",
       "    }\n",
       "\n",
       "    .dataframe thead th {\n",
       "        text-align: right;\n",
       "    }\n",
       "</style>\n",
       "<table border=\"1\" class=\"dataframe\">\n",
       "  <thead>\n",
       "    <tr style=\"text-align: right;\">\n",
       "      <th></th>\n",
       "      <th>Column</th>\n",
       "      <th>Before adding Error</th>\n",
       "      <th>After adding Error</th>\n",
       "    </tr>\n",
       "  </thead>\n",
       "  <tbody>\n",
       "    <tr>\n",
       "      <th>0</th>\n",
       "      <td>symboling</td>\n",
       "      <td>45.138496</td>\n",
       "      <td>0.000000</td>\n",
       "    </tr>\n",
       "    <tr>\n",
       "      <th>1</th>\n",
       "      <td>normalized-losses</td>\n",
       "      <td>1.531276</td>\n",
       "      <td>3.963107</td>\n",
       "    </tr>\n",
       "    <tr>\n",
       "      <th>2</th>\n",
       "      <td>width</td>\n",
       "      <td>789.452171</td>\n",
       "      <td>0.000000</td>\n",
       "    </tr>\n",
       "    <tr>\n",
       "      <th>3</th>\n",
       "      <td>height</td>\n",
       "      <td>362.663990</td>\n",
       "      <td>276.932792</td>\n",
       "    </tr>\n",
       "    <tr>\n",
       "      <th>4</th>\n",
       "      <td>engine-size</td>\n",
       "      <td>98.368287</td>\n",
       "      <td>135.341692</td>\n",
       "    </tr>\n",
       "    <tr>\n",
       "      <th>5</th>\n",
       "      <td>horsepower</td>\n",
       "      <td>-10.816924</td>\n",
       "      <td>16.001291</td>\n",
       "    </tr>\n",
       "    <tr>\n",
       "      <th>6</th>\n",
       "      <td>city-mpg</td>\n",
       "      <td>308.017854</td>\n",
       "      <td>-0.000000</td>\n",
       "    </tr>\n",
       "    <tr>\n",
       "      <th>7</th>\n",
       "      <td>highway-mpg</td>\n",
       "      <td>-417.024371</td>\n",
       "      <td>-113.033120</td>\n",
       "    </tr>\n",
       "    <tr>\n",
       "      <th>8</th>\n",
       "      <td>make</td>\n",
       "      <td>-200.099087</td>\n",
       "      <td>-126.406952</td>\n",
       "    </tr>\n",
       "    <tr>\n",
       "      <th>9</th>\n",
       "      <td>fuel-type</td>\n",
       "      <td>-622.650015</td>\n",
       "      <td>-0.000000</td>\n",
       "    </tr>\n",
       "    <tr>\n",
       "      <th>10</th>\n",
       "      <td>body-style</td>\n",
       "      <td>-170.235175</td>\n",
       "      <td>-0.000000</td>\n",
       "    </tr>\n",
       "    <tr>\n",
       "      <th>11</th>\n",
       "      <td>drive-wheels</td>\n",
       "      <td>1868.607185</td>\n",
       "      <td>0.000000</td>\n",
       "    </tr>\n",
       "    <tr>\n",
       "      <th>12</th>\n",
       "      <td>engine-location</td>\n",
       "      <td>16413.361964</td>\n",
       "      <td>0.000000</td>\n",
       "    </tr>\n",
       "    <tr>\n",
       "      <th>13</th>\n",
       "      <td>engine-type</td>\n",
       "      <td>283.174279</td>\n",
       "      <td>0.000000</td>\n",
       "    </tr>\n",
       "  </tbody>\n",
       "</table>\n",
       "</div>"
      ],
      "text/plain": [
       "               Column  Before adding Error  After adding Error\n",
       "0           symboling            45.138496            0.000000\n",
       "1   normalized-losses             1.531276            3.963107\n",
       "2               width           789.452171            0.000000\n",
       "3              height           362.663990          276.932792\n",
       "4         engine-size            98.368287          135.341692\n",
       "5          horsepower           -10.816924           16.001291\n",
       "6            city-mpg           308.017854           -0.000000\n",
       "7         highway-mpg          -417.024371         -113.033120\n",
       "8                make          -200.099087         -126.406952\n",
       "9           fuel-type          -622.650015           -0.000000\n",
       "10         body-style          -170.235175           -0.000000\n",
       "11       drive-wheels          1868.607185            0.000000\n",
       "12    engine-location         16413.361964            0.000000\n",
       "13        engine-type           283.174279            0.000000"
      ]
     },
     "execution_count": 46,
     "metadata": {},
     "output_type": "execute_result"
    }
   ],
   "source": [
    "dic={\"Column\":col,\"Before adding Error\":lr_slope,\"After adding Error\":l1_slope}\n",
    "f=pd.DataFrame(dic)\n",
    "f"
   ]
  },
  {
   "cell_type": "code",
   "execution_count": 47,
   "id": "92400242",
   "metadata": {},
   "outputs": [
    {
     "data": {
      "text/plain": [
       "0.7571378367701931"
      ]
     },
     "execution_count": 47,
     "metadata": {},
     "output_type": "execute_result"
    }
   ],
   "source": [
    "#check Training Score after applying Lasso\n",
    "l1.score(X_train,Y_train)"
   ]
  },
  {
   "cell_type": "code",
   "execution_count": 48,
   "id": "ac0297a4",
   "metadata": {},
   "outputs": [
    {
     "data": {
      "text/plain": [
       "0.7909522259248712"
      ]
     },
     "execution_count": 48,
     "metadata": {},
     "output_type": "execute_result"
    }
   ],
   "source": [
    "#check testing Score\n",
    "l1.score(X_test,Y_test)"
   ]
  },
  {
   "cell_type": "code",
   "execution_count": 49,
   "id": "b1093e2e",
   "metadata": {},
   "outputs": [
    {
     "data": {
      "text/plain": [
       "0.7965566780397384"
      ]
     },
     "execution_count": 49,
     "metadata": {},
     "output_type": "execute_result"
    }
   ],
   "source": [
    "#finding testing score with the use of r2_score\n",
    "r2_score(Y_test,Y_pred)"
   ]
  },
  {
   "cell_type": "code",
   "execution_count": 50,
   "id": "9546a60a",
   "metadata": {
    "scrolled": false
   },
   "outputs": [
    {
     "name": "stdout",
     "output_type": "stream",
     "text": [
      "Traing Score = 200=0.798741697000666\n",
      "Testing Score = 200=0.8139201358023779\n",
      "Traing Score = 250=0.7813830614755176\n",
      "Testing Score = 250=0.812421909078023\n",
      "Traing Score = 300=0.7770052434923614\n",
      "Testing Score = 300=0.8085057299003376\n",
      "Traing Score = 350=0.7718310001161615\n",
      "Testing Score = 350=0.8036053753129061\n",
      "Traing Score = 400=0.7658616845894822\n",
      "Testing Score = 400=0.7977229768452248\n",
      "Traing Score = 450=0.7629172866915856\n",
      "Testing Score = 450=0.7950465607641614\n",
      "Traing Score = 500=0.7623627856030828\n",
      "Testing Score = 500=0.7946028204251037\n",
      "Traing Score = 550=0.7619482216545305\n",
      "Testing Score = 550=0.7942485978551436\n",
      "Traing Score = 600=0.7614935673272372\n",
      "Testing Score = 600=0.7938656404830354\n",
      "Traing Score = 650=0.7609979977249848\n",
      "Testing Score = 650=0.7934536226456452\n",
      "Traing Score = 700=0.760464029124157\n",
      "Testing Score = 700=0.7930208714948072\n",
      "Traing Score = 750=0.7598908737085027\n",
      "Testing Score = 750=0.7925637235065691\n",
      "Traing Score = 800=0.7592781949938978\n",
      "Testing Score = 800=0.7920812896372943\n",
      "Traing Score = 850=0.7586255604359615\n",
      "Testing Score = 850=0.7915726589657284\n",
      "Traing Score = 900=0.7579499521293308\n",
      "Testing Score = 900=0.7910703319438239\n",
      "Traing Score = 950=0.7575545480051227\n",
      "Testing Score = 950=0.7910205756985366\n",
      "Traing Score = 1000=0.7571378367701931\n",
      "Testing Score = 1000=0.7909522259248712\n"
     ]
    }
   ],
   "source": [
    "#How to select the right value of lambda (200-1000)\n",
    "#(alpha or hyper-parameter)\n",
    "#simple technique : -Lasso regularization\n",
    "#applying for loop\n",
    "for i in range (200,1001,50):\n",
    "    #creating object of Lasso\n",
    "    l1=Lasso(i)\n",
    "    #Training the model with 70% data\n",
    "    l1.fit(X_train,Y_train)\n",
    "    #testing the model with 30% data\n",
    "    Y_pred=l1.predict(X_test)\n",
    "    #Checking Training Score\n",
    "    Score1=l1.score(X_train,Y_train)\n",
    "    #checking Testing Score\n",
    "    Score2=l1.score(X_test,Y_test)\n",
    "    print(\"Traing Score = {}={}\".format(i,Score1))\n",
    "    print(\"Testing Score = {}={}\".format(i,Score2))\n",
    "    "
   ]
  },
  {
   "cell_type": "code",
   "execution_count": 51,
   "id": "e124e5e2",
   "metadata": {},
   "outputs": [],
   "source": [
    "# here right value of lambda is 200\n",
    "# we got score .81"
   ]
  },
  {
   "cell_type": "code",
   "execution_count": 52,
   "id": "67d35c23",
   "metadata": {},
   "outputs": [
    {
     "data": {
      "text/plain": [
       "' In Lasso , coefficient of less imp features =0 \\nmeans Lasso is very important for feature selection '"
      ]
     },
     "execution_count": 52,
     "metadata": {},
     "output_type": "execute_result"
    }
   ],
   "source": [
    "''' In Lasso , coefficient of less imp features =0 \n",
    "means Lasso is very important for feature selection '''"
   ]
  },
  {
   "cell_type": "code",
   "execution_count": 53,
   "id": "9400d202",
   "metadata": {
    "scrolled": false
   },
   "outputs": [
    {
     "name": "stdout",
     "output_type": "stream",
     "text": [
      "Traing Score = 0 : 0.8504573774895473\n",
      "Testing Score = 0 : 0.796556678039738\n",
      "Traing Score = 1 : 0.8436019887231633\n",
      "Testing Score = 1 : 0.8074518758147273\n",
      "Traing Score = 2 : 0.8356568294333326\n",
      "Testing Score = 2 : 0.8110292248150517\n",
      "Traing Score = 3 : 0.8295966853783839\n",
      "Testing Score = 3 : 0.8126933383890035\n",
      "Traing Score = 4 : 0.825005045662135\n",
      "Testing Score = 4 : 0.8136148645029299\n",
      "Traing Score = 5 : 0.8214255248858177\n",
      "Testing Score = 5 : 0.8141745853539418\n",
      "Traing Score = 6 : 0.818549790564273\n",
      "Testing Score = 6 : 0.8145301242133355\n",
      "Traing Score = 7 : 0.8161775446879698\n",
      "Testing Score = 7 : 0.8147582608502815\n",
      "Traing Score = 8 : 0.8141763553347592\n",
      "Testing Score = 8 : 0.8149010602831952\n",
      "Traing Score = 9 : 0.8124561449821565\n",
      "Testing Score = 9 : 0.8149836949253054\n",
      "Traing Score = 10 : 0.8109538582620313\n",
      "Testing Score = 10 : 0.8150222867376529\n",
      "Traing Score = 11 : 0.8096241695970484\n",
      "Testing Score = 11 : 0.8150277245431788\n",
      "Traing Score = 12 : 0.8084337140523128\n",
      "Testing Score = 12 : 0.8150076788279418\n",
      "Traing Score = 13 : 0.807357406111595\n",
      "Testing Score = 13 : 0.8149677381788261\n",
      "Traing Score = 14 : 0.8063760269401785\n",
      "Testing Score = 14 : 0.8149120868051174\n",
      "Traing Score = 15 : 0.8054746030665226\n",
      "Testing Score = 15 : 0.8148439278252518\n",
      "Traing Score = 16 : 0.8046412917341841\n",
      "Testing Score = 16 : 0.8147657584947389\n",
      "Traing Score = 17 : 0.8038665985400395\n",
      "Testing Score = 17 : 0.8146795554128123\n",
      "Traing Score = 18 : 0.803142817883897\n",
      "Testing Score = 18 : 0.8145869029046834\n",
      "Traing Score = 19 : 0.8024636258876571\n",
      "Testing Score = 19 : 0.8144890843369585\n",
      "Traing Score = 20 : 0.8018237796035677\n",
      "Testing Score = 20 : 0.8143871485445549\n",
      "Traing Score = 21 : 0.8012188915864451\n",
      "Testing Score = 21 : 0.8142819591129825\n",
      "Traing Score = 22 : 0.8006452587395115\n",
      "Testing Score = 22 : 0.8141742315788494\n",
      "Traing Score = 23 : 0.8000997308073305\n",
      "Testing Score = 23 : 0.8140645619421537\n",
      "Traing Score = 24 : 0.7995796082141255\n",
      "Testing Score = 24 : 0.813953448816606\n",
      "Traing Score = 25 : 0.7990825618875558\n",
      "Testing Score = 25 : 0.8138413108452036\n",
      "Traing Score = 26 : 0.7986065697399166\n",
      "Testing Score = 26 : 0.813728500540377\n",
      "Traing Score = 27 : 0.7981498659021868\n",
      "Testing Score = 27 : 0.8136153153884844\n",
      "Traing Score = 28 : 0.7977108998167779\n",
      "Testing Score = 28 : 0.8135020068362637\n",
      "Traing Score = 29 : 0.7972883030209655\n",
      "Testing Score = 29 : 0.8133887876197211\n",
      "Traing Score = 30 : 0.796880861980759\n",
      "Testing Score = 30 : 0.8132758377831448\n",
      "Traing Score = 31 : 0.7964874957227427\n",
      "Testing Score = 31 : 0.8131633096537951\n",
      "Traing Score = 32 : 0.7961072372991724\n",
      "Testing Score = 32 : 0.8130513319772292\n",
      "Traing Score = 33 : 0.7957392183371694\n",
      "Testing Score = 33 : 0.8129400133729974\n",
      "Traing Score = 34 : 0.7953826560857554\n",
      "Testing Score = 34 : 0.8128294452363016\n",
      "Traing Score = 35 : 0.7950368424986247\n",
      "Testing Score = 35 : 0.8127197041851852\n",
      "Traing Score = 36 : 0.7947011349858958\n",
      "Testing Score = 36 : 0.8126108541327798\n",
      "Traing Score = 37 : 0.7943749485418695\n",
      "Testing Score = 37 : 0.812502948048576\n",
      "Traing Score = 38 : 0.7940577490133227\n",
      "Testing Score = 38 : 0.812396029460508\n",
      "Traing Score = 39 : 0.7937490473179628\n",
      "Testing Score = 39 : 0.8122901337400302\n",
      "Traing Score = 40 : 0.7934483944582853\n",
      "Testing Score = 40 : 0.8121852892047275\n",
      "Traing Score = 41 : 0.7931553772043528\n",
      "Testing Score = 41 : 0.8120815180669058\n",
      "Traing Score = 42 : 0.7928696143416054\n",
      "Testing Score = 42 : 0.8119788372516913\n",
      "Traing Score = 43 : 0.7925907533979552\n",
      "Testing Score = 43 : 0.811877259104192\n",
      "Traing Score = 44 : 0.792318467779072\n",
      "Testing Score = 44 : 0.8117767920020493\n",
      "Traing Score = 45 : 0.7920524542526477\n",
      "Testing Score = 45 : 0.8116774408870526\n",
      "Traing Score = 46 : 0.7917924307321204\n",
      "Testing Score = 46 : 0.8115792077273272\n",
      "Traing Score = 47 : 0.7915381343182768\n",
      "Testing Score = 47 : 0.8114820919198035\n",
      "Traing Score = 48 : 0.7912893195636812\n",
      "Testing Score = 48 : 0.8113860906412017\n",
      "Traing Score = 49 : 0.7910457569302701\n",
      "Testing Score = 49 : 0.8112911991545091\n",
      "Traing Score = 50 : 0.790807231414931\n",
      "Testing Score = 50 : 0.8111974110769212\n"
     ]
    }
   ],
   "source": [
    "from sklearn.linear_model import Ridge\n",
    "#Ridge regularization \n",
    "#here value of Lambda= 0 to 50\n",
    "for i in range (0,51,1):\n",
    "    #creating object of Ridge\n",
    "    l2=Ridge(i)\n",
    "    #training the model with 70% data\n",
    "    l2.fit(X_train,Y_train)\n",
    "    #testing the model with 30% data\n",
    "    Y_pred=l2.predict(X_test)\n",
    "    #Checking Training Score\n",
    "    Score1=l2.score(X_train,Y_train)\n",
    "    #checking Testing Score\n",
    "    Score2=l2.score(X_test,Y_test)\n",
    "    print(\"Traing Score = {} : {}\".format(i,Score1))\n",
    "    print(\"Testing Score = {} : {}\".format(i,Score2))"
   ]
  },
  {
   "cell_type": "code",
   "execution_count": 54,
   "id": "31a55a48",
   "metadata": {},
   "outputs": [],
   "source": [
    "#checking slope after applying Ridge\n",
    "l2=Ridge(2)"
   ]
  },
  {
   "cell_type": "code",
   "execution_count": 55,
   "id": "9a5e07a7",
   "metadata": {},
   "outputs": [
    {
     "data": {
      "text/plain": [
       "Ridge(alpha=2)"
      ]
     },
     "execution_count": 55,
     "metadata": {},
     "output_type": "execute_result"
    }
   ],
   "source": [
    "l2.fit(X_train,Y_train)"
   ]
  },
  {
   "cell_type": "code",
   "execution_count": 56,
   "id": "4b5ff6e7",
   "metadata": {
    "scrolled": true
   },
   "outputs": [
    {
     "name": "stdout",
     "output_type": "stream",
     "text": [
      "[ 1.66477241e+02 -8.84331252e-01  5.06201386e+02  5.02070806e+02\n",
      "  1.00154543e+02  1.04124700e+01  2.44076984e+02 -3.27713737e+02\n",
      " -1.94641841e+02 -1.13894088e+03 -4.80922921e+02  1.88121378e+03\n",
      "  7.76076971e+03  4.65928529e+02]\n"
     ]
    }
   ],
   "source": [
    "m_ridge=l2.coef_\n",
    "print(m_ridge)"
   ]
  },
  {
   "cell_type": "code",
   "execution_count": 57,
   "id": "3caff4f6",
   "metadata": {},
   "outputs": [
    {
     "data": {
      "text/html": [
       "<div>\n",
       "<style scoped>\n",
       "    .dataframe tbody tr th:only-of-type {\n",
       "        vertical-align: middle;\n",
       "    }\n",
       "\n",
       "    .dataframe tbody tr th {\n",
       "        vertical-align: top;\n",
       "    }\n",
       "\n",
       "    .dataframe thead th {\n",
       "        text-align: right;\n",
       "    }\n",
       "</style>\n",
       "<table border=\"1\" class=\"dataframe\">\n",
       "  <thead>\n",
       "    <tr style=\"text-align: right;\">\n",
       "      <th></th>\n",
       "      <th>Column</th>\n",
       "      <th>Before adding Error</th>\n",
       "      <th>After adding Error</th>\n",
       "    </tr>\n",
       "  </thead>\n",
       "  <tbody>\n",
       "    <tr>\n",
       "      <th>0</th>\n",
       "      <td>symboling</td>\n",
       "      <td>45.138496</td>\n",
       "      <td>166.477241</td>\n",
       "    </tr>\n",
       "    <tr>\n",
       "      <th>1</th>\n",
       "      <td>normalized-losses</td>\n",
       "      <td>1.531276</td>\n",
       "      <td>-0.884331</td>\n",
       "    </tr>\n",
       "    <tr>\n",
       "      <th>2</th>\n",
       "      <td>width</td>\n",
       "      <td>789.452171</td>\n",
       "      <td>506.201386</td>\n",
       "    </tr>\n",
       "    <tr>\n",
       "      <th>3</th>\n",
       "      <td>height</td>\n",
       "      <td>362.663990</td>\n",
       "      <td>502.070806</td>\n",
       "    </tr>\n",
       "    <tr>\n",
       "      <th>4</th>\n",
       "      <td>engine-size</td>\n",
       "      <td>98.368287</td>\n",
       "      <td>100.154543</td>\n",
       "    </tr>\n",
       "    <tr>\n",
       "      <th>5</th>\n",
       "      <td>horsepower</td>\n",
       "      <td>-10.816924</td>\n",
       "      <td>10.412470</td>\n",
       "    </tr>\n",
       "    <tr>\n",
       "      <th>6</th>\n",
       "      <td>city-mpg</td>\n",
       "      <td>308.017854</td>\n",
       "      <td>244.076984</td>\n",
       "    </tr>\n",
       "    <tr>\n",
       "      <th>7</th>\n",
       "      <td>highway-mpg</td>\n",
       "      <td>-417.024371</td>\n",
       "      <td>-327.713737</td>\n",
       "    </tr>\n",
       "    <tr>\n",
       "      <th>8</th>\n",
       "      <td>make</td>\n",
       "      <td>-200.099087</td>\n",
       "      <td>-194.641841</td>\n",
       "    </tr>\n",
       "    <tr>\n",
       "      <th>9</th>\n",
       "      <td>fuel-type</td>\n",
       "      <td>-622.650015</td>\n",
       "      <td>-1138.940878</td>\n",
       "    </tr>\n",
       "    <tr>\n",
       "      <th>10</th>\n",
       "      <td>body-style</td>\n",
       "      <td>-170.235175</td>\n",
       "      <td>-480.922921</td>\n",
       "    </tr>\n",
       "    <tr>\n",
       "      <th>11</th>\n",
       "      <td>drive-wheels</td>\n",
       "      <td>1868.607185</td>\n",
       "      <td>1881.213785</td>\n",
       "    </tr>\n",
       "    <tr>\n",
       "      <th>12</th>\n",
       "      <td>engine-location</td>\n",
       "      <td>16413.361964</td>\n",
       "      <td>7760.769707</td>\n",
       "    </tr>\n",
       "    <tr>\n",
       "      <th>13</th>\n",
       "      <td>engine-type</td>\n",
       "      <td>283.174279</td>\n",
       "      <td>465.928529</td>\n",
       "    </tr>\n",
       "  </tbody>\n",
       "</table>\n",
       "</div>"
      ],
      "text/plain": [
       "               Column  Before adding Error  After adding Error\n",
       "0           symboling            45.138496          166.477241\n",
       "1   normalized-losses             1.531276           -0.884331\n",
       "2               width           789.452171          506.201386\n",
       "3              height           362.663990          502.070806\n",
       "4         engine-size            98.368287          100.154543\n",
       "5          horsepower           -10.816924           10.412470\n",
       "6            city-mpg           308.017854          244.076984\n",
       "7         highway-mpg          -417.024371         -327.713737\n",
       "8                make          -200.099087         -194.641841\n",
       "9           fuel-type          -622.650015        -1138.940878\n",
       "10         body-style          -170.235175         -480.922921\n",
       "11       drive-wheels          1868.607185         1881.213785\n",
       "12    engine-location         16413.361964         7760.769707\n",
       "13        engine-type           283.174279          465.928529"
      ]
     },
     "execution_count": 57,
     "metadata": {},
     "output_type": "execute_result"
    }
   ],
   "source": [
    "dic={\"Column\":col,\"Before adding Error\":lr_slope,\"After adding Error\":m_ridge}\n",
    "f1=pd.DataFrame(dic)\n",
    "f1"
   ]
  },
  {
   "cell_type": "code",
   "execution_count": 58,
   "id": "eff93ec4",
   "metadata": {},
   "outputs": [
    {
     "data": {
      "text/plain": [
       "' In Ridge , coefficient of less imp features is \\ndecrease and increase the \\ncoefficient of most imp features to predict the output\\n '"
      ]
     },
     "execution_count": 58,
     "metadata": {},
     "output_type": "execute_result"
    }
   ],
   "source": [
    "''' In Ridge , coefficient of less imp features is \n",
    "decrease and increase the \n",
    "coefficient of most imp features to predict the output\n",
    " '''"
   ]
  },
  {
   "cell_type": "code",
   "execution_count": 59,
   "id": "734bb172",
   "metadata": {},
   "outputs": [],
   "source": [
    "# in lasso : value of lambda =200 and score = .81\n",
    "# in Ridge : vale of  lambda =2 and score =.81"
   ]
  },
  {
   "cell_type": "code",
   "execution_count": 60,
   "id": "8a421b77",
   "metadata": {},
   "outputs": [],
   "source": [
    "#Apply cross validation : -  decides Either Ridge is better\n",
    "#or Lasso\n",
    "from sklearn.model_selection import cross_val_score \n",
    "#cross_val_score  inbuilt class"
   ]
  },
  {
   "cell_type": "code",
   "execution_count": 61,
   "id": "9d579724",
   "metadata": {},
   "outputs": [],
   "source": [
    "#create the object of Ridge and Lasso class and pass value\n",
    "l1=Lasso(200)\n",
    "l2=Ridge(2)"
   ]
  },
  {
   "cell_type": "code",
   "execution_count": 62,
   "id": "4b44e5e2",
   "metadata": {},
   "outputs": [],
   "source": [
    "#creating object of cross_val_score class\n",
    "l1_cross=cross_val_score(l1,X,Y,cv=4)\n",
    "#here l1 object of lasso and x the whole input y the whole output cv means num of division or parts of data == 4"
   ]
  },
  {
   "cell_type": "code",
   "execution_count": 63,
   "id": "52986e9b",
   "metadata": {},
   "outputs": [
    {
     "data": {
      "text/plain": [
       "array([0.76560829, 0.81872367, 0.43344753, 0.448364  ])"
      ]
     },
     "execution_count": 63,
     "metadata": {},
     "output_type": "execute_result"
    }
   ],
   "source": [
    "l1_cross #show score of each part"
   ]
  },
  {
   "cell_type": "code",
   "execution_count": 64,
   "id": "e6b6b4bb",
   "metadata": {},
   "outputs": [
    {
     "data": {
      "text/plain": [
       "0.6165358705430691"
      ]
     },
     "execution_count": 64,
     "metadata": {},
     "output_type": "execute_result"
    }
   ],
   "source": [
    "np.mean(l1_cross)\n",
    "#find the avg means mean of all value in L1_score"
   ]
  },
  {
   "cell_type": "code",
   "execution_count": 65,
   "id": "c8192c27",
   "metadata": {},
   "outputs": [],
   "source": [
    "#creating object of cross_val_score class\n",
    "l2_cross=cross_val_score(l2,X,Y,cv=4)\n",
    "#here l2 object of Ridge and x the whole input y the whole output cv means num of division or parts of data == 4"
   ]
  },
  {
   "cell_type": "code",
   "execution_count": 66,
   "id": "d3a7dc36",
   "metadata": {},
   "outputs": [
    {
     "data": {
      "text/plain": [
       "array([0.71176474, 0.86474228, 0.37640664, 0.47020196])"
      ]
     },
     "execution_count": 66,
     "metadata": {},
     "output_type": "execute_result"
    }
   ],
   "source": [
    "l2_cross"
   ]
  },
  {
   "cell_type": "code",
   "execution_count": 67,
   "id": "30f6d7c1",
   "metadata": {},
   "outputs": [
    {
     "data": {
      "text/plain": [
       "0.6057789059244741"
      ]
     },
     "execution_count": 67,
     "metadata": {},
     "output_type": "execute_result"
    }
   ],
   "source": [
    "np.mean(l2_cross)"
   ]
  },
  {
   "cell_type": "code",
   "execution_count": null,
   "id": "a16e456f",
   "metadata": {},
   "outputs": [],
   "source": [
    "#Conclusion : Lasso regularization is best for this DataSet"
   ]
  }
 ],
 "metadata": {
  "kernelspec": {
   "display_name": "Python 3 (ipykernel)",
   "language": "python",
   "name": "python3"
  },
  "language_info": {
   "codemirror_mode": {
    "name": "ipython",
    "version": 3
   },
   "file_extension": ".py",
   "mimetype": "text/x-python",
   "name": "python",
   "nbconvert_exporter": "python",
   "pygments_lexer": "ipython3",
   "version": "3.10.1"
  }
 },
 "nbformat": 4,
 "nbformat_minor": 5
}
