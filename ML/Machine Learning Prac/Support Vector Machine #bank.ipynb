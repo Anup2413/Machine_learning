{
 "cells": [
  {
   "cell_type": "code",
   "execution_count": 1,
   "id": "2d9d5ecb",
   "metadata": {},
   "outputs": [],
   "source": [
    "#support Vector Machine on Bank DataSet\n",
    "import numpy as np\n",
    "import pandas as pd\n",
    "import matplotlib.pyplot as plt\n",
    "import seaborn as sns\n",
    "import warnings\n",
    "warnings.filterwarnings('ignore')"
   ]
  },
  {
   "cell_type": "code",
   "execution_count": 2,
   "id": "f10935fc",
   "metadata": {},
   "outputs": [
    {
     "data": {
      "text/html": [
       "<div>\n",
       "<style scoped>\n",
       "    .dataframe tbody tr th:only-of-type {\n",
       "        vertical-align: middle;\n",
       "    }\n",
       "\n",
       "    .dataframe tbody tr th {\n",
       "        vertical-align: top;\n",
       "    }\n",
       "\n",
       "    .dataframe thead th {\n",
       "        text-align: right;\n",
       "    }\n",
       "</style>\n",
       "<table border=\"1\" class=\"dataframe\">\n",
       "  <thead>\n",
       "    <tr style=\"text-align: right;\">\n",
       "      <th></th>\n",
       "      <th>age</th>\n",
       "      <th>job</th>\n",
       "      <th>marital</th>\n",
       "      <th>education</th>\n",
       "      <th>default</th>\n",
       "      <th>balance</th>\n",
       "      <th>housing</th>\n",
       "      <th>loan</th>\n",
       "      <th>contact</th>\n",
       "      <th>day</th>\n",
       "      <th>month</th>\n",
       "      <th>duration</th>\n",
       "      <th>campaign</th>\n",
       "      <th>pdays</th>\n",
       "      <th>previous</th>\n",
       "      <th>poutcome</th>\n",
       "      <th>deposit</th>\n",
       "    </tr>\n",
       "  </thead>\n",
       "  <tbody>\n",
       "    <tr>\n",
       "      <th>0</th>\n",
       "      <td>59</td>\n",
       "      <td>0</td>\n",
       "      <td>1</td>\n",
       "      <td>1</td>\n",
       "      <td>0</td>\n",
       "      <td>2343</td>\n",
       "      <td>1</td>\n",
       "      <td>0</td>\n",
       "      <td>2</td>\n",
       "      <td>5</td>\n",
       "      <td>8</td>\n",
       "      <td>1042</td>\n",
       "      <td>1</td>\n",
       "      <td>-1</td>\n",
       "      <td>0</td>\n",
       "      <td>3</td>\n",
       "      <td>1</td>\n",
       "    </tr>\n",
       "    <tr>\n",
       "      <th>1</th>\n",
       "      <td>56</td>\n",
       "      <td>0</td>\n",
       "      <td>1</td>\n",
       "      <td>1</td>\n",
       "      <td>0</td>\n",
       "      <td>45</td>\n",
       "      <td>0</td>\n",
       "      <td>0</td>\n",
       "      <td>2</td>\n",
       "      <td>5</td>\n",
       "      <td>8</td>\n",
       "      <td>1467</td>\n",
       "      <td>1</td>\n",
       "      <td>-1</td>\n",
       "      <td>0</td>\n",
       "      <td>3</td>\n",
       "      <td>1</td>\n",
       "    </tr>\n",
       "    <tr>\n",
       "      <th>2</th>\n",
       "      <td>41</td>\n",
       "      <td>9</td>\n",
       "      <td>1</td>\n",
       "      <td>1</td>\n",
       "      <td>0</td>\n",
       "      <td>1270</td>\n",
       "      <td>1</td>\n",
       "      <td>0</td>\n",
       "      <td>2</td>\n",
       "      <td>5</td>\n",
       "      <td>8</td>\n",
       "      <td>1389</td>\n",
       "      <td>1</td>\n",
       "      <td>-1</td>\n",
       "      <td>0</td>\n",
       "      <td>3</td>\n",
       "      <td>1</td>\n",
       "    </tr>\n",
       "    <tr>\n",
       "      <th>3</th>\n",
       "      <td>55</td>\n",
       "      <td>7</td>\n",
       "      <td>1</td>\n",
       "      <td>1</td>\n",
       "      <td>0</td>\n",
       "      <td>2476</td>\n",
       "      <td>1</td>\n",
       "      <td>0</td>\n",
       "      <td>2</td>\n",
       "      <td>5</td>\n",
       "      <td>8</td>\n",
       "      <td>579</td>\n",
       "      <td>1</td>\n",
       "      <td>-1</td>\n",
       "      <td>0</td>\n",
       "      <td>3</td>\n",
       "      <td>1</td>\n",
       "    </tr>\n",
       "    <tr>\n",
       "      <th>4</th>\n",
       "      <td>54</td>\n",
       "      <td>0</td>\n",
       "      <td>1</td>\n",
       "      <td>2</td>\n",
       "      <td>0</td>\n",
       "      <td>184</td>\n",
       "      <td>0</td>\n",
       "      <td>0</td>\n",
       "      <td>2</td>\n",
       "      <td>5</td>\n",
       "      <td>8</td>\n",
       "      <td>673</td>\n",
       "      <td>2</td>\n",
       "      <td>-1</td>\n",
       "      <td>0</td>\n",
       "      <td>3</td>\n",
       "      <td>1</td>\n",
       "    </tr>\n",
       "  </tbody>\n",
       "</table>\n",
       "</div>"
      ],
      "text/plain": [
       "   age  job  marital  education  default  balance  housing  loan  contact  \\\n",
       "0   59    0        1          1        0     2343        1     0        2   \n",
       "1   56    0        1          1        0       45        0     0        2   \n",
       "2   41    9        1          1        0     1270        1     0        2   \n",
       "3   55    7        1          1        0     2476        1     0        2   \n",
       "4   54    0        1          2        0      184        0     0        2   \n",
       "\n",
       "   day  month  duration  campaign  pdays  previous  poutcome  deposit  \n",
       "0    5      8      1042         1     -1         0         3        1  \n",
       "1    5      8      1467         1     -1         0         3        1  \n",
       "2    5      8      1389         1     -1         0         3        1  \n",
       "3    5      8       579         1     -1         0         3        1  \n",
       "4    5      8       673         2     -1         0         3        1  "
      ]
     },
     "execution_count": 2,
     "metadata": {},
     "output_type": "execute_result"
    }
   ],
   "source": [
    "#load dataset\n",
    "df=pd.read_csv(\"bank.csv\")\n",
    "df.head()"
   ]
  },
  {
   "cell_type": "code",
   "execution_count": 3,
   "id": "7d2b2dcf",
   "metadata": {},
   "outputs": [
    {
     "data": {
      "text/plain": [
       "0    5873\n",
       "1    5289\n",
       "Name: deposit, dtype: int64"
      ]
     },
     "execution_count": 3,
     "metadata": {},
     "output_type": "execute_result"
    }
   ],
   "source": [
    "#check data balanced or not\n",
    "df[\"deposit\"].value_counts()"
   ]
  },
  {
   "cell_type": "code",
   "execution_count": 25,
   "id": "7079efd6",
   "metadata": {},
   "outputs": [
    {
     "data": {
      "text/plain": [
       "(11162, 17)"
      ]
     },
     "execution_count": 25,
     "metadata": {},
     "output_type": "execute_result"
    }
   ],
   "source": [
    "df.shape"
   ]
  },
  {
   "cell_type": "code",
   "execution_count": 4,
   "id": "9cdd526d",
   "metadata": {},
   "outputs": [
    {
     "data": {
      "text/plain": [
       "age          0\n",
       "job          0\n",
       "marital      0\n",
       "education    0\n",
       "default      0\n",
       "balance      0\n",
       "housing      0\n",
       "loan         0\n",
       "contact      0\n",
       "day          0\n",
       "month        0\n",
       "duration     0\n",
       "campaign     0\n",
       "pdays        0\n",
       "previous     0\n",
       "poutcome     0\n",
       "deposit      0\n",
       "dtype: int64"
      ]
     },
     "execution_count": 4,
     "metadata": {},
     "output_type": "execute_result"
    }
   ],
   "source": [
    "#check null value\n",
    "df.isnull().sum()"
   ]
  },
  {
   "cell_type": "code",
   "execution_count": 5,
   "id": "baad46fd",
   "metadata": {},
   "outputs": [
    {
     "data": {
      "text/plain": [
       "age          int64\n",
       "job          int64\n",
       "marital      int64\n",
       "education    int64\n",
       "default      int64\n",
       "balance      int64\n",
       "housing      int64\n",
       "loan         int64\n",
       "contact      int64\n",
       "day          int64\n",
       "month        int64\n",
       "duration     int64\n",
       "campaign     int64\n",
       "pdays        int64\n",
       "previous     int64\n",
       "poutcome     int64\n",
       "deposit      int64\n",
       "dtype: object"
      ]
     },
     "execution_count": 5,
     "metadata": {},
     "output_type": "execute_result"
    }
   ],
   "source": [
    "#datatype\n",
    "df.dtypes"
   ]
  },
  {
   "cell_type": "code",
   "execution_count": 6,
   "id": "a201f800",
   "metadata": {},
   "outputs": [],
   "source": [
    "X=df.drop(\"deposit\",axis=1)#input\n",
    "Y=df[\"deposit\"]#output"
   ]
  },
  {
   "cell_type": "code",
   "execution_count": 7,
   "id": "7ade6e69",
   "metadata": {},
   "outputs": [],
   "source": [
    "#train_test_split seperating 70% training and 30% testing Data\n",
    "from sklearn.model_selection import train_test_split\n",
    "Xtrain,Xtest,Ytrain,Ytest=train_test_split(X,Y,test_size=0.3,random_state=1)"
   ]
  },
  {
   "cell_type": "code",
   "execution_count": 8,
   "id": "79e89fd5",
   "metadata": {},
   "outputs": [],
   "source": [
    "#scaling\n",
    "from sklearn.preprocessing import StandardScaler"
   ]
  },
  {
   "cell_type": "code",
   "execution_count": 9,
   "id": "30c10455",
   "metadata": {},
   "outputs": [],
   "source": [
    "#creating object and apply scaling\n",
    "ss=StandardScaler()\n",
    "Xtrain=ss.fit_transform(Xtrain)\n",
    "Xtest=ss.transform(Xtest)"
   ]
  },
  {
   "cell_type": "code",
   "execution_count": 10,
   "id": "27f8535f",
   "metadata": {},
   "outputs": [],
   "source": [
    "#creating function\n",
    "def create_model(model):\n",
    "    model.fit(Xtrain,Ytrain)\n",
    "    Ypred=model.predict(Xtest)\n",
    "    print(\"Classification Report\\n\",classification_report(Ytest,Ypred))\n",
    "    print(\"Confusion Matrix\\n\",confusion_matrix(Ytest,Ypred))\n",
    "    return model"
   ]
  },
  {
   "cell_type": "code",
   "execution_count": 11,
   "id": "0fcd3439",
   "metadata": {},
   "outputs": [],
   "source": [
    "from sklearn.metrics import classification_report\n",
    "from sklearn.metrics import confusion_matrix"
   ]
  },
  {
   "cell_type": "code",
   "execution_count": 12,
   "id": "98d03b8f",
   "metadata": {},
   "outputs": [],
   "source": [
    "#applying Base line Model\n",
    "#decision Tree\n",
    "#pruning Technique\n",
    "#all boosting Technique\n",
    "#random Forest"
   ]
  },
  {
   "cell_type": "markdown",
   "id": "0b42e1d5",
   "metadata": {},
   "source": [
    "# Applying Support Vector Machine"
   ]
  },
  {
   "cell_type": "code",
   "execution_count": 13,
   "id": "769a03cc",
   "metadata": {},
   "outputs": [],
   "source": [
    "#Apply Support vector  machine : -\n",
    "#use SVM : support vector machine : - classification algorithm\n",
    "#There are 3 types of SVM (Kernel function) : -\n",
    "#1. Linear kernel function of SVM : means suppose data are linearly \n",
    "#separatable with the help of straight line  ,it is known as decision boundary\n",
    "#or hyperplane\n",
    "#call class LinearSVC inbuilt class\n",
    "#SVC : support vector classifier\n",
    "'''Call Function '''\n",
    "from sklearn.svm import LinearSVC"
   ]
  },
  {
   "cell_type": "code",
   "execution_count": 14,
   "id": "4a334b67",
   "metadata": {},
   "outputs": [],
   "source": [
    "#creating object of Linear SVC Class\n",
    "svc=LinearSVC(random_state=1) #hard Margin bydefault because error is not yet added"
   ]
  },
  {
   "cell_type": "code",
   "execution_count": 15,
   "id": "8ef4255c",
   "metadata": {},
   "outputs": [
    {
     "name": "stdout",
     "output_type": "stream",
     "text": [
      "Classification Report\n",
      "               precision    recall  f1-score   support\n",
      "\n",
      "           0       0.80      0.82      0.81      1760\n",
      "           1       0.79      0.77      0.78      1589\n",
      "\n",
      "    accuracy                           0.80      3349\n",
      "   macro avg       0.80      0.80      0.80      3349\n",
      "weighted avg       0.80      0.80      0.80      3349\n",
      "\n",
      "Confusion Matrix\n",
      " [[1444  316]\n",
      " [ 364 1225]]\n"
     ]
    }
   ],
   "source": [
    "svc=create_model(svc)"
   ]
  },
  {
   "cell_type": "markdown",
   "id": "d32be1ee",
   "metadata": {},
   "source": [
    "### here recall is 0.77 which is good but we can more better\n",
    "1. means can be possible ,model is overfit  why  perhaps , can be no error on training time but error on testing time , \n",
    "2. what  do we do?\n",
    "   add some external error on training time  if create a object of LinearSVC class"
   ]
  },
  {
   "cell_type": "code",
   "execution_count": 16,
   "id": "08dfe3be",
   "metadata": {},
   "outputs": [],
   "source": [
    "#Soft margin means to reduced overfitting situation means some error add on\n",
    "#training time \n",
    "#create object of LinearSVC class\n",
    "svc1=LinearSVC(random_state=1,C=0.5)\n",
    "##add some error on training time set error 0.01,0.05,....... \n",
    "#value of parameter C is not more than 1"
   ]
  },
  {
   "cell_type": "code",
   "execution_count": 17,
   "id": "141e87d4",
   "metadata": {},
   "outputs": [
    {
     "name": "stdout",
     "output_type": "stream",
     "text": [
      "Classification Report\n",
      "               precision    recall  f1-score   support\n",
      "\n",
      "           0       0.80      0.82      0.81      1760\n",
      "           1       0.79      0.77      0.78      1589\n",
      "\n",
      "    accuracy                           0.80      3349\n",
      "   macro avg       0.80      0.80      0.80      3349\n",
      "weighted avg       0.80      0.80      0.80      3349\n",
      "\n",
      "Confusion Matrix\n",
      " [[1444  316]\n",
      " [ 364 1225]]\n"
     ]
    }
   ],
   "source": [
    "#calling function\n",
    "svc1=create_model(svc1)"
   ]
  },
  {
   "cell_type": "markdown",
   "id": "2b6673a2",
   "metadata": {},
   "source": [
    "## Here we can see that even after adding error we do not have any changes in the score of the model\n",
    "hence the model is not overfit \n",
    "which means the model is not working with linear SVC"
   ]
  },
  {
   "cell_type": "code",
   "execution_count": 18,
   "id": "19e2e1b9",
   "metadata": {},
   "outputs": [],
   "source": [
    "#if add external error on training time but no any changes on score\n",
    "#means given dataset in non-Linear\n",
    "#can be possible , dataset is not linear means dataset is non-linear  .\n",
    "#use Non-linear kernal function of SVM means 2 classes are not \n",
    "#separatable with straight line"
   ]
  },
  {
   "cell_type": "code",
   "execution_count": 19,
   "id": "0c28c125",
   "metadata": {},
   "outputs": [],
   "source": [
    "#There are 3 types of Kernal function of SVM\n",
    "#1. Linear SVC  : use for linear data\n",
    "#2. Non-Linear SVC : use for non-linear data\n",
    "#1. polynomial kernal function : increase the low dimension to high dimension\n",
    "#2. radial basis kernal function\n",
    "\n",
    "#here 2. polynomial kernal function : increase the low dimension to \n",
    "#high dimension\n",
    "#3. radial basis kernal function  both are non-linear data"
   ]
  },
  {
   "cell_type": "markdown",
   "id": "a31d8964",
   "metadata": {},
   "source": [
    "## 2. Polynomal Kernal Function (Non-Linear)"
   ]
  },
  {
   "cell_type": "code",
   "execution_count": 20,
   "id": "bb49e3fb",
   "metadata": {},
   "outputs": [],
   "source": [
    "#calling function\n",
    "from sklearn.svm import SVC\n",
    "#svc inbuilt class for non- linear data"
   ]
  },
  {
   "cell_type": "code",
   "execution_count": 21,
   "id": "d64e29a1",
   "metadata": {},
   "outputs": [],
   "source": [
    "#creating Object\n",
    "poly_svc=SVC(random_state=1,kernel=\"poly\")"
   ]
  },
  {
   "cell_type": "code",
   "execution_count": 22,
   "id": "19fcae34",
   "metadata": {},
   "outputs": [
    {
     "name": "stdout",
     "output_type": "stream",
     "text": [
      "Classification Report\n",
      "               precision    recall  f1-score   support\n",
      "\n",
      "           0       0.82      0.81      0.81      1760\n",
      "           1       0.79      0.80      0.80      1589\n",
      "\n",
      "    accuracy                           0.80      3349\n",
      "   macro avg       0.80      0.80      0.80      3349\n",
      "weighted avg       0.81      0.80      0.80      3349\n",
      "\n",
      "Confusion Matrix\n",
      " [[1417  343]\n",
      " [ 311 1278]]\n"
     ]
    }
   ],
   "source": [
    "#calling Function\n",
    "poly_svc=create_model(poly_svc)"
   ]
  },
  {
   "cell_type": "code",
   "execution_count": 23,
   "id": "0d12c2b5",
   "metadata": {},
   "outputs": [],
   "source": [
    "#we try using second kernel function that is radial base function\\\n",
    "#creating object of svc for radial function now\n",
    "radial_svc=SVC(random_state=1,kernel=\"rbf\")"
   ]
  },
  {
   "cell_type": "code",
   "execution_count": 24,
   "id": "f04d875a",
   "metadata": {},
   "outputs": [
    {
     "name": "stdout",
     "output_type": "stream",
     "text": [
      "Classification Report\n",
      "               precision    recall  f1-score   support\n",
      "\n",
      "           0       0.84      0.80      0.82      1760\n",
      "           1       0.79      0.84      0.81      1589\n",
      "\n",
      "    accuracy                           0.82      3349\n",
      "   macro avg       0.82      0.82      0.82      3349\n",
      "weighted avg       0.82      0.82      0.82      3349\n",
      "\n",
      "Confusion Matrix\n",
      " [[1407  353]\n",
      " [ 262 1327]]\n"
     ]
    }
   ],
   "source": [
    "#calling function\n",
    "radial_svc=create_model(radial_svc)"
   ]
  },
  {
   "cell_type": "code",
   "execution_count": null,
   "id": "b7844313",
   "metadata": {},
   "outputs": [],
   "source": []
  }
 ],
 "metadata": {
  "kernelspec": {
   "display_name": "Python 3 (ipykernel)",
   "language": "python",
   "name": "python3"
  },
  "language_info": {
   "codemirror_mode": {
    "name": "ipython",
    "version": 3
   },
   "file_extension": ".py",
   "mimetype": "text/x-python",
   "name": "python",
   "nbconvert_exporter": "python",
   "pygments_lexer": "ipython3",
   "version": "3.10.1"
  }
 },
 "nbformat": 4,
 "nbformat_minor": 5
}
