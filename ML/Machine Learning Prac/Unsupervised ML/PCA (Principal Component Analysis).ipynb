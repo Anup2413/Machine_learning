{
 "cells": [
  {
   "cell_type": "code",
   "execution_count": 1,
   "id": "059ee393",
   "metadata": {},
   "outputs": [],
   "source": [
    "#importing Basic Library\n",
    "import numpy as np\n",
    "import pandas as pd\n",
    "import matplotlib.pyplot as plt\n",
    "import seaborn as sns\n",
    "import warnings\n",
    "warnings.filterwarnings('ignore')"
   ]
  },
  {
   "cell_type": "code",
   "execution_count": 2,
   "id": "493879df",
   "metadata": {},
   "outputs": [
    {
     "data": {
      "text/html": [
       "<div>\n",
       "<style scoped>\n",
       "    .dataframe tbody tr th:only-of-type {\n",
       "        vertical-align: middle;\n",
       "    }\n",
       "\n",
       "    .dataframe tbody tr th {\n",
       "        vertical-align: top;\n",
       "    }\n",
       "\n",
       "    .dataframe thead th {\n",
       "        text-align: right;\n",
       "    }\n",
       "</style>\n",
       "<table border=\"1\" class=\"dataframe\">\n",
       "  <thead>\n",
       "    <tr style=\"text-align: right;\">\n",
       "      <th></th>\n",
       "      <th>Alcohol</th>\n",
       "      <th>Malic_Acid</th>\n",
       "      <th>Ash</th>\n",
       "      <th>Ash_Alcanity</th>\n",
       "      <th>Magnesium</th>\n",
       "      <th>Total_Phenols</th>\n",
       "      <th>Flavanoids</th>\n",
       "      <th>Nonflavanoid_Phenols</th>\n",
       "      <th>Proanthocyanins</th>\n",
       "      <th>Color_Intensity</th>\n",
       "      <th>Hue</th>\n",
       "      <th>OD280</th>\n",
       "      <th>Proline</th>\n",
       "      <th>Customer_Segment</th>\n",
       "    </tr>\n",
       "  </thead>\n",
       "  <tbody>\n",
       "    <tr>\n",
       "      <th>6</th>\n",
       "      <td>14.39</td>\n",
       "      <td>1.87</td>\n",
       "      <td>2.45</td>\n",
       "      <td>14.6</td>\n",
       "      <td>96</td>\n",
       "      <td>2.50</td>\n",
       "      <td>2.52</td>\n",
       "      <td>0.30</td>\n",
       "      <td>1.98</td>\n",
       "      <td>5.25</td>\n",
       "      <td>1.02</td>\n",
       "      <td>3.58</td>\n",
       "      <td>1290</td>\n",
       "      <td>1</td>\n",
       "    </tr>\n",
       "    <tr>\n",
       "      <th>54</th>\n",
       "      <td>13.74</td>\n",
       "      <td>1.67</td>\n",
       "      <td>2.25</td>\n",
       "      <td>16.4</td>\n",
       "      <td>118</td>\n",
       "      <td>2.60</td>\n",
       "      <td>2.90</td>\n",
       "      <td>0.21</td>\n",
       "      <td>1.62</td>\n",
       "      <td>5.85</td>\n",
       "      <td>0.92</td>\n",
       "      <td>3.20</td>\n",
       "      <td>1060</td>\n",
       "      <td>1</td>\n",
       "    </tr>\n",
       "    <tr>\n",
       "      <th>128</th>\n",
       "      <td>12.37</td>\n",
       "      <td>1.63</td>\n",
       "      <td>2.30</td>\n",
       "      <td>24.5</td>\n",
       "      <td>88</td>\n",
       "      <td>2.22</td>\n",
       "      <td>2.45</td>\n",
       "      <td>0.40</td>\n",
       "      <td>1.90</td>\n",
       "      <td>2.12</td>\n",
       "      <td>0.89</td>\n",
       "      <td>2.78</td>\n",
       "      <td>342</td>\n",
       "      <td>2</td>\n",
       "    </tr>\n",
       "    <tr>\n",
       "      <th>123</th>\n",
       "      <td>13.05</td>\n",
       "      <td>5.80</td>\n",
       "      <td>2.13</td>\n",
       "      <td>21.5</td>\n",
       "      <td>86</td>\n",
       "      <td>2.62</td>\n",
       "      <td>2.65</td>\n",
       "      <td>0.30</td>\n",
       "      <td>2.01</td>\n",
       "      <td>2.60</td>\n",
       "      <td>0.73</td>\n",
       "      <td>3.10</td>\n",
       "      <td>380</td>\n",
       "      <td>2</td>\n",
       "    </tr>\n",
       "    <tr>\n",
       "      <th>114</th>\n",
       "      <td>12.08</td>\n",
       "      <td>1.39</td>\n",
       "      <td>2.50</td>\n",
       "      <td>22.5</td>\n",
       "      <td>84</td>\n",
       "      <td>2.56</td>\n",
       "      <td>2.29</td>\n",
       "      <td>0.43</td>\n",
       "      <td>1.04</td>\n",
       "      <td>2.90</td>\n",
       "      <td>0.93</td>\n",
       "      <td>3.19</td>\n",
       "      <td>385</td>\n",
       "      <td>2</td>\n",
       "    </tr>\n",
       "    <tr>\n",
       "      <th>113</th>\n",
       "      <td>11.41</td>\n",
       "      <td>0.74</td>\n",
       "      <td>2.50</td>\n",
       "      <td>21.0</td>\n",
       "      <td>88</td>\n",
       "      <td>2.48</td>\n",
       "      <td>2.01</td>\n",
       "      <td>0.42</td>\n",
       "      <td>1.44</td>\n",
       "      <td>3.08</td>\n",
       "      <td>1.10</td>\n",
       "      <td>2.31</td>\n",
       "      <td>434</td>\n",
       "      <td>2</td>\n",
       "    </tr>\n",
       "    <tr>\n",
       "      <th>84</th>\n",
       "      <td>11.84</td>\n",
       "      <td>0.89</td>\n",
       "      <td>2.58</td>\n",
       "      <td>18.0</td>\n",
       "      <td>94</td>\n",
       "      <td>2.20</td>\n",
       "      <td>2.21</td>\n",
       "      <td>0.22</td>\n",
       "      <td>2.35</td>\n",
       "      <td>3.05</td>\n",
       "      <td>0.79</td>\n",
       "      <td>3.08</td>\n",
       "      <td>520</td>\n",
       "      <td>2</td>\n",
       "    </tr>\n",
       "    <tr>\n",
       "      <th>12</th>\n",
       "      <td>13.75</td>\n",
       "      <td>1.73</td>\n",
       "      <td>2.41</td>\n",
       "      <td>16.0</td>\n",
       "      <td>89</td>\n",
       "      <td>2.60</td>\n",
       "      <td>2.76</td>\n",
       "      <td>0.29</td>\n",
       "      <td>1.81</td>\n",
       "      <td>5.60</td>\n",
       "      <td>1.15</td>\n",
       "      <td>2.90</td>\n",
       "      <td>1320</td>\n",
       "      <td>1</td>\n",
       "    </tr>\n",
       "    <tr>\n",
       "      <th>156</th>\n",
       "      <td>13.84</td>\n",
       "      <td>4.12</td>\n",
       "      <td>2.38</td>\n",
       "      <td>19.5</td>\n",
       "      <td>89</td>\n",
       "      <td>1.80</td>\n",
       "      <td>0.83</td>\n",
       "      <td>0.48</td>\n",
       "      <td>1.56</td>\n",
       "      <td>9.01</td>\n",
       "      <td>0.57</td>\n",
       "      <td>1.64</td>\n",
       "      <td>480</td>\n",
       "      <td>3</td>\n",
       "    </tr>\n",
       "    <tr>\n",
       "      <th>120</th>\n",
       "      <td>11.45</td>\n",
       "      <td>2.40</td>\n",
       "      <td>2.42</td>\n",
       "      <td>20.0</td>\n",
       "      <td>96</td>\n",
       "      <td>2.90</td>\n",
       "      <td>2.79</td>\n",
       "      <td>0.32</td>\n",
       "      <td>1.83</td>\n",
       "      <td>3.25</td>\n",
       "      <td>0.80</td>\n",
       "      <td>3.39</td>\n",
       "      <td>625</td>\n",
       "      <td>2</td>\n",
       "    </tr>\n",
       "  </tbody>\n",
       "</table>\n",
       "</div>"
      ],
      "text/plain": [
       "     Alcohol  Malic_Acid   Ash  Ash_Alcanity  Magnesium  Total_Phenols  \\\n",
       "6      14.39        1.87  2.45          14.6         96           2.50   \n",
       "54     13.74        1.67  2.25          16.4        118           2.60   \n",
       "128    12.37        1.63  2.30          24.5         88           2.22   \n",
       "123    13.05        5.80  2.13          21.5         86           2.62   \n",
       "114    12.08        1.39  2.50          22.5         84           2.56   \n",
       "113    11.41        0.74  2.50          21.0         88           2.48   \n",
       "84     11.84        0.89  2.58          18.0         94           2.20   \n",
       "12     13.75        1.73  2.41          16.0         89           2.60   \n",
       "156    13.84        4.12  2.38          19.5         89           1.80   \n",
       "120    11.45        2.40  2.42          20.0         96           2.90   \n",
       "\n",
       "     Flavanoids  Nonflavanoid_Phenols  Proanthocyanins  Color_Intensity   Hue  \\\n",
       "6          2.52                  0.30             1.98             5.25  1.02   \n",
       "54         2.90                  0.21             1.62             5.85  0.92   \n",
       "128        2.45                  0.40             1.90             2.12  0.89   \n",
       "123        2.65                  0.30             2.01             2.60  0.73   \n",
       "114        2.29                  0.43             1.04             2.90  0.93   \n",
       "113        2.01                  0.42             1.44             3.08  1.10   \n",
       "84         2.21                  0.22             2.35             3.05  0.79   \n",
       "12         2.76                  0.29             1.81             5.60  1.15   \n",
       "156        0.83                  0.48             1.56             9.01  0.57   \n",
       "120        2.79                  0.32             1.83             3.25  0.80   \n",
       "\n",
       "     OD280  Proline  Customer_Segment  \n",
       "6     3.58     1290                 1  \n",
       "54    3.20     1060                 1  \n",
       "128   2.78      342                 2  \n",
       "123   3.10      380                 2  \n",
       "114   3.19      385                 2  \n",
       "113   2.31      434                 2  \n",
       "84    3.08      520                 2  \n",
       "12    2.90     1320                 1  \n",
       "156   1.64      480                 3  \n",
       "120   3.39      625                 2  "
      ]
     },
     "execution_count": 2,
     "metadata": {},
     "output_type": "execute_result"
    }
   ],
   "source": [
    "#load data set\n",
    "df=pd.read_csv(\"wine.csv\")\n",
    "#randaom taking 10 data\n",
    "df.sample(10)"
   ]
  },
  {
   "cell_type": "code",
   "execution_count": 3,
   "id": "e50dc08f",
   "metadata": {},
   "outputs": [
    {
     "data": {
      "text/plain": [
       "array([1, 2, 3], dtype=int64)"
      ]
     },
     "execution_count": 3,
     "metadata": {},
     "output_type": "execute_result"
    }
   ],
   "source": [
    "#to check how many type of Customer_Segment\n",
    "df[\"Customer_Segment\"].unique()"
   ]
  },
  {
   "cell_type": "code",
   "execution_count": 4,
   "id": "a21b0207",
   "metadata": {},
   "outputs": [
    {
     "data": {
      "image/png": "[encoded data removed]",
      "text/plain": [
       "<Figure size 432x288 with 1 Axes>"
      ]
     },
     "metadata": {
      "needs_background": "light"
     },
     "output_type": "display_data"
    }
   ],
   "source": [
    "sns.countplot(data=df,x=\"Customer_Segment\")\n",
    "f=df[\"Customer_Segment\"].value_counts()\n",
    "plt.yticks(f)\n",
    "plt.show()"
   ]
  },
  {
   "cell_type": "code",
   "execution_count": 5,
   "id": "4c31e9cc",
   "metadata": {},
   "outputs": [],
   "source": [
    "#we have 3 class meaning this cass is a multiclass classifier \n",
    "#THIS IS A CLASSIFICATION ALGORITHM\n",
    "#3 class means three type of customer"
   ]
  },
  {
   "cell_type": "code",
   "execution_count": 6,
   "id": "8afeea60",
   "metadata": {},
   "outputs": [
    {
     "data": {
      "text/plain": [
       "Alcohol                 0\n",
       "Malic_Acid              0\n",
       "Ash                     0\n",
       "Ash_Alcanity            0\n",
       "Magnesium               0\n",
       "Total_Phenols           0\n",
       "Flavanoids              0\n",
       "Nonflavanoid_Phenols    0\n",
       "Proanthocyanins         0\n",
       "Color_Intensity         0\n",
       "Hue                     0\n",
       "OD280                   0\n",
       "Proline                 0\n",
       "Customer_Segment        0\n",
       "dtype: int64"
      ]
     },
     "execution_count": 6,
     "metadata": {},
     "output_type": "execute_result"
    }
   ],
   "source": [
    "#check null value\n",
    "df.isnull().sum()"
   ]
  },
  {
   "cell_type": "code",
   "execution_count": 7,
   "id": "541942b3",
   "metadata": {},
   "outputs": [
    {
     "data": {
      "text/plain": [
       "Alcohol                 float64\n",
       "Malic_Acid              float64\n",
       "Ash                     float64\n",
       "Ash_Alcanity            float64\n",
       "Magnesium                 int64\n",
       "Total_Phenols           float64\n",
       "Flavanoids              float64\n",
       "Nonflavanoid_Phenols    float64\n",
       "Proanthocyanins         float64\n",
       "Color_Intensity         float64\n",
       "Hue                     float64\n",
       "OD280                   float64\n",
       "Proline                   int64\n",
       "Customer_Segment          int64\n",
       "dtype: object"
      ]
     },
     "execution_count": 7,
     "metadata": {},
     "output_type": "execute_result"
    }
   ],
   "source": [
    "#check datatype\n",
    "df.dtypes"
   ]
  },
  {
   "cell_type": "code",
   "execution_count": 8,
   "id": "197b5b1b",
   "metadata": {},
   "outputs": [],
   "source": [
    "#selecting input output\n",
    "X=df.drop(\"Customer_Segment\",axis=1)\n",
    "Y=df[\"Customer_Segment\"]"
   ]
  },
  {
   "cell_type": "code",
   "execution_count": 9,
   "id": "005788ef",
   "metadata": {},
   "outputs": [],
   "source": [
    "#creating 70 30 ratio using train test split\n",
    "from sklearn.model_selection import train_test_split\n",
    "Xtrain,Xtest,Ytrain,Ytest=train_test_split(X,Y,test_size=0.3,random_state=1)\n",
    "#stratify=output variable to minimise large gap in data sampling"
   ]
  },
  {
   "cell_type": "code",
   "execution_count": 10,
   "id": "b28992fe",
   "metadata": {},
   "outputs": [
    {
     "data": {
      "text/plain": [
       "2    52\n",
       "1    36\n",
       "3    36\n",
       "Name: Customer_Segment, dtype: int64"
      ]
     },
     "execution_count": 10,
     "metadata": {},
     "output_type": "execute_result"
    }
   ],
   "source": [
    "Ytrain.value_counts() #before stratify"
   ]
  },
  {
   "cell_type": "code",
   "execution_count": 11,
   "id": "06c12961",
   "metadata": {},
   "outputs": [
    {
     "data": {
      "text/plain": [
       "1    23\n",
       "2    19\n",
       "3    12\n",
       "Name: Customer_Segment, dtype: int64"
      ]
     },
     "execution_count": 11,
     "metadata": {},
     "output_type": "execute_result"
    }
   ],
   "source": [
    "Ytest.value_counts() # before stratify"
   ]
  },
  {
   "cell_type": "code",
   "execution_count": 12,
   "id": "ac4c430a",
   "metadata": {},
   "outputs": [],
   "source": [
    "#creating 70 30 ratio using train test split\n",
    "from sklearn.model_selection import train_test_split\n",
    "Xtrain,Xtest,Ytrain,Ytest=train_test_split(X,Y,test_size=0.3,random_state=1,stratify=Y)\n",
    "#stratify=output variable to minimise large gap in data sampling"
   ]
  },
  {
   "cell_type": "code",
   "execution_count": 13,
   "id": "e035e4a0",
   "metadata": {},
   "outputs": [
    {
     "data": {
      "text/plain": [
       "2    50\n",
       "1    41\n",
       "3    33\n",
       "Name: Customer_Segment, dtype: int64"
      ]
     },
     "execution_count": 13,
     "metadata": {},
     "output_type": "execute_result"
    }
   ],
   "source": [
    "Ytrain.value_counts() #after stratify"
   ]
  },
  {
   "cell_type": "code",
   "execution_count": 14,
   "id": "9df7708d",
   "metadata": {},
   "outputs": [
    {
     "data": {
      "text/plain": [
       "2    21\n",
       "1    18\n",
       "3    15\n",
       "Name: Customer_Segment, dtype: int64"
      ]
     },
     "execution_count": 14,
     "metadata": {},
     "output_type": "execute_result"
    }
   ],
   "source": [
    "Ytest.value_counts() #after stratify"
   ]
  },
  {
   "cell_type": "code",
   "execution_count": 15,
   "id": "4f9a58fd",
   "metadata": {},
   "outputs": [],
   "source": [
    "# in PCA Standarization is compulsory\n",
    "#scaling\n",
    "from sklearn.preprocessing import StandardScaler"
   ]
  },
  {
   "cell_type": "code",
   "execution_count": 16,
   "id": "d082489b",
   "metadata": {},
   "outputs": [],
   "source": [
    "#creating object\n",
    "ss=StandardScaler()\n",
    "Xtrain=ss.fit_transform(Xtrain)\n",
    "Xtest=ss.transform(Xtest)"
   ]
  },
  {
   "cell_type": "code",
   "execution_count": 17,
   "id": "92bdb041",
   "metadata": {},
   "outputs": [
    {
     "data": {
      "text/plain": [
       "(124, 13)"
      ]
     },
     "execution_count": 17,
     "metadata": {},
     "output_type": "execute_result"
    }
   ],
   "source": [
    "Xtrain.shape"
   ]
  },
  {
   "cell_type": "markdown",
   "id": "bdbebdf3",
   "metadata": {},
   "source": [
    "# APPLYING PCA"
   ]
  },
  {
   "cell_type": "code",
   "execution_count": 18,
   "id": "11c404d3",
   "metadata": {},
   "outputs": [],
   "source": [
    "#applying PCA\n",
    "from sklearn.decomposition import PCA"
   ]
  },
  {
   "cell_type": "code",
   "execution_count": 19,
   "id": "db7eabcb",
   "metadata": {},
   "outputs": [],
   "source": [
    "#creating Object\n",
    "pc=PCA(n_components=None,random_state=1)\n",
    "#n_components  inbuilt parameters ,here  pass no. of components means PC here \n",
    "#total input 13 features input features"
   ]
  },
  {
   "cell_type": "code",
   "execution_count": 20,
   "id": "9529100b",
   "metadata": {},
   "outputs": [],
   "source": [
    "Xtrain_pc=pc.fit_transform(Xtrain)\n",
    "Xtest_pc=pc.transform(Xtest)"
   ]
  },
  {
   "cell_type": "code",
   "execution_count": 21,
   "id": "d7a02d8f",
   "metadata": {},
   "outputs": [
    {
     "name": "stdout",
     "output_type": "stream",
     "text": [
      "[0.35935182 0.20113893 0.11882529 0.07128404 0.0649561  0.04356648\n",
      " 0.03545179 0.02881555 0.02103776 0.02007144 0.01614956 0.01140877\n",
      " 0.00794247]\n"
     ]
    }
   ],
   "source": [
    "#to find out VARIANCE\n",
    "explain_variance=pc.explained_variance_ratio_\n",
    "#pc.explained_variance_ratio_ inbuit method of PCA\n",
    "print(explain_variance) #variance gets automatically arranged in decinding format"
   ]
  },
  {
   "cell_type": "code",
   "execution_count": 22,
   "id": "fd869a35",
   "metadata": {},
   "outputs": [],
   "source": [
    "#training the model by taking \"2\" feature under consideration\n",
    "#creating Object\n",
    "pc1=PCA(n_components=2,random_state=1)\n",
    "#n_components  inbuilt parameters ,here  pass no. of components means PC here \n",
    "#total input 13 features input features"
   ]
  },
  {
   "cell_type": "code",
   "execution_count": 23,
   "id": "c00ac21e",
   "metadata": {},
   "outputs": [],
   "source": [
    "Xtrain_pc1=pc1.fit_transform(Xtrain)\n",
    "Xtest_pc1=pc1.transform(Xtest)"
   ]
  },
  {
   "cell_type": "code",
   "execution_count": 24,
   "id": "7ffa7a0a",
   "metadata": {},
   "outputs": [
    {
     "data": {
      "text/plain": [
       "array([0.35935182, 0.20113893])"
      ]
     },
     "execution_count": 24,
     "metadata": {},
     "output_type": "execute_result"
    }
   ],
   "source": [
    "#to find out VARIANCE\n",
    "pc1.explained_variance_ratio_"
   ]
  },
  {
   "cell_type": "code",
   "execution_count": 25,
   "id": "0b8d5c02",
   "metadata": {},
   "outputs": [],
   "source": [
    "#creating model using LogisticRegression\n",
    "from sklearn.linear_model import LogisticRegression\n"
   ]
  },
  {
   "cell_type": "code",
   "execution_count": 26,
   "id": "64f6a91c",
   "metadata": {},
   "outputs": [],
   "source": [
    "#given input : X_train_pc1 and Y_train to classifcation algorithm\n",
    "def create_model(model):\n",
    "    model.fit(Xtrain_pc1,Ytrain)\n",
    "    Ypred=model.predict(Xtest_pc1)\n",
    "    print(classification_report(Ytest,Ypred))\n",
    "    print(confusion_matrix(Ytest,Ypred))\n",
    "    return model"
   ]
  },
  {
   "cell_type": "code",
   "execution_count": 27,
   "id": "183b3b00",
   "metadata": {},
   "outputs": [],
   "source": [
    "from sklearn.metrics import classification_report\n",
    "from sklearn.metrics import confusion_matrix"
   ]
  },
  {
   "cell_type": "code",
   "execution_count": 28,
   "id": "7b199ffc",
   "metadata": {},
   "outputs": [],
   "source": [
    "#creating object of LogiscticRegression\n",
    "lr=LogisticRegression()"
   ]
  },
  {
   "cell_type": "code",
   "execution_count": 29,
   "id": "f24e3cf0",
   "metadata": {},
   "outputs": [
    {
     "name": "stdout",
     "output_type": "stream",
     "text": [
      "              precision    recall  f1-score   support\n",
      "\n",
      "           1       0.95      1.00      0.97        18\n",
      "           2       1.00      0.95      0.98        21\n",
      "           3       1.00      1.00      1.00        15\n",
      "\n",
      "    accuracy                           0.98        54\n",
      "   macro avg       0.98      0.98      0.98        54\n",
      "weighted avg       0.98      0.98      0.98        54\n",
      "\n",
      "[[18  0  0]\n",
      " [ 1 20  0]\n",
      " [ 0  0 15]]\n"
     ]
    }
   ],
   "source": [
    "#calling Function\n",
    "lr=create_model(lr)"
   ]
  },
  {
   "cell_type": "code",
   "execution_count": 31,
   "id": "9c9c54d3",
   "metadata": {},
   "outputs": [
    {
     "data": {
      "image/png": "[encoded data removed]",
      "text/plain": [
       "<Figure size 432x288 with 1 Axes>"
      ]
     },
     "metadata": {
      "needs_background": "light"
     },
     "output_type": "display_data"
    }
   ],
   "source": [
    "#giving a scatter plot\n",
    "#plt.figure(figsize=(8,6))\n",
    "y=Ytest\n",
    "X1=Xtest_pc1[:,0]\n",
    "X2=Xtest_pc1[:,1]\n",
    "plt.scatter(X1,X2,c=y) #c means colour\n",
    "\n",
    "#labeling x and y\n",
    "plt.xlabel(\"First Principal Component\")\n",
    "plt.ylabel(\"Second Principal Component\")\n",
    "plt.show()"
   ]
  }
 ],
 "metadata": {
  "kernelspec": {
   "display_name": "Python 3 (ipykernel)",
   "language": "python",
   "name": "python3"
  },
  "language_info": {
   "codemirror_mode": {
    "name": "ipython",
    "version": 3
   },
   "file_extension": ".py",
   "mimetype": "text/x-python",
   "name": "python",
   "nbconvert_exporter": "python",
   "pygments_lexer": "ipython3",
   "version": "3.10.1"
  }
 },
 "nbformat": 4,
 "nbformat_minor": 5
}
