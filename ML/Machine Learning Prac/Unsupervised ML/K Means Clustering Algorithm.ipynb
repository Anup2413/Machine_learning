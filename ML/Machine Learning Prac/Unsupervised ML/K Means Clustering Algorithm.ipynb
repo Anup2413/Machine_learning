{
 "cells": [
  {
   "cell_type": "markdown",
   "id": "695d2f2f",
   "metadata": {},
   "source": [
    "# KMeans Clustering Algorithm"
   ]
  },
  {
   "cell_type": "code",
   "execution_count": 1,
   "id": "3d370153",
   "metadata": {},
   "outputs": [],
   "source": [
    "#importing Basic Library\n",
    "#Working on Mall DataSet\n",
    "import numpy as np\n",
    "import pandas as pd\n",
    "import matplotlib.pyplot as plt\n",
    "import seaborn as sns\n",
    "import warnings\n",
    "warnings.filterwarnings('ignore')"
   ]
  },
  {
   "cell_type": "code",
   "execution_count": 2,
   "id": "aa6c57d4",
   "metadata": {},
   "outputs": [
    {
     "data": {
      "text/html": [
       "<div>\n",
       "<style scoped>\n",
       "    .dataframe tbody tr th:only-of-type {\n",
       "        vertical-align: middle;\n",
       "    }\n",
       "\n",
       "    .dataframe tbody tr th {\n",
       "        vertical-align: top;\n",
       "    }\n",
       "\n",
       "    .dataframe thead th {\n",
       "        text-align: right;\n",
       "    }\n",
       "</style>\n",
       "<table border=\"1\" class=\"dataframe\">\n",
       "  <thead>\n",
       "    <tr style=\"text-align: right;\">\n",
       "      <th></th>\n",
       "      <th>INCOME</th>\n",
       "      <th>SPEND</th>\n",
       "    </tr>\n",
       "  </thead>\n",
       "  <tbody>\n",
       "    <tr>\n",
       "      <th>69</th>\n",
       "      <td>209</td>\n",
       "      <td>163</td>\n",
       "    </tr>\n",
       "    <tr>\n",
       "      <th>232</th>\n",
       "      <td>289</td>\n",
       "      <td>145</td>\n",
       "    </tr>\n",
       "    <tr>\n",
       "      <th>274</th>\n",
       "      <td>275</td>\n",
       "      <td>118</td>\n",
       "    </tr>\n",
       "    <tr>\n",
       "      <th>48</th>\n",
       "      <td>216</td>\n",
       "      <td>115</td>\n",
       "    </tr>\n",
       "    <tr>\n",
       "      <th>176</th>\n",
       "      <td>230</td>\n",
       "      <td>160</td>\n",
       "    </tr>\n",
       "  </tbody>\n",
       "</table>\n",
       "</div>"
      ],
      "text/plain": [
       "     INCOME  SPEND\n",
       "69      209    163\n",
       "232     289    145\n",
       "274     275    118\n",
       "48      216    115\n",
       "176     230    160"
      ]
     },
     "execution_count": 2,
     "metadata": {},
     "output_type": "execute_result"
    }
   ],
   "source": [
    "df=pd.read_csv(\"mall.csv\") #loading Dataset\n",
    "df.sample(5) #viewing randomm 5  data "
   ]
  },
  {
   "cell_type": "code",
   "execution_count": 3,
   "id": "dcad4b97",
   "metadata": {},
   "outputs": [
    {
     "data": {
      "text/plain": [
       "INCOME    0\n",
       "SPEND     0\n",
       "dtype: int64"
      ]
     },
     "execution_count": 3,
     "metadata": {},
     "output_type": "execute_result"
    }
   ],
   "source": [
    "#check null values\n",
    "df.isnull().sum()"
   ]
  },
  {
   "cell_type": "code",
   "execution_count": 4,
   "id": "5c0d85ac",
   "metadata": {},
   "outputs": [
    {
     "data": {
      "text/plain": [
       "INCOME    int64\n",
       "SPEND     int64\n",
       "dtype: object"
      ]
     },
     "execution_count": 4,
     "metadata": {},
     "output_type": "execute_result"
    }
   ],
   "source": [
    "#datatype\n",
    "df.dtypes"
   ]
  },
  {
   "cell_type": "code",
   "execution_count": 5,
   "id": "5d919779",
   "metadata": {},
   "outputs": [
    {
     "data": {
      "text/plain": [
       "(303, 2)"
      ]
     },
     "execution_count": 5,
     "metadata": {},
     "output_type": "execute_result"
    }
   ],
   "source": [
    "#how many records\n",
    "df.shape"
   ]
  },
  {
   "cell_type": "code",
   "execution_count": 6,
   "id": "02e7607b",
   "metadata": {},
   "outputs": [
    {
     "data": {
      "text/plain": [
       "Index(['INCOME', 'SPEND'], dtype='object')"
      ]
     },
     "execution_count": 6,
     "metadata": {},
     "output_type": "execute_result"
    }
   ],
   "source": [
    "X=df.columns\n",
    "X"
   ]
  },
  {
   "cell_type": "code",
   "execution_count": 7,
   "id": "baabdc43",
   "metadata": {},
   "outputs": [],
   "source": [
    "#applying Scalling\n",
    "from  sklearn.preprocessing import StandardScaler"
   ]
  },
  {
   "cell_type": "code",
   "execution_count": 8,
   "id": "b2138491",
   "metadata": {},
   "outputs": [],
   "source": [
    "#alying for loop\n",
    "for col in X:\n",
    "    #creating object\n",
    "    ss=StandardScaler()\n",
    "    df[col]=ss.fit_transform(df[[col]])"
   ]
  },
  {
   "cell_type": "code",
   "execution_count": 9,
   "id": "3b9ed39a",
   "metadata": {},
   "outputs": [
    {
     "data": {
      "text/html": [
       "<div>\n",
       "<style scoped>\n",
       "    .dataframe tbody tr th:only-of-type {\n",
       "        vertical-align: middle;\n",
       "    }\n",
       "\n",
       "    .dataframe tbody tr th {\n",
       "        vertical-align: top;\n",
       "    }\n",
       "\n",
       "    .dataframe thead th {\n",
       "        text-align: right;\n",
       "    }\n",
       "</style>\n",
       "<table border=\"1\" class=\"dataframe\">\n",
       "  <thead>\n",
       "    <tr style=\"text-align: right;\">\n",
       "      <th></th>\n",
       "      <th>INCOME</th>\n",
       "      <th>SPEND</th>\n",
       "    </tr>\n",
       "  </thead>\n",
       "  <tbody>\n",
       "    <tr>\n",
       "      <th>0</th>\n",
       "      <td>-0.253492</td>\n",
       "      <td>0.015443</td>\n",
       "    </tr>\n",
       "    <tr>\n",
       "      <th>1</th>\n",
       "      <td>0.097607</td>\n",
       "      <td>1.633471</td>\n",
       "    </tr>\n",
       "    <tr>\n",
       "      <th>2</th>\n",
       "      <td>-0.852427</td>\n",
       "      <td>0.977514</td>\n",
       "    </tr>\n",
       "    <tr>\n",
       "      <th>3</th>\n",
       "      <td>-0.191534</td>\n",
       "      <td>1.239897</td>\n",
       "    </tr>\n",
       "    <tr>\n",
       "      <th>4</th>\n",
       "      <td>2.245510</td>\n",
       "      <td>0.583939</td>\n",
       "    </tr>\n",
       "  </tbody>\n",
       "</table>\n",
       "</div>"
      ],
      "text/plain": [
       "     INCOME     SPEND\n",
       "0 -0.253492  0.015443\n",
       "1  0.097607  1.633471\n",
       "2 -0.852427  0.977514\n",
       "3 -0.191534  1.239897\n",
       "4  2.245510  0.583939"
      ]
     },
     "execution_count": 9,
     "metadata": {},
     "output_type": "execute_result"
    }
   ],
   "source": [
    "df.head()"
   ]
  },
  {
   "cell_type": "code",
   "execution_count": 10,
   "id": "fe9e3e24",
   "metadata": {},
   "outputs": [
    {
     "data": {
      "image/png": "[encoded data removed]",
      "text/plain": [
       "<Figure size 432x288 with 1 Axes>"
      ]
     },
     "metadata": {
      "needs_background": "light"
     },
     "output_type": "display_data"
    }
   ],
   "source": [
    "#visualizing by scatterplot\n",
    "X1=df[\"INCOME\"] #FIRST INPUT\n",
    "X2=df[\"SPEND\"] #SECOND INPUT\n",
    "sns.scatterplot(X1,X2)\n",
    "plt.show()"
   ]
  },
  {
   "cell_type": "code",
   "execution_count": 11,
   "id": "06eb2fe2",
   "metadata": {},
   "outputs": [],
   "source": [
    "#Seleting the correct value of K\n",
    "#we are going to use Elbow Method to find out Clusters ie K in this Dataset\n",
    "from sklearn.cluster import KMeans"
   ]
  },
  {
   "cell_type": "code",
   "execution_count": 12,
   "id": "fbf9a4bb",
   "metadata": {},
   "outputs": [],
   "source": [
    "k_rng=range(1,21) #start=1 and stop=21-1=20 ,step=+1\n",
    "#Declare Empty List for SSE(sum of squared error)\n",
    "SSE=[] \n",
    "#Declare Empty List for K(no. of clusters) \n",
    "k_cluster=[]\n",
    "for k in k_rng:\n",
    "    #create object of KMeans class\n",
    "    km=KMeans(n_clusters=k) #first time k=1 then k=2 .....\n",
    "    #We train the model use fit() method\n",
    "    km.fit(df[['INCOME','SPEND']])\n",
    "    ##inertia_ inbuilt method of Kmeans class which calculate the sum of \n",
    "        #squared error\n",
    "    #formula of SSE=sum(centerpoint-datapoint)^2\n",
    "    SSE.append(km.inertia_) #append sse error in list SSE\n",
    "    k_cluster.append(k) #append k in k_cluster list"
   ]
  },
  {
   "cell_type": "code",
   "execution_count": 13,
   "id": "f71f65bc",
   "metadata": {},
   "outputs": [
    {
     "data": {
      "text/html": [
       "<div>\n",
       "<style scoped>\n",
       "    .dataframe tbody tr th:only-of-type {\n",
       "        vertical-align: middle;\n",
       "    }\n",
       "\n",
       "    .dataframe tbody tr th {\n",
       "        vertical-align: top;\n",
       "    }\n",
       "\n",
       "    .dataframe thead th {\n",
       "        text-align: right;\n",
       "    }\n",
       "</style>\n",
       "<table border=\"1\" class=\"dataframe\">\n",
       "  <thead>\n",
       "    <tr style=\"text-align: right;\">\n",
       "      <th></th>\n",
       "      <th>No of Cluster K</th>\n",
       "      <th>Sum of Squared Error</th>\n",
       "    </tr>\n",
       "  </thead>\n",
       "  <tbody>\n",
       "    <tr>\n",
       "      <th>0</th>\n",
       "      <td>1</td>\n",
       "      <td>606.000000</td>\n",
       "    </tr>\n",
       "    <tr>\n",
       "      <th>1</th>\n",
       "      <td>2</td>\n",
       "      <td>401.224978</td>\n",
       "    </tr>\n",
       "    <tr>\n",
       "      <th>2</th>\n",
       "      <td>3</td>\n",
       "      <td>253.493524</td>\n",
       "    </tr>\n",
       "    <tr>\n",
       "      <th>3</th>\n",
       "      <td>4</td>\n",
       "      <td>199.395169</td>\n",
       "    </tr>\n",
       "    <tr>\n",
       "      <th>4</th>\n",
       "      <td>5</td>\n",
       "      <td>155.770025</td>\n",
       "    </tr>\n",
       "    <tr>\n",
       "      <th>5</th>\n",
       "      <td>6</td>\n",
       "      <td>131.205154</td>\n",
       "    </tr>\n",
       "    <tr>\n",
       "      <th>6</th>\n",
       "      <td>7</td>\n",
       "      <td>115.142119</td>\n",
       "    </tr>\n",
       "    <tr>\n",
       "      <th>7</th>\n",
       "      <td>8</td>\n",
       "      <td>102.150036</td>\n",
       "    </tr>\n",
       "    <tr>\n",
       "      <th>8</th>\n",
       "      <td>9</td>\n",
       "      <td>91.784196</td>\n",
       "    </tr>\n",
       "    <tr>\n",
       "      <th>9</th>\n",
       "      <td>10</td>\n",
       "      <td>81.556841</td>\n",
       "    </tr>\n",
       "    <tr>\n",
       "      <th>10</th>\n",
       "      <td>11</td>\n",
       "      <td>73.305152</td>\n",
       "    </tr>\n",
       "    <tr>\n",
       "      <th>11</th>\n",
       "      <td>12</td>\n",
       "      <td>66.169976</td>\n",
       "    </tr>\n",
       "    <tr>\n",
       "      <th>12</th>\n",
       "      <td>13</td>\n",
       "      <td>62.361649</td>\n",
       "    </tr>\n",
       "    <tr>\n",
       "      <th>13</th>\n",
       "      <td>14</td>\n",
       "      <td>56.445341</td>\n",
       "    </tr>\n",
       "    <tr>\n",
       "      <th>14</th>\n",
       "      <td>15</td>\n",
       "      <td>52.485477</td>\n",
       "    </tr>\n",
       "    <tr>\n",
       "      <th>15</th>\n",
       "      <td>16</td>\n",
       "      <td>49.003884</td>\n",
       "    </tr>\n",
       "    <tr>\n",
       "      <th>16</th>\n",
       "      <td>17</td>\n",
       "      <td>46.356773</td>\n",
       "    </tr>\n",
       "    <tr>\n",
       "      <th>17</th>\n",
       "      <td>18</td>\n",
       "      <td>43.301061</td>\n",
       "    </tr>\n",
       "    <tr>\n",
       "      <th>18</th>\n",
       "      <td>19</td>\n",
       "      <td>40.624626</td>\n",
       "    </tr>\n",
       "    <tr>\n",
       "      <th>19</th>\n",
       "      <td>20</td>\n",
       "      <td>37.715958</td>\n",
       "    </tr>\n",
       "  </tbody>\n",
       "</table>\n",
       "</div>"
      ],
      "text/plain": [
       "    No of Cluster K  Sum of Squared Error\n",
       "0                 1            606.000000\n",
       "1                 2            401.224978\n",
       "2                 3            253.493524\n",
       "3                 4            199.395169\n",
       "4                 5            155.770025\n",
       "5                 6            131.205154\n",
       "6                 7            115.142119\n",
       "7                 8            102.150036\n",
       "8                 9             91.784196\n",
       "9                10             81.556841\n",
       "10               11             73.305152\n",
       "11               12             66.169976\n",
       "12               13             62.361649\n",
       "13               14             56.445341\n",
       "14               15             52.485477\n",
       "15               16             49.003884\n",
       "16               17             46.356773\n",
       "17               18             43.301061\n",
       "18               19             40.624626\n",
       "19               20             37.715958"
      ]
     },
     "execution_count": 13,
     "metadata": {},
     "output_type": "execute_result"
    }
   ],
   "source": [
    "#creating A datafarme of K and SSE\n",
    "dic={\"No of Cluster K\":k_cluster,\"Sum of Squared Error\":SSE}\n",
    "df1=pd.DataFrame(dic)\n",
    "df1"
   ]
  },
  {
   "cell_type": "code",
   "execution_count": 14,
   "id": "b975f194",
   "metadata": {},
   "outputs": [
    {
     "data": {
      "text/plain": [
       "<AxesSubplot:>"
      ]
     },
     "execution_count": 14,
     "metadata": {},
     "output_type": "execute_result"
    },
    {
     "data": {
      "image/png": "[encoded data removed]",
      "text/plain": [
       "<Figure size 432x288 with 1 Axes>"
      ]
     },
     "metadata": {
      "needs_background": "light"
     },
     "output_type": "display_data"
    }
   ],
   "source": [
    "#visualization\n",
    "sns.scatterplot(k_cluster,SSE)"
   ]
  },
  {
   "cell_type": "code",
   "execution_count": 15,
   "id": "bf304997",
   "metadata": {},
   "outputs": [
    {
     "data": {
      "image/png": "[encoded data removed]",
      "text/plain": [
       "<Figure size 432x288 with 1 Axes>"
      ]
     },
     "metadata": {
      "needs_background": "light"
     },
     "output_type": "display_data"
    }
   ],
   "source": [
    "#visualization with help of df1\n",
    "X=df1[\"No of Cluster K\"]\n",
    "Y=df1[\"Sum of Squared Error\"]\n",
    "sns.scatterplot(X,Y,color=\"black\")\n",
    "plt.plot(X,Y,color=\"green\")\n",
    "plt.xticks(X)\n",
    "plt.title(\"Elbow Method\")\n",
    "plt.show()"
   ]
  },
  {
   "cell_type": "code",
   "execution_count": 16,
   "id": "7567e08d",
   "metadata": {},
   "outputs": [],
   "source": [
    "#clear no. of cluser=5 to see above visualisation  in this dataset"
   ]
  },
  {
   "cell_type": "code",
   "execution_count": 17,
   "id": "6cc9675b",
   "metadata": {},
   "outputs": [],
   "source": [
    "#creating object of KMeans \n",
    "km=KMeans(n_clusters=5,random_state=1)\n",
    "#passing value of k"
   ]
  },
  {
   "cell_type": "code",
   "execution_count": 18,
   "id": "91e14de3",
   "metadata": {},
   "outputs": [],
   "source": [
    "Ypred=km.fit_predict(df[[\"INCOME\",\"SPEND\"]])"
   ]
  },
  {
   "cell_type": "code",
   "execution_count": 19,
   "id": "695e5998",
   "metadata": {},
   "outputs": [
    {
     "data": {
      "text/plain": [
       "array([0, 3, 3, 3, 4, 1, 4, 0, 3, 3, 0, 0, 0, 1, 0, 3, 4, 1, 3, 0, 0, 3,\n",
       "       3, 0, 3, 4, 3, 1, 4, 3, 3, 1, 3, 0, 1, 3, 4, 3, 0, 4, 4, 3, 0, 0,\n",
       "       4, 4, 3, 0, 1, 0, 0, 4, 0, 3, 3, 3, 3, 3, 3, 4, 2, 4, 3, 1, 3, 3,\n",
       "       0, 3, 3, 3, 0, 0, 3, 3, 3, 0, 0, 3, 3, 0, 3, 4, 4, 4, 2, 0, 0, 3,\n",
       "       3, 2, 3, 3, 3, 4, 1, 1, 4, 0, 4, 3, 3, 0, 3, 3, 3, 1, 1, 0, 0, 0,\n",
       "       4, 3, 2, 3, 0, 3, 3, 3, 3, 0, 2, 3, 0, 0, 3, 3, 1, 0, 3, 2, 3, 0,\n",
       "       4, 0, 4, 0, 1, 1, 1, 2, 4, 4, 3, 0, 1, 0, 0, 3, 3, 1, 0, 1, 0, 0,\n",
       "       0, 1, 3, 3, 0, 3, 3, 4, 3, 3, 3, 2, 1, 0, 0, 3, 0, 3, 4, 3, 1, 1,\n",
       "       0, 4, 1, 2, 4, 1, 4, 3, 2, 4, 0, 2, 3, 3, 4, 1, 1, 0, 3, 4, 0, 0,\n",
       "       2, 0, 3, 0, 2, 0, 1, 0, 0, 0, 1, 3, 0, 0, 1, 4, 0, 4, 2, 4, 2, 0,\n",
       "       4, 1, 4, 2, 1, 1, 2, 1, 4, 2, 0, 2, 0, 2, 2, 4, 4, 4, 4, 0, 2, 0,\n",
       "       1, 2, 1, 0, 4, 2, 3, 0, 2, 0, 2, 2, 2, 4, 2, 1, 0, 3, 3, 0, 2, 0,\n",
       "       1, 1, 2, 1, 2, 2, 0, 0, 2, 0, 2, 3, 1, 0, 4, 1, 2, 3, 1, 3, 1, 2,\n",
       "       3, 3, 4, 1, 3, 4, 0, 0, 1, 1, 1, 1, 2, 2, 1, 1, 3])"
      ]
     },
     "execution_count": 19,
     "metadata": {},
     "output_type": "execute_result"
    }
   ],
   "source": [
    "Ypred #to see if cluster given or not \n",
    "#here 0 means 1st cluster 1 means 2nd cluster"
   ]
  },
  {
   "cell_type": "markdown",
   "id": "333b0f96",
   "metadata": {},
   "source": [
    "# Feature Engineering"
   ]
  },
  {
   "cell_type": "code",
   "execution_count": 20,
   "id": "da208454",
   "metadata": {},
   "outputs": [
    {
     "data": {
      "text/html": [
       "<div>\n",
       "<style scoped>\n",
       "    .dataframe tbody tr th:only-of-type {\n",
       "        vertical-align: middle;\n",
       "    }\n",
       "\n",
       "    .dataframe tbody tr th {\n",
       "        vertical-align: top;\n",
       "    }\n",
       "\n",
       "    .dataframe thead th {\n",
       "        text-align: right;\n",
       "    }\n",
       "</style>\n",
       "<table border=\"1\" class=\"dataframe\">\n",
       "  <thead>\n",
       "    <tr style=\"text-align: right;\">\n",
       "      <th></th>\n",
       "      <th>INCOME</th>\n",
       "      <th>SPEND</th>\n",
       "      <th>TARGET</th>\n",
       "    </tr>\n",
       "  </thead>\n",
       "  <tbody>\n",
       "    <tr>\n",
       "      <th>0</th>\n",
       "      <td>-0.253492</td>\n",
       "      <td>0.015443</td>\n",
       "      <td>0</td>\n",
       "    </tr>\n",
       "    <tr>\n",
       "      <th>1</th>\n",
       "      <td>0.097607</td>\n",
       "      <td>1.633471</td>\n",
       "      <td>3</td>\n",
       "    </tr>\n",
       "    <tr>\n",
       "      <th>2</th>\n",
       "      <td>-0.852427</td>\n",
       "      <td>0.977514</td>\n",
       "      <td>3</td>\n",
       "    </tr>\n",
       "    <tr>\n",
       "      <th>3</th>\n",
       "      <td>-0.191534</td>\n",
       "      <td>1.239897</td>\n",
       "      <td>3</td>\n",
       "    </tr>\n",
       "    <tr>\n",
       "      <th>4</th>\n",
       "      <td>2.245510</td>\n",
       "      <td>0.583939</td>\n",
       "      <td>4</td>\n",
       "    </tr>\n",
       "    <tr>\n",
       "      <th>...</th>\n",
       "      <td>...</td>\n",
       "      <td>...</td>\n",
       "      <td>...</td>\n",
       "    </tr>\n",
       "    <tr>\n",
       "      <th>298</th>\n",
       "      <td>-0.088269</td>\n",
       "      <td>-1.165281</td>\n",
       "      <td>2</td>\n",
       "    </tr>\n",
       "    <tr>\n",
       "      <th>299</th>\n",
       "      <td>0.386748</td>\n",
       "      <td>-0.771706</td>\n",
       "      <td>2</td>\n",
       "    </tr>\n",
       "    <tr>\n",
       "      <th>300</th>\n",
       "      <td>-1.079609</td>\n",
       "      <td>-0.378132</td>\n",
       "      <td>1</td>\n",
       "    </tr>\n",
       "    <tr>\n",
       "      <th>301</th>\n",
       "      <td>-2.360090</td>\n",
       "      <td>-1.515125</td>\n",
       "      <td>1</td>\n",
       "    </tr>\n",
       "    <tr>\n",
       "      <th>302</th>\n",
       "      <td>-0.191534</td>\n",
       "      <td>1.064975</td>\n",
       "      <td>3</td>\n",
       "    </tr>\n",
       "  </tbody>\n",
       "</table>\n",
       "<p>303 rows × 3 columns</p>\n",
       "</div>"
      ],
      "text/plain": [
       "       INCOME     SPEND  TARGET\n",
       "0   -0.253492  0.015443       0\n",
       "1    0.097607  1.633471       3\n",
       "2   -0.852427  0.977514       3\n",
       "3   -0.191534  1.239897       3\n",
       "4    2.245510  0.583939       4\n",
       "..        ...       ...     ...\n",
       "298 -0.088269 -1.165281       2\n",
       "299  0.386748 -0.771706       2\n",
       "300 -1.079609 -0.378132       1\n",
       "301 -2.360090 -1.515125       1\n",
       "302 -0.191534  1.064975       3\n",
       "\n",
       "[303 rows x 3 columns]"
      ]
     },
     "execution_count": 20,
     "metadata": {},
     "output_type": "execute_result"
    }
   ],
   "source": [
    "#to add new column\n",
    "df[\"TARGET\"]=Ypred\n",
    "df"
   ]
  },
  {
   "cell_type": "code",
   "execution_count": 21,
   "id": "df4dbae6",
   "metadata": {},
   "outputs": [],
   "source": [
    "#creating 5 dataframe according to Cluster\n",
    "df0=df[df[\"TARGET\"]==0]\n",
    "df1=df[df[\"TARGET\"]==1]\n",
    "df2=df[df[\"TARGET\"]==2]\n",
    "df3=df[df[\"TARGET\"]==3]\n",
    "df4=df[df[\"TARGET\"]==4]"
   ]
  },
  {
   "cell_type": "code",
   "execution_count": 22,
   "id": "084f59d6",
   "metadata": {},
   "outputs": [
    {
     "data": {
      "text/html": [
       "<div>\n",
       "<style scoped>\n",
       "    .dataframe tbody tr th:only-of-type {\n",
       "        vertical-align: middle;\n",
       "    }\n",
       "\n",
       "    .dataframe tbody tr th {\n",
       "        vertical-align: top;\n",
       "    }\n",
       "\n",
       "    .dataframe thead th {\n",
       "        text-align: right;\n",
       "    }\n",
       "</style>\n",
       "<table border=\"1\" class=\"dataframe\">\n",
       "  <thead>\n",
       "    <tr style=\"text-align: right;\">\n",
       "      <th></th>\n",
       "      <th>INCOME</th>\n",
       "      <th>SPEND</th>\n",
       "      <th>TARGET</th>\n",
       "    </tr>\n",
       "  </thead>\n",
       "  <tbody>\n",
       "    <tr>\n",
       "      <th>4</th>\n",
       "      <td>2.245510</td>\n",
       "      <td>0.583939</td>\n",
       "      <td>4</td>\n",
       "    </tr>\n",
       "    <tr>\n",
       "      <th>6</th>\n",
       "      <td>1.006335</td>\n",
       "      <td>0.146634</td>\n",
       "      <td>4</td>\n",
       "    </tr>\n",
       "    <tr>\n",
       "      <th>16</th>\n",
       "      <td>1.956370</td>\n",
       "      <td>0.977514</td>\n",
       "      <td>4</td>\n",
       "    </tr>\n",
       "    <tr>\n",
       "      <th>25</th>\n",
       "      <td>1.171559</td>\n",
       "      <td>0.540209</td>\n",
       "      <td>4</td>\n",
       "    </tr>\n",
       "    <tr>\n",
       "      <th>28</th>\n",
       "      <td>3.546644</td>\n",
       "      <td>0.321556</td>\n",
       "      <td>4</td>\n",
       "    </tr>\n",
       "    <tr>\n",
       "      <th>36</th>\n",
       "      <td>1.212865</td>\n",
       "      <td>0.890053</td>\n",
       "      <td>4</td>\n",
       "    </tr>\n",
       "    <tr>\n",
       "      <th>39</th>\n",
       "      <td>2.369428</td>\n",
       "      <td>0.059173</td>\n",
       "      <td>4</td>\n",
       "    </tr>\n",
       "    <tr>\n",
       "      <th>40</th>\n",
       "      <td>1.295476</td>\n",
       "      <td>-0.334401</td>\n",
       "      <td>4</td>\n",
       "    </tr>\n",
       "    <tr>\n",
       "      <th>44</th>\n",
       "      <td>1.563964</td>\n",
       "      <td>1.414819</td>\n",
       "      <td>4</td>\n",
       "    </tr>\n",
       "    <tr>\n",
       "      <th>45</th>\n",
       "      <td>1.646576</td>\n",
       "      <td>0.977514</td>\n",
       "      <td>4</td>\n",
       "    </tr>\n",
       "    <tr>\n",
       "      <th>51</th>\n",
       "      <td>1.171559</td>\n",
       "      <td>0.059173</td>\n",
       "      <td>4</td>\n",
       "    </tr>\n",
       "    <tr>\n",
       "      <th>59</th>\n",
       "      <td>1.192212</td>\n",
       "      <td>0.409017</td>\n",
       "      <td>4</td>\n",
       "    </tr>\n",
       "    <tr>\n",
       "      <th>61</th>\n",
       "      <td>1.316129</td>\n",
       "      <td>0.277826</td>\n",
       "      <td>4</td>\n",
       "    </tr>\n",
       "    <tr>\n",
       "      <th>81</th>\n",
       "      <td>1.295476</td>\n",
       "      <td>0.890053</td>\n",
       "      <td>4</td>\n",
       "    </tr>\n",
       "    <tr>\n",
       "      <th>82</th>\n",
       "      <td>1.502005</td>\n",
       "      <td>0.452748</td>\n",
       "      <td>4</td>\n",
       "    </tr>\n",
       "    <tr>\n",
       "      <th>83</th>\n",
       "      <td>1.088947</td>\n",
       "      <td>1.239897</td>\n",
       "      <td>4</td>\n",
       "    </tr>\n",
       "    <tr>\n",
       "      <th>93</th>\n",
       "      <td>0.882418</td>\n",
       "      <td>0.409017</td>\n",
       "      <td>4</td>\n",
       "    </tr>\n",
       "    <tr>\n",
       "      <th>96</th>\n",
       "      <td>3.071627</td>\n",
       "      <td>0.321556</td>\n",
       "      <td>4</td>\n",
       "    </tr>\n",
       "    <tr>\n",
       "      <th>98</th>\n",
       "      <td>1.440047</td>\n",
       "      <td>0.540209</td>\n",
       "      <td>4</td>\n",
       "    </tr>\n",
       "    <tr>\n",
       "      <th>110</th>\n",
       "      <td>1.646576</td>\n",
       "      <td>0.190365</td>\n",
       "      <td>4</td>\n",
       "    </tr>\n",
       "    <tr>\n",
       "      <th>132</th>\n",
       "      <td>1.026988</td>\n",
       "      <td>0.540209</td>\n",
       "      <td>4</td>\n",
       "    </tr>\n",
       "    <tr>\n",
       "      <th>134</th>\n",
       "      <td>1.254170</td>\n",
       "      <td>0.583939</td>\n",
       "      <td>4</td>\n",
       "    </tr>\n",
       "    <tr>\n",
       "      <th>140</th>\n",
       "      <td>1.026988</td>\n",
       "      <td>0.321556</td>\n",
       "      <td>4</td>\n",
       "    </tr>\n",
       "    <tr>\n",
       "      <th>141</th>\n",
       "      <td>1.192212</td>\n",
       "      <td>1.371088</td>\n",
       "      <td>4</td>\n",
       "    </tr>\n",
       "    <tr>\n",
       "      <th>161</th>\n",
       "      <td>1.997675</td>\n",
       "      <td>0.715131</td>\n",
       "      <td>4</td>\n",
       "    </tr>\n",
       "    <tr>\n",
       "      <th>172</th>\n",
       "      <td>0.799806</td>\n",
       "      <td>0.452748</td>\n",
       "      <td>4</td>\n",
       "    </tr>\n",
       "    <tr>\n",
       "      <th>177</th>\n",
       "      <td>1.853105</td>\n",
       "      <td>0.365287</td>\n",
       "      <td>4</td>\n",
       "    </tr>\n",
       "    <tr>\n",
       "      <th>180</th>\n",
       "      <td>2.224857</td>\n",
       "      <td>-0.771706</td>\n",
       "      <td>4</td>\n",
       "    </tr>\n",
       "    <tr>\n",
       "      <th>182</th>\n",
       "      <td>1.749840</td>\n",
       "      <td>0.846322</td>\n",
       "      <td>4</td>\n",
       "    </tr>\n",
       "    <tr>\n",
       "      <th>185</th>\n",
       "      <td>0.923724</td>\n",
       "      <td>0.146634</td>\n",
       "      <td>4</td>\n",
       "    </tr>\n",
       "    <tr>\n",
       "      <th>190</th>\n",
       "      <td>1.233518</td>\n",
       "      <td>-0.334401</td>\n",
       "      <td>4</td>\n",
       "    </tr>\n",
       "    <tr>\n",
       "      <th>195</th>\n",
       "      <td>1.667229</td>\n",
       "      <td>-0.421862</td>\n",
       "      <td>4</td>\n",
       "    </tr>\n",
       "    <tr>\n",
       "      <th>213</th>\n",
       "      <td>1.274823</td>\n",
       "      <td>-0.159479</td>\n",
       "      <td>4</td>\n",
       "    </tr>\n",
       "    <tr>\n",
       "      <th>215</th>\n",
       "      <td>1.977023</td>\n",
       "      <td>-0.596784</td>\n",
       "      <td>4</td>\n",
       "    </tr>\n",
       "    <tr>\n",
       "      <th>217</th>\n",
       "      <td>1.749840</td>\n",
       "      <td>-0.771706</td>\n",
       "      <td>4</td>\n",
       "    </tr>\n",
       "    <tr>\n",
       "      <th>220</th>\n",
       "      <td>3.340115</td>\n",
       "      <td>0.190365</td>\n",
       "      <td>4</td>\n",
       "    </tr>\n",
       "    <tr>\n",
       "      <th>222</th>\n",
       "      <td>0.758500</td>\n",
       "      <td>1.064975</td>\n",
       "      <td>4</td>\n",
       "    </tr>\n",
       "    <tr>\n",
       "      <th>228</th>\n",
       "      <td>0.882418</td>\n",
       "      <td>0.409017</td>\n",
       "      <td>4</td>\n",
       "    </tr>\n",
       "    <tr>\n",
       "      <th>235</th>\n",
       "      <td>1.109600</td>\n",
       "      <td>1.021244</td>\n",
       "      <td>4</td>\n",
       "    </tr>\n",
       "    <tr>\n",
       "      <th>236</th>\n",
       "      <td>1.130253</td>\n",
       "      <td>0.933783</td>\n",
       "      <td>4</td>\n",
       "    </tr>\n",
       "    <tr>\n",
       "      <th>237</th>\n",
       "      <td>0.985683</td>\n",
       "      <td>0.890053</td>\n",
       "      <td>4</td>\n",
       "    </tr>\n",
       "    <tr>\n",
       "      <th>238</th>\n",
       "      <td>1.212865</td>\n",
       "      <td>0.540209</td>\n",
       "      <td>4</td>\n",
       "    </tr>\n",
       "    <tr>\n",
       "      <th>246</th>\n",
       "      <td>3.381421</td>\n",
       "      <td>0.015443</td>\n",
       "      <td>4</td>\n",
       "    </tr>\n",
       "    <tr>\n",
       "      <th>255</th>\n",
       "      <td>1.316129</td>\n",
       "      <td>-0.115749</td>\n",
       "      <td>4</td>\n",
       "    </tr>\n",
       "    <tr>\n",
       "      <th>278</th>\n",
       "      <td>1.522658</td>\n",
       "      <td>0.102904</td>\n",
       "      <td>4</td>\n",
       "    </tr>\n",
       "    <tr>\n",
       "      <th>288</th>\n",
       "      <td>1.853105</td>\n",
       "      <td>-0.290671</td>\n",
       "      <td>4</td>\n",
       "    </tr>\n",
       "    <tr>\n",
       "      <th>291</th>\n",
       "      <td>1.502005</td>\n",
       "      <td>-0.421862</td>\n",
       "      <td>4</td>\n",
       "    </tr>\n",
       "  </tbody>\n",
       "</table>\n",
       "</div>"
      ],
      "text/plain": [
       "       INCOME     SPEND  TARGET\n",
       "4    2.245510  0.583939       4\n",
       "6    1.006335  0.146634       4\n",
       "16   1.956370  0.977514       4\n",
       "25   1.171559  0.540209       4\n",
       "28   3.546644  0.321556       4\n",
       "36   1.212865  0.890053       4\n",
       "39   2.369428  0.059173       4\n",
       "40   1.295476 -0.334401       4\n",
       "44   1.563964  1.414819       4\n",
       "45   1.646576  0.977514       4\n",
       "51   1.171559  0.059173       4\n",
       "59   1.192212  0.409017       4\n",
       "61   1.316129  0.277826       4\n",
       "81   1.295476  0.890053       4\n",
       "82   1.502005  0.452748       4\n",
       "83   1.088947  1.239897       4\n",
       "93   0.882418  0.409017       4\n",
       "96   3.071627  0.321556       4\n",
       "98   1.440047  0.540209       4\n",
       "110  1.646576  0.190365       4\n",
       "132  1.026988  0.540209       4\n",
       "134  1.254170  0.583939       4\n",
       "140  1.026988  0.321556       4\n",
       "141  1.192212  1.371088       4\n",
       "161  1.997675  0.715131       4\n",
       "172  0.799806  0.452748       4\n",
       "177  1.853105  0.365287       4\n",
       "180  2.224857 -0.771706       4\n",
       "182  1.749840  0.846322       4\n",
       "185  0.923724  0.146634       4\n",
       "190  1.233518 -0.334401       4\n",
       "195  1.667229 -0.421862       4\n",
       "213  1.274823 -0.159479       4\n",
       "215  1.977023 -0.596784       4\n",
       "217  1.749840 -0.771706       4\n",
       "220  3.340115  0.190365       4\n",
       "222  0.758500  1.064975       4\n",
       "228  0.882418  0.409017       4\n",
       "235  1.109600  1.021244       4\n",
       "236  1.130253  0.933783       4\n",
       "237  0.985683  0.890053       4\n",
       "238  1.212865  0.540209       4\n",
       "246  3.381421  0.015443       4\n",
       "255  1.316129 -0.115749       4\n",
       "278  1.522658  0.102904       4\n",
       "288  1.853105 -0.290671       4\n",
       "291  1.502005 -0.421862       4"
      ]
     },
     "execution_count": 22,
     "metadata": {},
     "output_type": "execute_result"
    }
   ],
   "source": [
    "df4"
   ]
  },
  {
   "cell_type": "code",
   "execution_count": 23,
   "id": "4de12af9",
   "metadata": {},
   "outputs": [
    {
     "data": {
      "text/plain": [
       "(80, 3)"
      ]
     },
     "execution_count": 23,
     "metadata": {},
     "output_type": "execute_result"
    }
   ],
   "source": [
    "df0.shape"
   ]
  },
  {
   "cell_type": "code",
   "execution_count": 24,
   "id": "44987d75",
   "metadata": {},
   "outputs": [
    {
     "data": {
      "text/plain": [
       "(51, 3)"
      ]
     },
     "execution_count": 24,
     "metadata": {},
     "output_type": "execute_result"
    }
   ],
   "source": [
    "df1.shape"
   ]
  },
  {
   "cell_type": "code",
   "execution_count": 25,
   "id": "1ffacde9",
   "metadata": {},
   "outputs": [
    {
     "data": {
      "text/plain": [
       "(39, 3)"
      ]
     },
     "execution_count": 25,
     "metadata": {},
     "output_type": "execute_result"
    }
   ],
   "source": [
    "df2.shape"
   ]
  },
  {
   "cell_type": "code",
   "execution_count": 26,
   "id": "fe0a96d6",
   "metadata": {},
   "outputs": [
    {
     "data": {
      "text/plain": [
       "(86, 3)"
      ]
     },
     "execution_count": 26,
     "metadata": {},
     "output_type": "execute_result"
    }
   ],
   "source": [
    "df3.shape"
   ]
  },
  {
   "cell_type": "code",
   "execution_count": 27,
   "id": "60fa2ada",
   "metadata": {},
   "outputs": [
    {
     "data": {
      "text/plain": [
       "(47, 3)"
      ]
     },
     "execution_count": 27,
     "metadata": {},
     "output_type": "execute_result"
    }
   ],
   "source": [
    "df4.shape"
   ]
  },
  {
   "cell_type": "code",
   "execution_count": 28,
   "id": "60918003",
   "metadata": {},
   "outputs": [
    {
     "data": {
      "text/plain": [
       "array([[ 0.10070512,  0.120396  ],\n",
       "       [-1.01805523, -1.00236328],\n",
       "       [ 0.66370889, -1.50951841],\n",
       "       [-0.64637809,  0.96937799],\n",
       "       [ 1.56528247,  0.36156508]])"
      ]
     },
     "execution_count": 28,
     "metadata": {},
     "output_type": "execute_result"
    }
   ],
   "source": [
    "#finding centroid of df0 df1 df2 df3 df4\n",
    "#use inbilt method cluster_centers defined in KMeans class\n",
    "km.cluster_centers_"
   ]
  },
  {
   "cell_type": "code",
   "execution_count": 29,
   "id": "658fdbef",
   "metadata": {},
   "outputs": [
    {
     "data": {
      "image/png": "[encoded data removed]",
      "text/plain": [
       "<Figure size 432x288 with 1 Axes>"
      ]
     },
     "metadata": {
      "needs_background": "light"
     },
     "output_type": "display_data"
    }
   ],
   "source": [
    "#visualizing\n",
    "#use scatterlot\n",
    "sns.scatterplot(df0[\"INCOME\"],df0['SPEND'],color=\"red\")\n",
    "sns.scatterplot(df1[\"INCOME\"],df1['SPEND'],color=\"blue\")\n",
    "sns.scatterplot(df2[\"INCOME\"],df2['SPEND'],color=\"green\")\n",
    "sns.scatterplot(df3[\"INCOME\"],df3['SPEND'],color=\"black\")\n",
    "sns.scatterplot(df4[\"INCOME\"],df4['SPEND'],color=\"yellow\")\n",
    "plt.show()"
   ]
  },
  {
   "cell_type": "code",
   "execution_count": 30,
   "id": "d76f9ac5",
   "metadata": {},
   "outputs": [
    {
     "data": {
      "image/png": "[encoded data removed]",
      "text/plain": [
       "<Figure size 432x288 with 1 Axes>"
      ]
     },
     "metadata": {
      "needs_background": "light"
     },
     "output_type": "display_data"
    }
   ],
   "source": [
    "#visualizing\n",
    "#use scatterlot \n",
    "#also show centroid of all dataframe\n",
    "sns.scatterplot(df0[\"INCOME\"],df0['SPEND'],color=\"red\")\n",
    "sns.scatterplot(df1[\"INCOME\"],df1['SPEND'],color=\"blue\")\n",
    "sns.scatterplot(df2[\"INCOME\"],df2['SPEND'],color=\"green\")\n",
    "sns.scatterplot(df3[\"INCOME\"],df3['SPEND'],color=\"black\")\n",
    "sns.scatterplot(df4[\"INCOME\"],df4['SPEND'],color=\"yellow\")\n",
    "sns.scatterplot(km.cluster_centers_[:,0],km.cluster_centers_[:,1],color=\"purple\",\n",
    "                marker=\"s\",s=150)\n",
    "plt.show()"
   ]
  }
 ],
 "metadata": {
  "kernelspec": {
   "display_name": "Python 3 (ipykernel)",
   "language": "python",
   "name": "python3"
  },
  "language_info": {
   "codemirror_mode": {
    "name": "ipython",
    "version": 3
   },
   "file_extension": ".py",
   "mimetype": "text/x-python",
   "name": "python",
   "nbconvert_exporter": "python",
   "pygments_lexer": "ipython3",
   "version": "3.10.1"
  }
 },
 "nbformat": 4,
 "nbformat_minor": 5
}
