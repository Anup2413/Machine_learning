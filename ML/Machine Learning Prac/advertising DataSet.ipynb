{
 "cells": [
  {
   "cell_type": "code",
   "execution_count": 1,
   "id": "8d047b6b",
   "metadata": {},
   "outputs": [],
   "source": [
    "#simple linear regression\n",
    "#working on advertising dataset\n"
   ]
  },
  {
   "cell_type": "code",
   "execution_count": 2,
   "id": "b29b1c6f",
   "metadata": {},
   "outputs": [],
   "source": [
    "import numpy as np\n",
    "import pandas as pd\n",
    "import seaborn as sns\n",
    "import matplotlib.pyplot as plt\n",
    "import warnings \n",
    "warnings.filterwarnings(\"ignore\")"
   ]
  },
  {
   "cell_type": "code",
   "execution_count": 3,
   "id": "b72ea759",
   "metadata": {},
   "outputs": [
    {
     "data": {
      "text/html": [
       "<div>\n",
       "<style scoped>\n",
       "    .dataframe tbody tr th:only-of-type {\n",
       "        vertical-align: middle;\n",
       "    }\n",
       "\n",
       "    .dataframe tbody tr th {\n",
       "        vertical-align: top;\n",
       "    }\n",
       "\n",
       "    .dataframe thead th {\n",
       "        text-align: right;\n",
       "    }\n",
       "</style>\n",
       "<table border=\"1\" class=\"dataframe\">\n",
       "  <thead>\n",
       "    <tr style=\"text-align: right;\">\n",
       "      <th></th>\n",
       "      <th>Unnamed: 0</th>\n",
       "      <th>TV</th>\n",
       "      <th>radio</th>\n",
       "      <th>newspaper</th>\n",
       "      <th>sales</th>\n",
       "    </tr>\n",
       "  </thead>\n",
       "  <tbody>\n",
       "    <tr>\n",
       "      <th>0</th>\n",
       "      <td>1</td>\n",
       "      <td>230.1</td>\n",
       "      <td>37.8</td>\n",
       "      <td>69.2</td>\n",
       "      <td>22.1</td>\n",
       "    </tr>\n",
       "    <tr>\n",
       "      <th>1</th>\n",
       "      <td>2</td>\n",
       "      <td>44.5</td>\n",
       "      <td>39.3</td>\n",
       "      <td>45.1</td>\n",
       "      <td>10.4</td>\n",
       "    </tr>\n",
       "    <tr>\n",
       "      <th>2</th>\n",
       "      <td>3</td>\n",
       "      <td>17.2</td>\n",
       "      <td>45.9</td>\n",
       "      <td>69.3</td>\n",
       "      <td>9.3</td>\n",
       "    </tr>\n",
       "    <tr>\n",
       "      <th>3</th>\n",
       "      <td>4</td>\n",
       "      <td>151.5</td>\n",
       "      <td>41.3</td>\n",
       "      <td>58.5</td>\n",
       "      <td>18.5</td>\n",
       "    </tr>\n",
       "    <tr>\n",
       "      <th>4</th>\n",
       "      <td>5</td>\n",
       "      <td>180.8</td>\n",
       "      <td>10.8</td>\n",
       "      <td>58.4</td>\n",
       "      <td>12.9</td>\n",
       "    </tr>\n",
       "  </tbody>\n",
       "</table>\n",
       "</div>"
      ],
      "text/plain": [
       "   Unnamed: 0     TV  radio  newspaper  sales\n",
       "0           1  230.1   37.8       69.2   22.1\n",
       "1           2   44.5   39.3       45.1   10.4\n",
       "2           3   17.2   45.9       69.3    9.3\n",
       "3           4  151.5   41.3       58.5   18.5\n",
       "4           5  180.8   10.8       58.4   12.9"
      ]
     },
     "execution_count": 3,
     "metadata": {},
     "output_type": "execute_result"
    }
   ],
   "source": [
    "#to lode dataset\n",
    "df=pd.read_csv(\"advertising.csv\")\n",
    "df.head()"
   ]
  },
  {
   "cell_type": "code",
   "execution_count": 4,
   "id": "5668f2e3",
   "metadata": {},
   "outputs": [],
   "source": [
    "#to remove Unnamed: 0 column\n",
    "df.drop(\"Unnamed: 0\",axis=1,inplace=True)"
   ]
  },
  {
   "cell_type": "code",
   "execution_count": 5,
   "id": "e2d2d79b",
   "metadata": {},
   "outputs": [
    {
     "data": {
      "text/html": [
       "<div>\n",
       "<style scoped>\n",
       "    .dataframe tbody tr th:only-of-type {\n",
       "        vertical-align: middle;\n",
       "    }\n",
       "\n",
       "    .dataframe tbody tr th {\n",
       "        vertical-align: top;\n",
       "    }\n",
       "\n",
       "    .dataframe thead th {\n",
       "        text-align: right;\n",
       "    }\n",
       "</style>\n",
       "<table border=\"1\" class=\"dataframe\">\n",
       "  <thead>\n",
       "    <tr style=\"text-align: right;\">\n",
       "      <th></th>\n",
       "      <th>TV</th>\n",
       "      <th>radio</th>\n",
       "      <th>newspaper</th>\n",
       "      <th>sales</th>\n",
       "    </tr>\n",
       "  </thead>\n",
       "  <tbody>\n",
       "    <tr>\n",
       "      <th>0</th>\n",
       "      <td>230.1</td>\n",
       "      <td>37.8</td>\n",
       "      <td>69.2</td>\n",
       "      <td>22.1</td>\n",
       "    </tr>\n",
       "    <tr>\n",
       "      <th>1</th>\n",
       "      <td>44.5</td>\n",
       "      <td>39.3</td>\n",
       "      <td>45.1</td>\n",
       "      <td>10.4</td>\n",
       "    </tr>\n",
       "    <tr>\n",
       "      <th>2</th>\n",
       "      <td>17.2</td>\n",
       "      <td>45.9</td>\n",
       "      <td>69.3</td>\n",
       "      <td>9.3</td>\n",
       "    </tr>\n",
       "    <tr>\n",
       "      <th>3</th>\n",
       "      <td>151.5</td>\n",
       "      <td>41.3</td>\n",
       "      <td>58.5</td>\n",
       "      <td>18.5</td>\n",
       "    </tr>\n",
       "    <tr>\n",
       "      <th>4</th>\n",
       "      <td>180.8</td>\n",
       "      <td>10.8</td>\n",
       "      <td>58.4</td>\n",
       "      <td>12.9</td>\n",
       "    </tr>\n",
       "  </tbody>\n",
       "</table>\n",
       "</div>"
      ],
      "text/plain": [
       "      TV  radio  newspaper  sales\n",
       "0  230.1   37.8       69.2   22.1\n",
       "1   44.5   39.3       45.1   10.4\n",
       "2   17.2   45.9       69.3    9.3\n",
       "3  151.5   41.3       58.5   18.5\n",
       "4  180.8   10.8       58.4   12.9"
      ]
     },
     "execution_count": 5,
     "metadata": {},
     "output_type": "execute_result"
    }
   ],
   "source": [
    "df.head()"
   ]
  },
  {
   "cell_type": "code",
   "execution_count": 6,
   "id": "ad843218",
   "metadata": {},
   "outputs": [
    {
     "data": {
      "text/plain": [
       "(200, 4)"
      ]
     },
     "execution_count": 6,
     "metadata": {},
     "output_type": "execute_result"
    }
   ],
   "source": [
    "df.shape #how many record"
   ]
  },
  {
   "cell_type": "code",
   "execution_count": 7,
   "id": "6d6e2a7d",
   "metadata": {},
   "outputs": [
    {
     "data": {
      "text/plain": [
       "TV           0\n",
       "radio        0\n",
       "newspaper    0\n",
       "sales        0\n",
       "dtype: int64"
      ]
     },
     "execution_count": 7,
     "metadata": {},
     "output_type": "execute_result"
    }
   ],
   "source": [
    "#check null values\n",
    "df.isnull().sum()"
   ]
  },
  {
   "cell_type": "code",
   "execution_count": 8,
   "id": "669c3030",
   "metadata": {},
   "outputs": [
    {
     "data": {
      "image/png": "[encoded data removed]",
      "text/plain": [
       "<Figure size 432x288 with 2 Axes>"
      ]
     },
     "metadata": {
      "needs_background": "light"
     },
     "output_type": "display_data"
    }
   ],
   "source": [
    "sns.heatmap(df.isnull())\n",
    "plt.show()"
   ]
  },
  {
   "cell_type": "code",
   "execution_count": 9,
   "id": "3902cb33",
   "metadata": {},
   "outputs": [
    {
     "data": {
      "text/plain": [
       "TV           float64\n",
       "radio        float64\n",
       "newspaper    float64\n",
       "sales        float64\n",
       "dtype: object"
      ]
     },
     "execution_count": 9,
     "metadata": {},
     "output_type": "execute_result"
    }
   ],
   "source": [
    "#check datatype\n",
    "df.dtypes"
   ]
  },
  {
   "cell_type": "code",
   "execution_count": 10,
   "id": "c7573c56",
   "metadata": {},
   "outputs": [],
   "source": [
    "#We predict sales means contineous numerical value means apply regression\n",
    "#algorithm"
   ]
  },
  {
   "cell_type": "code",
   "execution_count": 11,
   "id": "b354bd00",
   "metadata": {},
   "outputs": [],
   "source": [
    "#To check relation between input and output\n",
    "#First check relation between input : TV and output sales with the help of \n",
    "#scatter plot"
   ]
  },
  {
   "cell_type": "code",
   "execution_count": 12,
   "id": "3229e395",
   "metadata": {},
   "outputs": [
    {
     "data": {
      "image/png": "[encoded data removed]",
      "text/plain": [
       "<Figure size 432x288 with 1 Axes>"
      ]
     },
     "metadata": {
      "needs_background": "light"
     },
     "output_type": "display_data"
    }
   ],
   "source": [
    "#visualization\n",
    "#first taking X=TV\n",
    "x=df[\"TV\"] #input means independent variable\n",
    "y=df[\"sales\"] #output means dependent variable\n",
    "sns.scatterplot(x,y)\n",
    "plt.show()"
   ]
  },
  {
   "cell_type": "code",
   "execution_count": 13,
   "id": "9365c512",
   "metadata": {},
   "outputs": [],
   "source": [
    "#Nice upword growth that means as we investment more on TV the sales is also\n",
    "#increasing that means +ve correlation means good +ve correlation between\n",
    "#TV(input) with sales(output)"
   ]
  },
  {
   "cell_type": "code",
   "execution_count": 14,
   "id": "18c5f851",
   "metadata": {},
   "outputs": [
    {
     "data": {
      "image/png": "[encoded data removed]",
      "text/plain": [
       "<Figure size 432x288 with 1 Axes>"
      ]
     },
     "metadata": {
      "needs_background": "light"
     },
     "output_type": "display_data"
    }
   ],
   "source": [
    "#checking relation of radio with sales\n",
    "x=df[\"radio\"] #input variable\n",
    "y=df[\"sales\"] #output variable\n",
    "sns.scatterplot(x,y)\n",
    "plt.show()"
   ]
  },
  {
   "cell_type": "code",
   "execution_count": 15,
   "id": "f4dcb15a",
   "metadata": {},
   "outputs": [],
   "source": [
    "#see the scatter plot radio with sales : - looks better but lot of data is \n",
    "#scattered but scatter data overhere +ve correlation, But correlation is less\n",
    "#as compared to TV"
   ]
  },
  {
   "cell_type": "code",
   "execution_count": 16,
   "id": "81f1abfb",
   "metadata": {},
   "outputs": [
    {
     "data": {
      "image/png": "[encoded data removed]",
      "text/plain": [
       "<Figure size 432x288 with 1 Axes>"
      ]
     },
     "metadata": {
      "needs_background": "light"
     },
     "output_type": "display_data"
    }
   ],
   "source": [
    "#checking relation of newspaper with sales\n",
    "x=df[\"newspaper\"] #input variable\n",
    "y=df[\"sales\"] #output variable\n",
    "sns.scatterplot(x,y)\n",
    "plt.show()"
   ]
  },
  {
   "cell_type": "code",
   "execution_count": 17,
   "id": "af1d3ee6",
   "metadata": {},
   "outputs": [],
   "source": [
    "#It is very bed correlation means no +ve corr and no -ve corr means no\n",
    "#correlation newspaper with sales because data point are scattered"
   ]
  },
  {
   "cell_type": "code",
   "execution_count": 18,
   "id": "5ed63935",
   "metadata": {},
   "outputs": [
    {
     "data": {
      "text/plain": [
       "Index(['TV', 'radio', 'newspaper', 'sales'], dtype='object')"
      ]
     },
     "execution_count": 18,
     "metadata": {},
     "output_type": "execute_result"
    }
   ],
   "source": [
    "df.columns"
   ]
  },
  {
   "cell_type": "code",
   "execution_count": 19,
   "id": "2928263d",
   "metadata": {},
   "outputs": [
    {
     "data": {
      "text/plain": [
       "['TV', 'radio', 'newspaper']"
      ]
     },
     "execution_count": 19,
     "metadata": {},
     "output_type": "execute_result"
    }
   ],
   "source": [
    "x=['TV', 'radio', 'newspaper']\n",
    "x"
   ]
  },
  {
   "cell_type": "code",
   "execution_count": 20,
   "id": "c4bb0555",
   "metadata": {},
   "outputs": [
    {
     "data": {
      "image/png": "[encoded data removed]",
      "text/plain": [
       "<Figure size 576x432 with 3 Axes>"
      ]
     },
     "metadata": {
      "needs_background": "light"
     },
     "output_type": "display_data"
    }
   ],
   "source": [
    "y=df[\"sales\"] #output\n",
    "plt.figure(figsize=(8,6)) #to increse fig size\n",
    "for i,col in enumerate(x):\n",
    "    #print(i,\" \",col)\n",
    "    plt.subplot(2,2,i+1) #subplot(row,cols,index+1)\n",
    "    sns.scatterplot(df[col],y)\n",
    "plt.show()"
   ]
  },
  {
   "cell_type": "code",
   "execution_count": 21,
   "id": "592abea9",
   "metadata": {},
   "outputs": [
    {
     "data": {
      "text/html": [
       "<div>\n",
       "<style scoped>\n",
       "    .dataframe tbody tr th:only-of-type {\n",
       "        vertical-align: middle;\n",
       "    }\n",
       "\n",
       "    .dataframe tbody tr th {\n",
       "        vertical-align: top;\n",
       "    }\n",
       "\n",
       "    .dataframe thead th {\n",
       "        text-align: right;\n",
       "    }\n",
       "</style>\n",
       "<table border=\"1\" class=\"dataframe\">\n",
       "  <thead>\n",
       "    <tr style=\"text-align: right;\">\n",
       "      <th></th>\n",
       "      <th>TV</th>\n",
       "      <th>radio</th>\n",
       "      <th>newspaper</th>\n",
       "      <th>sales</th>\n",
       "    </tr>\n",
       "  </thead>\n",
       "  <tbody>\n",
       "    <tr>\n",
       "      <th>TV</th>\n",
       "      <td>1.000000</td>\n",
       "      <td>0.054809</td>\n",
       "      <td>0.056648</td>\n",
       "      <td>0.782224</td>\n",
       "    </tr>\n",
       "    <tr>\n",
       "      <th>radio</th>\n",
       "      <td>0.054809</td>\n",
       "      <td>1.000000</td>\n",
       "      <td>0.354104</td>\n",
       "      <td>0.576223</td>\n",
       "    </tr>\n",
       "    <tr>\n",
       "      <th>newspaper</th>\n",
       "      <td>0.056648</td>\n",
       "      <td>0.354104</td>\n",
       "      <td>1.000000</td>\n",
       "      <td>0.228299</td>\n",
       "    </tr>\n",
       "    <tr>\n",
       "      <th>sales</th>\n",
       "      <td>0.782224</td>\n",
       "      <td>0.576223</td>\n",
       "      <td>0.228299</td>\n",
       "      <td>1.000000</td>\n",
       "    </tr>\n",
       "  </tbody>\n",
       "</table>\n",
       "</div>"
      ],
      "text/plain": [
       "                 TV     radio  newspaper     sales\n",
       "TV         1.000000  0.054809   0.056648  0.782224\n",
       "radio      0.054809  1.000000   0.354104  0.576223\n",
       "newspaper  0.056648  0.354104   1.000000  0.228299\n",
       "sales      0.782224  0.576223   0.228299  1.000000"
      ]
     },
     "execution_count": 21,
     "metadata": {},
     "output_type": "execute_result"
    }
   ],
   "source": [
    "#to check correlation between input and output\n",
    "df.corr()"
   ]
  },
  {
   "cell_type": "code",
   "execution_count": 22,
   "id": "2ecbdb07",
   "metadata": {},
   "outputs": [
    {
     "data": {
      "image/png": "[encoded data removed]",
      "text/plain": [
       "<Figure size 432x288 with 2 Axes>"
      ]
     },
     "metadata": {
      "needs_background": "light"
     },
     "output_type": "display_data"
    }
   ],
   "source": [
    "#to check correlation by visualization\n",
    "sns.heatmap(df.corr(),annot=True)\n",
    "plt.show()\n",
    "\n",
    "\n",
    "#correlation values with TV and sales=0.78 , It is very good\n",
    "#correlation values with radio and sales=0.58 , It is good(ok)\n",
    "#correlation values with newspaper and sales=0.23 , It is very bad"
   ]
  },
  {
   "cell_type": "code",
   "execution_count": 23,
   "id": "1e2fbf67",
   "metadata": {},
   "outputs": [],
   "source": [
    "#Performing the modeling \n",
    "#Modeling with input : TV and output sales \n",
    "#SLR : only one input\n",
    "#Select input and output from dataset"
   ]
  },
  {
   "cell_type": "code",
   "execution_count": 24,
   "id": "5a33ef6f",
   "metadata": {},
   "outputs": [],
   "source": [
    "#Select Input and output from dataset\n",
    "X=df[[\"TV\"]] #input means independent variable (input always 2D array)\n",
    "Y=df[\"sales\"]"
   ]
  },
  {
   "cell_type": "code",
   "execution_count": 25,
   "id": "75b7f11c",
   "metadata": {},
   "outputs": [
    {
     "data": {
      "text/plain": [
       "(200, 1)"
      ]
     },
     "execution_count": 25,
     "metadata": {},
     "output_type": "execute_result"
    }
   ],
   "source": [
    "X.shape"
   ]
  },
  {
   "cell_type": "code",
   "execution_count": 26,
   "id": "696a6345",
   "metadata": {},
   "outputs": [],
   "source": [
    "#train_test_split() : inbuilt  function It is used to split dataset \n",
    "#into training and testing , 70% data use in training and 30% data used in\n",
    "#testing\n",
    "#train_test_split()  : this function define in inbuilt class\n",
    "#train_test_split class\n",
    "\n",
    "\n",
    "\n",
    "from sklearn.model_selection import train_test_split"
   ]
  },
  {
   "cell_type": "code",
   "execution_count": 27,
   "id": "556b07cb",
   "metadata": {},
   "outputs": [],
   "source": [
    "#creating object of train_test+_split class\n",
    "X_train,X_test,Y_train,Y_test=train_test_split(X,Y,test_size=0.3,random_state=1)"
   ]
  },
  {
   "cell_type": "code",
   "execution_count": 28,
   "id": "181d1524",
   "metadata": {},
   "outputs": [
    {
     "data": {
      "text/plain": [
       "(140, 1)"
      ]
     },
     "execution_count": 28,
     "metadata": {},
     "output_type": "execute_result"
    }
   ],
   "source": [
    "X_train.shape"
   ]
  },
  {
   "cell_type": "code",
   "execution_count": 29,
   "id": "f510f817",
   "metadata": {},
   "outputs": [
    {
     "data": {
      "text/plain": [
       "(60, 1)"
      ]
     },
     "execution_count": 29,
     "metadata": {},
     "output_type": "execute_result"
    }
   ],
   "source": [
    "X_test.shape"
   ]
  },
  {
   "cell_type": "code",
   "execution_count": 30,
   "id": "74763474",
   "metadata": {},
   "outputs": [
    {
     "data": {
      "text/plain": [
       "(140,)"
      ]
     },
     "execution_count": 30,
     "metadata": {},
     "output_type": "execute_result"
    }
   ],
   "source": [
    "Y_train.shape"
   ]
  },
  {
   "cell_type": "code",
   "execution_count": 31,
   "id": "d2c02fe4",
   "metadata": {},
   "outputs": [
    {
     "data": {
      "text/plain": [
       "(60,)"
      ]
     },
     "execution_count": 31,
     "metadata": {},
     "output_type": "execute_result"
    }
   ],
   "source": [
    "Y_test.shape"
   ]
  },
  {
   "cell_type": "code",
   "execution_count": 32,
   "id": "0284b566",
   "metadata": {},
   "outputs": [
    {
     "data": {
      "text/html": [
       "<div>\n",
       "<style scoped>\n",
       "    .dataframe tbody tr th:only-of-type {\n",
       "        vertical-align: middle;\n",
       "    }\n",
       "\n",
       "    .dataframe tbody tr th {\n",
       "        vertical-align: top;\n",
       "    }\n",
       "\n",
       "    .dataframe thead th {\n",
       "        text-align: right;\n",
       "    }\n",
       "</style>\n",
       "<table border=\"1\" class=\"dataframe\">\n",
       "  <thead>\n",
       "    <tr style=\"text-align: right;\">\n",
       "      <th></th>\n",
       "      <th>TV</th>\n",
       "    </tr>\n",
       "  </thead>\n",
       "  <tbody>\n",
       "    <tr>\n",
       "      <th>116</th>\n",
       "      <td>139.2</td>\n",
       "    </tr>\n",
       "    <tr>\n",
       "      <th>67</th>\n",
       "      <td>139.3</td>\n",
       "    </tr>\n",
       "    <tr>\n",
       "      <th>78</th>\n",
       "      <td>5.4</td>\n",
       "    </tr>\n",
       "    <tr>\n",
       "      <th>42</th>\n",
       "      <td>293.6</td>\n",
       "    </tr>\n",
       "    <tr>\n",
       "      <th>17</th>\n",
       "      <td>281.4</td>\n",
       "    </tr>\n",
       "    <tr>\n",
       "      <th>5</th>\n",
       "      <td>8.7</td>\n",
       "    </tr>\n",
       "    <tr>\n",
       "      <th>127</th>\n",
       "      <td>80.2</td>\n",
       "    </tr>\n",
       "    <tr>\n",
       "      <th>105</th>\n",
       "      <td>137.9</td>\n",
       "    </tr>\n",
       "    <tr>\n",
       "      <th>48</th>\n",
       "      <td>227.2</td>\n",
       "    </tr>\n",
       "    <tr>\n",
       "      <th>66</th>\n",
       "      <td>31.5</td>\n",
       "    </tr>\n",
       "  </tbody>\n",
       "</table>\n",
       "</div>"
      ],
      "text/plain": [
       "        TV\n",
       "116  139.2\n",
       "67   139.3\n",
       "78     5.4\n",
       "42   293.6\n",
       "17   281.4\n",
       "5      8.7\n",
       "127   80.2\n",
       "105  137.9\n",
       "48   227.2\n",
       "66    31.5"
      ]
     },
     "execution_count": 32,
     "metadata": {},
     "output_type": "execute_result"
    }
   ],
   "source": [
    "X_train.head(10)"
   ]
  },
  {
   "cell_type": "code",
   "execution_count": 33,
   "id": "0834e5dd",
   "metadata": {},
   "outputs": [
    {
     "data": {
      "text/html": [
       "<div>\n",
       "<style scoped>\n",
       "    .dataframe tbody tr th:only-of-type {\n",
       "        vertical-align: middle;\n",
       "    }\n",
       "\n",
       "    .dataframe tbody tr th {\n",
       "        vertical-align: top;\n",
       "    }\n",
       "\n",
       "    .dataframe thead th {\n",
       "        text-align: right;\n",
       "    }\n",
       "</style>\n",
       "<table border=\"1\" class=\"dataframe\">\n",
       "  <thead>\n",
       "    <tr style=\"text-align: right;\">\n",
       "      <th></th>\n",
       "      <th>TV</th>\n",
       "    </tr>\n",
       "  </thead>\n",
       "  <tbody>\n",
       "    <tr>\n",
       "      <th>58</th>\n",
       "      <td>210.8</td>\n",
       "    </tr>\n",
       "    <tr>\n",
       "      <th>40</th>\n",
       "      <td>202.5</td>\n",
       "    </tr>\n",
       "    <tr>\n",
       "      <th>34</th>\n",
       "      <td>95.7</td>\n",
       "    </tr>\n",
       "    <tr>\n",
       "      <th>102</th>\n",
       "      <td>280.2</td>\n",
       "    </tr>\n",
       "    <tr>\n",
       "      <th>184</th>\n",
       "      <td>253.8</td>\n",
       "    </tr>\n",
       "  </tbody>\n",
       "</table>\n",
       "</div>"
      ],
      "text/plain": [
       "        TV\n",
       "58   210.8\n",
       "40   202.5\n",
       "34    95.7\n",
       "102  280.2\n",
       "184  253.8"
      ]
     },
     "execution_count": 33,
     "metadata": {},
     "output_type": "execute_result"
    }
   ],
   "source": [
    "X_test.head()"
   ]
  },
  {
   "cell_type": "code",
   "execution_count": 34,
   "id": "75a8b0f3",
   "metadata": {},
   "outputs": [
    {
     "data": {
      "text/plain": [
       "116    12.2\n",
       "67     13.4\n",
       "78      5.3\n",
       "42     20.7\n",
       "17     24.4\n",
       "5       7.2\n",
       "127     8.8\n",
       "105    19.2\n",
       "48     14.8\n",
       "66      9.5\n",
       "Name: sales, dtype: float64"
      ]
     },
     "execution_count": 34,
     "metadata": {},
     "output_type": "execute_result"
    }
   ],
   "source": [
    "Y_train.head(10)"
   ]
  },
  {
   "cell_type": "code",
   "execution_count": 35,
   "id": "d2c2916a",
   "metadata": {},
   "outputs": [],
   "source": [
    "#performing linear Regression Algorithm\n",
    "#call inbuilt class LinearRegression\n",
    "from sklearn.linear_model import LinearRegression"
   ]
  },
  {
   "cell_type": "code",
   "execution_count": 36,
   "id": "f7cb9e5e",
   "metadata": {},
   "outputs": [],
   "source": [
    "#creating object of linearRegresssion\n",
    "lr=LinearRegression()"
   ]
  },
  {
   "cell_type": "markdown",
   "id": "0c737f5b",
   "metadata": {},
   "source": [
    "# FIT, PREDICT, REPORT"
   ]
  },
  {
   "cell_type": "code",
   "execution_count": 37,
   "id": "435937a0",
   "metadata": {},
   "outputs": [
    {
     "data": {
      "text/plain": [
       "LinearRegression()"
      ]
     },
     "execution_count": 37,
     "metadata": {},
     "output_type": "execute_result"
    }
   ],
   "source": [
    "#train model with 70% of data use fit() method of LinearRegression\n",
    "lr.fit(X_train,Y_train)\n"
   ]
  },
  {
   "cell_type": "code",
   "execution_count": 38,
   "id": "d38dcb29",
   "metadata": {},
   "outputs": [
    {
     "name": "stdout",
     "output_type": "stream",
     "text": [
      "Slope :  [0.04812204]\n",
      "Intecept :  6.923519536059553\n"
     ]
    }
   ],
   "source": [
    "#checking slope/gradient/coefficient and intercept then use\n",
    "m=lr.coef_\n",
    "print(\"Slope : \",m)\n",
    "c=lr.intercept_\n",
    "print(\"Intecept : \",c)\n",
    "#coef_ and intercept_ both are inbuilt method of LinearRegression class"
   ]
  },
  {
   "cell_type": "code",
   "execution_count": 39,
   "id": "f6b17021",
   "metadata": {},
   "outputs": [],
   "source": [
    "#testing the model : use inbuilt method predict of LinearRegression class\n",
    "#equation of straight line = y_predict=m*X+c\n",
    "Y_pred=lr.predict(X_test)"
   ]
  },
  {
   "cell_type": "code",
   "execution_count": 40,
   "id": "6b2f867d",
   "metadata": {},
   "outputs": [
    {
     "data": {
      "text/plain": [
       "array([17.06764591, 16.66823297, 11.52879892, 20.4073156 , 19.1368937 ,\n",
       "       20.57093054, 14.78184893, 15.62398466, 10.32093567, 17.2890073 ,\n",
       "       14.83959538, 10.25356482, 17.25532187, 12.20731971, 17.78947654,\n",
       "       12.97246017, 13.26119242, 20.91259704,  8.1554438 , 17.06283371,\n",
       "       11.75497252, 10.18619396,  8.13138278, 12.09182681, 12.35649804,\n",
       "       15.98971218,  8.99757953, 18.89628349, 14.95027608, 18.47762173,\n",
       "       18.46799732, 18.2081383 , 14.12738917, 15.11389102, 18.87703468,\n",
       "       15.82128503, 17.62586159, 13.15051172, 17.35637816,  7.86671155,\n",
       "        7.55391828, 11.2737521 ,  7.82340171, 16.74522823,  7.27481044,\n",
       "       14.01189627, 10.68666319, 17.89534503, 16.78853807, 17.96752809,\n",
       "       20.864475  , 12.84734286,  7.85708714, 15.71060434, 19.70473379,\n",
       "       14.89252963, 17.43818563,  8.12657058, 18.0926454 ,  8.99276733])"
      ]
     },
     "execution_count": 40,
     "metadata": {},
     "output_type": "execute_result"
    }
   ],
   "source": [
    "Y_pred"
   ]
  },
  {
   "cell_type": "code",
   "execution_count": 41,
   "id": "6790a6a3",
   "metadata": {},
   "outputs": [
    {
     "data": {
      "text/plain": [
       "58     23.8\n",
       "40     16.6\n",
       "34      9.5\n",
       "102    14.8\n",
       "184    17.6\n",
       "198    25.5\n",
       "95     16.9\n",
       "4      12.9\n",
       "29     10.5\n",
       "168    17.1\n",
       "Name: sales, dtype: float64"
      ]
     },
     "execution_count": 41,
     "metadata": {},
     "output_type": "execute_result"
    }
   ],
   "source": [
    "Y_test.head(10)"
   ]
  },
  {
   "cell_type": "code",
   "execution_count": 42,
   "id": "f56b146a",
   "metadata": {},
   "outputs": [
    {
     "data": {
      "text/html": [
       "<div>\n",
       "<style scoped>\n",
       "    .dataframe tbody tr th:only-of-type {\n",
       "        vertical-align: middle;\n",
       "    }\n",
       "\n",
       "    .dataframe tbody tr th {\n",
       "        vertical-align: top;\n",
       "    }\n",
       "\n",
       "    .dataframe thead th {\n",
       "        text-align: right;\n",
       "    }\n",
       "</style>\n",
       "<table border=\"1\" class=\"dataframe\">\n",
       "  <thead>\n",
       "    <tr style=\"text-align: right;\">\n",
       "      <th></th>\n",
       "      <th>Y_test</th>\n",
       "      <th>Y_pred</th>\n",
       "      <th>X_test</th>\n",
       "    </tr>\n",
       "  </thead>\n",
       "  <tbody>\n",
       "    <tr>\n",
       "      <th>58</th>\n",
       "      <td>23.8</td>\n",
       "      <td>17.067646</td>\n",
       "      <td>210.8</td>\n",
       "    </tr>\n",
       "    <tr>\n",
       "      <th>40</th>\n",
       "      <td>16.6</td>\n",
       "      <td>16.668233</td>\n",
       "      <td>202.5</td>\n",
       "    </tr>\n",
       "    <tr>\n",
       "      <th>34</th>\n",
       "      <td>9.5</td>\n",
       "      <td>11.528799</td>\n",
       "      <td>95.7</td>\n",
       "    </tr>\n",
       "    <tr>\n",
       "      <th>102</th>\n",
       "      <td>14.8</td>\n",
       "      <td>20.407316</td>\n",
       "      <td>280.2</td>\n",
       "    </tr>\n",
       "    <tr>\n",
       "      <th>184</th>\n",
       "      <td>17.6</td>\n",
       "      <td>19.136894</td>\n",
       "      <td>253.8</td>\n",
       "    </tr>\n",
       "    <tr>\n",
       "      <th>198</th>\n",
       "      <td>25.5</td>\n",
       "      <td>20.570931</td>\n",
       "      <td>283.6</td>\n",
       "    </tr>\n",
       "    <tr>\n",
       "      <th>95</th>\n",
       "      <td>16.9</td>\n",
       "      <td>14.781849</td>\n",
       "      <td>163.3</td>\n",
       "    </tr>\n",
       "    <tr>\n",
       "      <th>4</th>\n",
       "      <td>12.9</td>\n",
       "      <td>15.623985</td>\n",
       "      <td>180.8</td>\n",
       "    </tr>\n",
       "    <tr>\n",
       "      <th>29</th>\n",
       "      <td>10.5</td>\n",
       "      <td>10.320936</td>\n",
       "      <td>70.6</td>\n",
       "    </tr>\n",
       "    <tr>\n",
       "      <th>168</th>\n",
       "      <td>17.1</td>\n",
       "      <td>17.289007</td>\n",
       "      <td>215.4</td>\n",
       "    </tr>\n",
       "    <tr>\n",
       "      <th>171</th>\n",
       "      <td>14.5</td>\n",
       "      <td>14.839595</td>\n",
       "      <td>164.5</td>\n",
       "    </tr>\n",
       "    <tr>\n",
       "      <th>18</th>\n",
       "      <td>11.3</td>\n",
       "      <td>10.253565</td>\n",
       "      <td>69.2</td>\n",
       "    </tr>\n",
       "    <tr>\n",
       "      <th>11</th>\n",
       "      <td>17.4</td>\n",
       "      <td>17.255322</td>\n",
       "      <td>214.7</td>\n",
       "    </tr>\n",
       "    <tr>\n",
       "      <th>89</th>\n",
       "      <td>16.7</td>\n",
       "      <td>12.207320</td>\n",
       "      <td>109.8</td>\n",
       "    </tr>\n",
       "    <tr>\n",
       "      <th>110</th>\n",
       "      <td>13.4</td>\n",
       "      <td>17.789477</td>\n",
       "      <td>225.8</td>\n",
       "    </tr>\n",
       "    <tr>\n",
       "      <th>118</th>\n",
       "      <td>15.9</td>\n",
       "      <td>12.972460</td>\n",
       "      <td>125.7</td>\n",
       "    </tr>\n",
       "    <tr>\n",
       "      <th>159</th>\n",
       "      <td>12.9</td>\n",
       "      <td>13.261192</td>\n",
       "      <td>131.7</td>\n",
       "    </tr>\n",
       "    <tr>\n",
       "      <th>35</th>\n",
       "      <td>12.8</td>\n",
       "      <td>20.912597</td>\n",
       "      <td>290.7</td>\n",
       "    </tr>\n",
       "    <tr>\n",
       "      <th>136</th>\n",
       "      <td>9.5</td>\n",
       "      <td>8.155444</td>\n",
       "      <td>25.6</td>\n",
       "    </tr>\n",
       "    <tr>\n",
       "      <th>59</th>\n",
       "      <td>18.4</td>\n",
       "      <td>17.062834</td>\n",
       "      <td>210.7</td>\n",
       "    </tr>\n",
       "    <tr>\n",
       "      <th>51</th>\n",
       "      <td>10.7</td>\n",
       "      <td>11.754973</td>\n",
       "      <td>100.4</td>\n",
       "    </tr>\n",
       "    <tr>\n",
       "      <th>16</th>\n",
       "      <td>12.5</td>\n",
       "      <td>10.186194</td>\n",
       "      <td>67.8</td>\n",
       "    </tr>\n",
       "    <tr>\n",
       "      <th>44</th>\n",
       "      <td>8.5</td>\n",
       "      <td>8.131383</td>\n",
       "      <td>25.1</td>\n",
       "    </tr>\n",
       "    <tr>\n",
       "      <th>94</th>\n",
       "      <td>11.5</td>\n",
       "      <td>12.091827</td>\n",
       "      <td>107.4</td>\n",
       "    </tr>\n",
       "    <tr>\n",
       "      <th>31</th>\n",
       "      <td>11.9</td>\n",
       "      <td>12.356498</td>\n",
       "      <td>112.9</td>\n",
       "    </tr>\n",
       "    <tr>\n",
       "      <th>162</th>\n",
       "      <td>14.9</td>\n",
       "      <td>15.989712</td>\n",
       "      <td>188.4</td>\n",
       "    </tr>\n",
       "    <tr>\n",
       "      <th>38</th>\n",
       "      <td>10.1</td>\n",
       "      <td>8.997580</td>\n",
       "      <td>43.1</td>\n",
       "    </tr>\n",
       "    <tr>\n",
       "      <th>28</th>\n",
       "      <td>18.9</td>\n",
       "      <td>18.896283</td>\n",
       "      <td>248.8</td>\n",
       "    </tr>\n",
       "    <tr>\n",
       "      <th>193</th>\n",
       "      <td>19.6</td>\n",
       "      <td>14.950276</td>\n",
       "      <td>166.8</td>\n",
       "    </tr>\n",
       "    <tr>\n",
       "      <th>27</th>\n",
       "      <td>15.9</td>\n",
       "      <td>18.477622</td>\n",
       "      <td>240.1</td>\n",
       "    </tr>\n",
       "    <tr>\n",
       "      <th>47</th>\n",
       "      <td>23.2</td>\n",
       "      <td>18.467997</td>\n",
       "      <td>239.9</td>\n",
       "    </tr>\n",
       "    <tr>\n",
       "      <th>165</th>\n",
       "      <td>11.9</td>\n",
       "      <td>18.208138</td>\n",
       "      <td>234.5</td>\n",
       "    </tr>\n",
       "    <tr>\n",
       "      <th>194</th>\n",
       "      <td>17.3</td>\n",
       "      <td>14.127389</td>\n",
       "      <td>149.7</td>\n",
       "    </tr>\n",
       "    <tr>\n",
       "      <th>177</th>\n",
       "      <td>11.7</td>\n",
       "      <td>15.113891</td>\n",
       "      <td>170.2</td>\n",
       "    </tr>\n",
       "    <tr>\n",
       "      <th>176</th>\n",
       "      <td>20.2</td>\n",
       "      <td>18.877035</td>\n",
       "      <td>248.4</td>\n",
       "    </tr>\n",
       "    <tr>\n",
       "      <th>97</th>\n",
       "      <td>15.5</td>\n",
       "      <td>15.821285</td>\n",
       "      <td>184.9</td>\n",
       "    </tr>\n",
       "    <tr>\n",
       "      <th>174</th>\n",
       "      <td>11.5</td>\n",
       "      <td>17.625862</td>\n",
       "      <td>222.4</td>\n",
       "    </tr>\n",
       "    <tr>\n",
       "      <th>73</th>\n",
       "      <td>11.0</td>\n",
       "      <td>13.150512</td>\n",
       "      <td>129.4</td>\n",
       "    </tr>\n",
       "    <tr>\n",
       "      <th>69</th>\n",
       "      <td>22.3</td>\n",
       "      <td>17.356378</td>\n",
       "      <td>216.8</td>\n",
       "    </tr>\n",
       "    <tr>\n",
       "      <th>172</th>\n",
       "      <td>7.6</td>\n",
       "      <td>7.866712</td>\n",
       "      <td>19.6</td>\n",
       "    </tr>\n",
       "    <tr>\n",
       "      <th>108</th>\n",
       "      <td>5.3</td>\n",
       "      <td>7.553918</td>\n",
       "      <td>13.1</td>\n",
       "    </tr>\n",
       "    <tr>\n",
       "      <th>107</th>\n",
       "      <td>8.7</td>\n",
       "      <td>11.273752</td>\n",
       "      <td>90.4</td>\n",
       "    </tr>\n",
       "    <tr>\n",
       "      <th>189</th>\n",
       "      <td>6.7</td>\n",
       "      <td>7.823402</td>\n",
       "      <td>18.7</td>\n",
       "    </tr>\n",
       "    <tr>\n",
       "      <th>14</th>\n",
       "      <td>19.0</td>\n",
       "      <td>16.745228</td>\n",
       "      <td>204.1</td>\n",
       "    </tr>\n",
       "    <tr>\n",
       "      <th>56</th>\n",
       "      <td>5.5</td>\n",
       "      <td>7.274810</td>\n",
       "      <td>7.3</td>\n",
       "    </tr>\n",
       "    <tr>\n",
       "      <th>19</th>\n",
       "      <td>14.6</td>\n",
       "      <td>14.011896</td>\n",
       "      <td>147.3</td>\n",
       "    </tr>\n",
       "    <tr>\n",
       "      <th>114</th>\n",
       "      <td>14.6</td>\n",
       "      <td>10.686663</td>\n",
       "      <td>78.2</td>\n",
       "    </tr>\n",
       "    <tr>\n",
       "      <th>39</th>\n",
       "      <td>21.5</td>\n",
       "      <td>17.895345</td>\n",
       "      <td>228.0</td>\n",
       "    </tr>\n",
       "    <tr>\n",
       "      <th>185</th>\n",
       "      <td>22.6</td>\n",
       "      <td>16.788538</td>\n",
       "      <td>205.0</td>\n",
       "    </tr>\n",
       "    <tr>\n",
       "      <th>124</th>\n",
       "      <td>19.7</td>\n",
       "      <td>17.967528</td>\n",
       "      <td>229.5</td>\n",
       "    </tr>\n",
       "    <tr>\n",
       "      <th>98</th>\n",
       "      <td>25.4</td>\n",
       "      <td>20.864475</td>\n",
       "      <td>289.7</td>\n",
       "    </tr>\n",
       "    <tr>\n",
       "      <th>123</th>\n",
       "      <td>15.2</td>\n",
       "      <td>12.847343</td>\n",
       "      <td>123.1</td>\n",
       "    </tr>\n",
       "    <tr>\n",
       "      <th>119</th>\n",
       "      <td>6.6</td>\n",
       "      <td>7.857087</td>\n",
       "      <td>19.4</td>\n",
       "    </tr>\n",
       "    <tr>\n",
       "      <th>53</th>\n",
       "      <td>21.2</td>\n",
       "      <td>15.710604</td>\n",
       "      <td>182.6</td>\n",
       "    </tr>\n",
       "    <tr>\n",
       "      <th>33</th>\n",
       "      <td>17.4</td>\n",
       "      <td>19.704734</td>\n",
       "      <td>265.6</td>\n",
       "    </tr>\n",
       "    <tr>\n",
       "      <th>179</th>\n",
       "      <td>12.6</td>\n",
       "      <td>14.892530</td>\n",
       "      <td>165.6</td>\n",
       "    </tr>\n",
       "    <tr>\n",
       "      <th>181</th>\n",
       "      <td>12.2</td>\n",
       "      <td>17.438186</td>\n",
       "      <td>218.5</td>\n",
       "    </tr>\n",
       "    <tr>\n",
       "      <th>106</th>\n",
       "      <td>7.2</td>\n",
       "      <td>8.126571</td>\n",
       "      <td>25.0</td>\n",
       "    </tr>\n",
       "    <tr>\n",
       "      <th>199</th>\n",
       "      <td>13.4</td>\n",
       "      <td>18.092645</td>\n",
       "      <td>232.1</td>\n",
       "    </tr>\n",
       "    <tr>\n",
       "      <th>138</th>\n",
       "      <td>9.6</td>\n",
       "      <td>8.992767</td>\n",
       "      <td>43.0</td>\n",
       "    </tr>\n",
       "  </tbody>\n",
       "</table>\n",
       "</div>"
      ],
      "text/plain": [
       "     Y_test     Y_pred  X_test\n",
       "58     23.8  17.067646   210.8\n",
       "40     16.6  16.668233   202.5\n",
       "34      9.5  11.528799    95.7\n",
       "102    14.8  20.407316   280.2\n",
       "184    17.6  19.136894   253.8\n",
       "198    25.5  20.570931   283.6\n",
       "95     16.9  14.781849   163.3\n",
       "4      12.9  15.623985   180.8\n",
       "29     10.5  10.320936    70.6\n",
       "168    17.1  17.289007   215.4\n",
       "171    14.5  14.839595   164.5\n",
       "18     11.3  10.253565    69.2\n",
       "11     17.4  17.255322   214.7\n",
       "89     16.7  12.207320   109.8\n",
       "110    13.4  17.789477   225.8\n",
       "118    15.9  12.972460   125.7\n",
       "159    12.9  13.261192   131.7\n",
       "35     12.8  20.912597   290.7\n",
       "136     9.5   8.155444    25.6\n",
       "59     18.4  17.062834   210.7\n",
       "51     10.7  11.754973   100.4\n",
       "16     12.5  10.186194    67.8\n",
       "44      8.5   8.131383    25.1\n",
       "94     11.5  12.091827   107.4\n",
       "31     11.9  12.356498   112.9\n",
       "162    14.9  15.989712   188.4\n",
       "38     10.1   8.997580    43.1\n",
       "28     18.9  18.896283   248.8\n",
       "193    19.6  14.950276   166.8\n",
       "27     15.9  18.477622   240.1\n",
       "47     23.2  18.467997   239.9\n",
       "165    11.9  18.208138   234.5\n",
       "194    17.3  14.127389   149.7\n",
       "177    11.7  15.113891   170.2\n",
       "176    20.2  18.877035   248.4\n",
       "97     15.5  15.821285   184.9\n",
       "174    11.5  17.625862   222.4\n",
       "73     11.0  13.150512   129.4\n",
       "69     22.3  17.356378   216.8\n",
       "172     7.6   7.866712    19.6\n",
       "108     5.3   7.553918    13.1\n",
       "107     8.7  11.273752    90.4\n",
       "189     6.7   7.823402    18.7\n",
       "14     19.0  16.745228   204.1\n",
       "56      5.5   7.274810     7.3\n",
       "19     14.6  14.011896   147.3\n",
       "114    14.6  10.686663    78.2\n",
       "39     21.5  17.895345   228.0\n",
       "185    22.6  16.788538   205.0\n",
       "124    19.7  17.967528   229.5\n",
       "98     25.4  20.864475   289.7\n",
       "123    15.2  12.847343   123.1\n",
       "119     6.6   7.857087    19.4\n",
       "53     21.2  15.710604   182.6\n",
       "33     17.4  19.704734   265.6\n",
       "179    12.6  14.892530   165.6\n",
       "181    12.2  17.438186   218.5\n",
       "106     7.2   8.126571    25.0\n",
       "199    13.4  18.092645   232.1\n",
       "138     9.6   8.992767    43.0"
      ]
     },
     "execution_count": 42,
     "metadata": {},
     "output_type": "execute_result"
    }
   ],
   "source": [
    "#creading a DataFrame to see both recod simaltainously which will hold y_test,y_predict,x_test\n",
    "dic={\"Y_test\": Y_test,\"Y_pred\":Y_pred}\n",
    "#print(dic)\n",
    "#creating dataframe\n",
    "df_result=pd.DataFrame(dic)\n",
    "#to add X_test in dataframe\n",
    "df_result[\"X_test\"]=X_test #x_test is a 2d input hence cannot add with 1d output arry in dataframe hence first created dic \n",
    "#of 1d and made it 2d and then  added 2d X_test value\n",
    "df_result"
   ]
  },
  {
   "cell_type": "code",
   "execution_count": 43,
   "id": "31756b76",
   "metadata": {},
   "outputs": [
    {
     "data": {
      "image/png": "[encoded data removed]",
      "text/plain": [
       "<Figure size 432x288 with 1 Axes>"
      ]
     },
     "metadata": {
      "needs_background": "light"
     },
     "output_type": "display_data"
    }
   ],
   "source": [
    "#visualize\n",
    "sns.scatterplot(df[\"TV\"],df[\"sales\"])\n",
    "plt.plot(X_test,Y_pred,c=\"red\") #line always 30% testing data\n",
    "plt.show()"
   ]
  },
  {
   "cell_type": "code",
   "execution_count": 44,
   "id": "990986f5",
   "metadata": {},
   "outputs": [
    {
     "name": "stdout",
     "output_type": "stream",
     "text": [
      "Mean Squared Error for TV vs Sales =  10.571057434656955\n"
     ]
    }
   ],
   "source": [
    "#Evaluation of Model\n",
    "from sklearn.metrics import mean_squared_error\n",
    "e1=mean_squared_error(Y_test,Y_pred)\n",
    "print(\"Mean Squared Error for TV vs Sales = \",e1)"
   ]
  },
  {
   "cell_type": "markdown",
   "id": "bb882a3c",
   "metadata": {},
   "source": [
    "# Root Mean Squared Error"
   ]
  },
  {
   "cell_type": "code",
   "execution_count": 45,
   "id": "e3530881",
   "metadata": {},
   "outputs": [
    {
     "name": "stdout",
     "output_type": "stream",
     "text": [
      " Root Mean Squared Error for TV vs Sales =  3.251316261863333\n"
     ]
    }
   ],
   "source": [
    "RMSE=np.sqrt(e1)\n",
    "print(\" Root Mean Squared Error for TV vs Sales = \",RMSE)"
   ]
  },
  {
   "cell_type": "code",
   "execution_count": 46,
   "id": "245a3a2e",
   "metadata": {},
   "outputs": [
    {
     "data": {
      "text/plain": [
       "0.575061860494331"
      ]
     },
     "execution_count": 46,
     "metadata": {},
     "output_type": "execute_result"
    }
   ],
   "source": [
    "#Evalution of model : find r2-score means r-squared (0-1)\n",
    "#r2-score : check model is best perform or not\n",
    "#r2_score inbuilt class which define in sklearn.metrics\n",
    "from sklearn.metrics import r2_score\n",
    "r2_score(Y_test,Y_pred)#just fine means ok nod good not bad"
   ]
  },
  {
   "cell_type": "code",
   "execution_count": 47,
   "id": "042da266",
   "metadata": {},
   "outputs": [],
   "source": [
    "#Performing the modeling With the help of Simple Linear Regression \n",
    "#Modeling With input radio and target sales\n",
    "#Step 1: First input means X and output Y(target)\n",
    "X=df[[\"radio\"]] #always input 2D [[]]\n",
    "Y=df[\"sales\"] #always output means target 1D"
   ]
  },
  {
   "cell_type": "code",
   "execution_count": 48,
   "id": "2b13651d",
   "metadata": {},
   "outputs": [],
   "source": [
    "#creating object of train_test+_split class\n",
    "X_train,X_test,Y_train,Y_test=train_test_split(X,Y,test_size=0.3,random_state=1)"
   ]
  },
  {
   "cell_type": "code",
   "execution_count": 49,
   "id": "282fcf3f",
   "metadata": {},
   "outputs": [],
   "source": [
    "#creating object of linearRegresssion\n",
    "lr1=LinearRegression()#creating object of train_test+_split class\n",
    "X_train,X_test,Y_train,Y_test=train_test_split(X,Y,test_size=0.3,random_state=1)"
   ]
  },
  {
   "cell_type": "code",
   "execution_count": 50,
   "id": "5cab92e5",
   "metadata": {},
   "outputs": [
    {
     "data": {
      "text/plain": [
       "LinearRegression()"
      ]
     },
     "execution_count": 50,
     "metadata": {},
     "output_type": "execute_result"
    }
   ],
   "source": [
    "#train model with 70% of data use fit() method of LinearRegression\n",
    "lr1.fit(X_train,Y_train)\n"
   ]
  },
  {
   "cell_type": "code",
   "execution_count": 51,
   "id": "c7b8453f",
   "metadata": {},
   "outputs": [],
   "source": [
    "#test model with 30%data\n",
    "Y_pred=lr1.predict(X_test)"
   ]
  },
  {
   "cell_type": "code",
   "execution_count": 52,
   "id": "6201e3ce",
   "metadata": {},
   "outputs": [
    {
     "data": {
      "image/png": "[encoded data removed]",
      "text/plain": [
       "<Figure size 432x288 with 1 Axes>"
      ]
     },
     "metadata": {
      "needs_background": "light"
     },
     "output_type": "display_data"
    }
   ],
   "source": [
    "#visualise\n",
    "sns.scatterplot(df[\"radio\"],df[\"sales\"])\n",
    "plt.plot(X_test,Y_pred,c=\"red\")\n",
    "plt.show()"
   ]
  },
  {
   "cell_type": "code",
   "execution_count": 53,
   "id": "f0d55c69",
   "metadata": {},
   "outputs": [
    {
     "name": "stdout",
     "output_type": "stream",
     "text": [
      "Mean Squared Error for radio vs Sales =  14.604130559272193\n"
     ]
    }
   ],
   "source": [
    "#mean squared error\n",
    "e2=mean_squared_error(Y_test,Y_pred)\n",
    "print(\"Mean Squared Error for radio vs Sales = \",e2)"
   ]
  },
  {
   "cell_type": "code",
   "execution_count": 54,
   "id": "85d25ee8",
   "metadata": {},
   "outputs": [
    {
     "name": "stdout",
     "output_type": "stream",
     "text": [
      " Root Mean Squared Error for radio vs Sales =  3.8215351050686674\n"
     ]
    }
   ],
   "source": [
    "RMSE1=np.sqrt(e2)\n",
    "print(\" Root Mean Squared Error for radio vs Sales = \",RMSE1)"
   ]
  },
  {
   "cell_type": "code",
   "execution_count": 55,
   "id": "46612933",
   "metadata": {},
   "outputs": [
    {
     "data": {
      "text/plain": [
       "0.41293932917162335"
      ]
     },
     "execution_count": 55,
     "metadata": {},
     "output_type": "execute_result"
    }
   ],
   "source": [
    "#R2_Score\n",
    "r2_score(Y_test,Y_pred)"
   ]
  },
  {
   "cell_type": "code",
   "execution_count": 56,
   "id": "df491459",
   "metadata": {},
   "outputs": [
    {
     "name": "stdout",
     "output_type": "stream",
     "text": [
      "Slope :  [0.1874808]\n",
      "Intecept :  9.440936561425884\n"
     ]
    }
   ],
   "source": [
    "#checking slope/gradient/coefficient and intercept then use\n",
    "m=lr1.coef_\n",
    "print(\"Slope : \",m)\n",
    "c=lr1.intercept_\n",
    "print(\"Intecept : \",c)\n",
    "#coef_ and intercept_ both are inbuilt method of LinearRegression class"
   ]
  },
  {
   "cell_type": "code",
   "execution_count": 57,
   "id": "fce3bf20",
   "metadata": {},
   "outputs": [],
   "source": [
    "#Performing the modeling With the help of Simple Linear Regression \n",
    "#Modeling With input radio and target sales\n",
    "#Step 1: First input means X and output Y(target)\n",
    "X=df[[\"newspaper\"]] #always input 2D [[]]\n",
    "Y=df[\"sales\"] #always output means target 1D"
   ]
  },
  {
   "cell_type": "code",
   "execution_count": 58,
   "id": "a3b4fcb9",
   "metadata": {},
   "outputs": [],
   "source": [
    "#creating object of train_test+_split class\n",
    "X_train,X_test,Y_train,Y_test=train_test_split(X,Y,test_size=0.3,random_state=1)"
   ]
  },
  {
   "cell_type": "code",
   "execution_count": 59,
   "id": "21246556",
   "metadata": {},
   "outputs": [],
   "source": [
    "#creating object of linearRegresssion\n",
    "lr2=LinearRegression()"
   ]
  },
  {
   "cell_type": "code",
   "execution_count": 60,
   "id": "c8f991b6",
   "metadata": {},
   "outputs": [
    {
     "data": {
      "text/plain": [
       "LinearRegression()"
      ]
     },
     "execution_count": 60,
     "metadata": {},
     "output_type": "execute_result"
    }
   ],
   "source": [
    "#train model with 70% of data use fit() method of LinearRegression\n",
    "lr2.fit(X_train,Y_train)\n"
   ]
  },
  {
   "cell_type": "code",
   "execution_count": 61,
   "id": "bdc74e69",
   "metadata": {},
   "outputs": [],
   "source": [
    "#test model with 30%data\n",
    "Y_pred=lr2.predict(X_test)"
   ]
  },
  {
   "cell_type": "code",
   "execution_count": 62,
   "id": "8f6df22f",
   "metadata": {},
   "outputs": [
    {
     "data": {
      "image/png": "[encoded data removed]",
      "text/plain": [
       "<Figure size 432x288 with 1 Axes>"
      ]
     },
     "metadata": {
      "needs_background": "light"
     },
     "output_type": "display_data"
    }
   ],
   "source": [
    "#visualise\n",
    "sns.scatterplot(df[\"newspaper\"],df[\"sales\"])\n",
    "plt.plot(X_test,Y_pred,c=\"red\")\n",
    "plt.show()"
   ]
  },
  {
   "cell_type": "code",
   "execution_count": 63,
   "id": "0d283c32",
   "metadata": {},
   "outputs": [
    {
     "name": "stdout",
     "output_type": "stream",
     "text": [
      "Mean Squared Error for newspaper vs Sales =  25.49745237441493\n"
     ]
    }
   ],
   "source": [
    "#mean squared error\n",
    "e3=mean_squared_error(Y_test,Y_pred)\n",
    "print(\"Mean Squared Error for newspaper vs Sales = \",e3)"
   ]
  },
  {
   "cell_type": "code",
   "execution_count": 64,
   "id": "9118d436",
   "metadata": {},
   "outputs": [
    {
     "name": "stdout",
     "output_type": "stream",
     "text": [
      " Root Mean Squared Error for radio vs Sales =  5.049500210358935\n"
     ]
    }
   ],
   "source": [
    "RMSE2=np.sqrt(e3)\n",
    "print(\" Root Mean Squared Error for radio vs Sales = \",RMSE2)"
   ]
  },
  {
   "cell_type": "code",
   "execution_count": 65,
   "id": "27f21452",
   "metadata": {},
   "outputs": [
    {
     "data": {
      "text/plain": [
       "-0.024953278429509007"
      ]
     },
     "execution_count": 65,
     "metadata": {},
     "output_type": "execute_result"
    }
   ],
   "source": [
    "#R2_Score\n",
    "r2_score(Y_test,Y_pred)"
   ]
  },
  {
   "cell_type": "code",
   "execution_count": 66,
   "id": "20d0dded",
   "metadata": {},
   "outputs": [
    {
     "name": "stdout",
     "output_type": "stream",
     "text": [
      "Slope :  [0.06532045]\n",
      "Intecept :  11.82966888487788\n"
     ]
    }
   ],
   "source": [
    "#checking slope/gradient/coefficient and intercept then use\n",
    "m=lr2.coef_\n",
    "print(\"Slope : \",m)\n",
    "c=lr2.intercept_\n",
    "print(\"Intecept : \",c)\n",
    "#coef_ and intercept_ both are inbuilt method of LinearRegression class"
   ]
  },
  {
   "cell_type": "code",
   "execution_count": 67,
   "id": "1127c00d",
   "metadata": {},
   "outputs": [
    {
     "data": {
      "text/plain": [
       "' \\nslope of TV : 0.04812204  and MSE of TV  :  10.571057434656955 r2-score=0.578\\nslope of radio :0.1874808 and MSE of radio : 14.604130559272193 r2-score=0.41\\nslope of newspaper : 0.06532045 and MSE of newspaper :25.49745237441493 r2=-0.02\\n'"
      ]
     },
     "execution_count": 67,
     "metadata": {},
     "output_type": "execute_result"
    }
   ],
   "source": [
    "''' \n",
    "slope of TV : 0.04812204  and MSE of TV  :  10.571057434656955 r2-score=0.578\n",
    "slope of radio :0.1874808 and MSE of radio : 14.604130559272193 r2-score=0.41\n",
    "slope of newspaper : 0.06532045 and MSE of newspaper :25.49745237441493 r2=-0.02\n",
    "'''"
   ]
  },
  {
   "cell_type": "code",
   "execution_count": 68,
   "id": "03b181d5",
   "metadata": {},
   "outputs": [],
   "source": [
    "#multiple linear regression means many input but output only one \n",
    "#Equation of MLR  :   Y_pred=m1X1+m2X2+m3X3+......+mnXn+b\n",
    "#select input and output from dataset : df\n",
    "X=df[[\"TV\",\"radio\",\"newspaper\"]]#Input 2D\n",
    "Y=df[\"sales\"]#output 1D"
   ]
  },
  {
   "cell_type": "code",
   "execution_count": 69,
   "id": "07e295f1",
   "metadata": {},
   "outputs": [],
   "source": [
    "#creating object of train_test+_split class\n",
    "X_train,X_test,Y_train,Y_test=train_test_split(X,Y,test_size=0.3,random_state=1)"
   ]
  },
  {
   "cell_type": "code",
   "execution_count": 70,
   "id": "82e8ecf4",
   "metadata": {},
   "outputs": [
    {
     "data": {
      "text/html": [
       "<div>\n",
       "<style scoped>\n",
       "    .dataframe tbody tr th:only-of-type {\n",
       "        vertical-align: middle;\n",
       "    }\n",
       "\n",
       "    .dataframe tbody tr th {\n",
       "        vertical-align: top;\n",
       "    }\n",
       "\n",
       "    .dataframe thead th {\n",
       "        text-align: right;\n",
       "    }\n",
       "</style>\n",
       "<table border=\"1\" class=\"dataframe\">\n",
       "  <thead>\n",
       "    <tr style=\"text-align: right;\">\n",
       "      <th></th>\n",
       "      <th>TV</th>\n",
       "      <th>radio</th>\n",
       "      <th>newspaper</th>\n",
       "    </tr>\n",
       "  </thead>\n",
       "  <tbody>\n",
       "    <tr>\n",
       "      <th>116</th>\n",
       "      <td>139.2</td>\n",
       "      <td>14.3</td>\n",
       "      <td>25.6</td>\n",
       "    </tr>\n",
       "    <tr>\n",
       "      <th>67</th>\n",
       "      <td>139.3</td>\n",
       "      <td>14.5</td>\n",
       "      <td>10.2</td>\n",
       "    </tr>\n",
       "    <tr>\n",
       "      <th>78</th>\n",
       "      <td>5.4</td>\n",
       "      <td>29.9</td>\n",
       "      <td>9.4</td>\n",
       "    </tr>\n",
       "    <tr>\n",
       "      <th>42</th>\n",
       "      <td>293.6</td>\n",
       "      <td>27.7</td>\n",
       "      <td>1.8</td>\n",
       "    </tr>\n",
       "    <tr>\n",
       "      <th>17</th>\n",
       "      <td>281.4</td>\n",
       "      <td>39.6</td>\n",
       "      <td>55.8</td>\n",
       "    </tr>\n",
       "  </tbody>\n",
       "</table>\n",
       "</div>"
      ],
      "text/plain": [
       "        TV  radio  newspaper\n",
       "116  139.2   14.3       25.6\n",
       "67   139.3   14.5       10.2\n",
       "78     5.4   29.9        9.4\n",
       "42   293.6   27.7        1.8\n",
       "17   281.4   39.6       55.8"
      ]
     },
     "execution_count": 70,
     "metadata": {},
     "output_type": "execute_result"
    }
   ],
   "source": [
    "X_train.head()"
   ]
  },
  {
   "cell_type": "code",
   "execution_count": 71,
   "id": "10c0c9af",
   "metadata": {},
   "outputs": [],
   "source": [
    "#creating object of linearRegresssion\n",
    "lr=LinearRegression()"
   ]
  },
  {
   "cell_type": "code",
   "execution_count": 72,
   "id": "f4592e8c",
   "metadata": {},
   "outputs": [
    {
     "data": {
      "text/plain": [
       "LinearRegression()"
      ]
     },
     "execution_count": 72,
     "metadata": {},
     "output_type": "execute_result"
    }
   ],
   "source": [
    "lr.fit(X_train,Y_train)\n",
    "#train model uising fit()"
   ]
  },
  {
   "cell_type": "code",
   "execution_count": 73,
   "id": "e640f587",
   "metadata": {},
   "outputs": [
    {
     "name": "stdout",
     "output_type": "stream",
     "text": [
      "Slope :  [0.04695205 0.17658644 0.00185115]\n",
      "Intecept :  2.937215734690609\n"
     ]
    }
   ],
   "source": [
    "#checking slope/gradient/coefficient and intercept then use\n",
    "m=lr.coef_\n",
    "print(\"Slope : \",m)\n",
    "c=lr.intercept_\n",
    "print(\"Intecept : \",c)\n",
    "#coef_ and intercept_ both are inbuilt method of LinearRegression class"
   ]
  },
  {
   "cell_type": "code",
   "execution_count": 74,
   "id": "c6be7b22",
   "metadata": {},
   "outputs": [
    {
     "data": {
      "text/html": [
       "<div>\n",
       "<style scoped>\n",
       "    .dataframe tbody tr th:only-of-type {\n",
       "        vertical-align: middle;\n",
       "    }\n",
       "\n",
       "    .dataframe tbody tr th {\n",
       "        vertical-align: top;\n",
       "    }\n",
       "\n",
       "    .dataframe thead th {\n",
       "        text-align: right;\n",
       "    }\n",
       "</style>\n",
       "<table border=\"1\" class=\"dataframe\">\n",
       "  <thead>\n",
       "    <tr style=\"text-align: right;\">\n",
       "      <th></th>\n",
       "      <th>TV</th>\n",
       "      <th>radio</th>\n",
       "      <th>newspaper</th>\n",
       "    </tr>\n",
       "  </thead>\n",
       "  <tbody>\n",
       "    <tr>\n",
       "      <th>58</th>\n",
       "      <td>210.8</td>\n",
       "      <td>49.6</td>\n",
       "      <td>37.7</td>\n",
       "    </tr>\n",
       "    <tr>\n",
       "      <th>40</th>\n",
       "      <td>202.5</td>\n",
       "      <td>22.3</td>\n",
       "      <td>31.6</td>\n",
       "    </tr>\n",
       "    <tr>\n",
       "      <th>34</th>\n",
       "      <td>95.7</td>\n",
       "      <td>1.4</td>\n",
       "      <td>7.4</td>\n",
       "    </tr>\n",
       "    <tr>\n",
       "      <th>102</th>\n",
       "      <td>280.2</td>\n",
       "      <td>10.1</td>\n",
       "      <td>21.4</td>\n",
       "    </tr>\n",
       "    <tr>\n",
       "      <th>184</th>\n",
       "      <td>253.8</td>\n",
       "      <td>21.3</td>\n",
       "      <td>30.0</td>\n",
       "    </tr>\n",
       "  </tbody>\n",
       "</table>\n",
       "</div>"
      ],
      "text/plain": [
       "        TV  radio  newspaper\n",
       "58   210.8   49.6       37.7\n",
       "40   202.5   22.3       31.6\n",
       "34    95.7    1.4        7.4\n",
       "102  280.2   10.1       21.4\n",
       "184  253.8   21.3       30.0"
      ]
     },
     "execution_count": 74,
     "metadata": {},
     "output_type": "execute_result"
    }
   ],
   "source": [
    "X_test.head()"
   ]
  },
  {
   "cell_type": "code",
   "execution_count": 75,
   "id": "fe995210",
   "metadata": {},
   "outputs": [],
   "source": [
    "#testing data with 30% data\n",
    "Y_pred=lr.predict(X_test) #Y=m1*TV+m2*radio+m3*newspaper+c"
   ]
  },
  {
   "cell_type": "code",
   "execution_count": 76,
   "id": "2268694e",
   "metadata": {},
   "outputs": [
    {
     "data": {
      "text/plain": [
       "1.928924907466573"
      ]
     },
     "execution_count": 76,
     "metadata": {},
     "output_type": "execute_result"
    }
   ],
   "source": [
    "#mean squared error\n",
    "mean_squared_error(Y_test,Y_pred)"
   ]
  },
  {
   "cell_type": "code",
   "execution_count": 77,
   "id": "204ac322",
   "metadata": {},
   "outputs": [
    {
     "data": {
      "text/plain": [
       "0.9224605706201434"
      ]
     },
     "execution_count": 77,
     "metadata": {},
     "output_type": "execute_result"
    }
   ],
   "source": [
    "#r2_score\n",
    "r2_score(Y_test,Y_pred)"
   ]
  },
  {
   "cell_type": "code",
   "execution_count": 78,
   "id": "a28980a8",
   "metadata": {},
   "outputs": [],
   "source": [
    "#here r2-score is best because nearest to +1 and MSE is very low means we\n",
    "#create a successful model"
   ]
  },
  {
   "cell_type": "markdown",
   "id": "bc8e9ce5",
   "metadata": {},
   "source": [
    "# Assumption of Linear Regression"
   ]
  },
  {
   "cell_type": "code",
   "execution_count": 79,
   "id": "e7327746",
   "metadata": {},
   "outputs": [
    {
     "data": {
      "text/plain": [
       "'1. should not be Multicolinearity in linear regression  \\n Solve this assumption .means we removed the Multicolinearity situation\\n 2. Assumption :  Linear relationship means There should be a linear relation\\n ship. \\n when does linear regression  do best work ? \\n where got better relationship \\n \\n we cannot see 3D graph on system so we have some hack(trick) , how to \\n check input and output both are related or not\\n we calculate the residual (this is error means \\n Residual =(actual output-predicted output)\\n '"
      ]
     },
     "execution_count": 79,
     "metadata": {},
     "output_type": "execute_result"
    }
   ],
   "source": [
    "'''1. should not be Multicolinearity in linear regression  \n",
    " Solve this assumption .means we removed the Multicolinearity situation\n",
    " 2. Assumption :  Linear relationship means There should be a linear relation\n",
    " ship. \n",
    " when does linear regression  do best work ? \n",
    " where got better relationship \n",
    " \n",
    " we cannot see 3D graph on system so we have some hack(trick) , how to \n",
    " check input and output both are related or not\n",
    " we calculate the residual (this is error means \n",
    " Residual =(actual output-predicted output)\n",
    " '''"
   ]
  },
  {
   "cell_type": "code",
   "execution_count": 80,
   "id": "b8b0fea4",
   "metadata": {},
   "outputs": [
    {
     "data": {
      "text/plain": [
       "'\\n1. should not be Multicolinearity in linear regression  \\nSolve this assumption .means we removed the Multicolinearity situation\\n'"
      ]
     },
     "execution_count": 80,
     "metadata": {},
     "output_type": "execute_result"
    }
   ],
   "source": [
    "'''\n",
    "1. should not be Multicolinearity in linear regression  \n",
    "Solve this assumption .means we removed the Multicolinearity situation\n",
    "'''"
   ]
  },
  {
   "cell_type": "code",
   "execution_count": 81,
   "id": "e6db6a4c",
   "metadata": {},
   "outputs": [
    {
     "data": {
      "image/png": "[encoded data removed]",
      "text/plain": [
       "<Figure size 432x288 with 2 Axes>"
      ]
     },
     "metadata": {
      "needs_background": "light"
     },
     "output_type": "display_data"
    }
   ],
   "source": [
    "#for multicolinearity : check coorelation between input\n",
    "sns.heatmap(df.corr(),annot=True)\n",
    "plt.show()"
   ]
  },
  {
   "cell_type": "code",
   "execution_count": 82,
   "id": "6694629e",
   "metadata": {},
   "outputs": [],
   "source": [
    "#here input radio and newspaper both are corelated each other value of corr \n",
    "#between radio and newspaper =0.35 means multicolinearity situation occurs\n",
    "#so check corr of both input radio and newspapaer with o/p and remove those \n",
    "#input column whose corr value with o/p will be less \n",
    "#here newspaper is less correlated with o/p sales as compared to radio with\n",
    "#sales so remove newspaper from dataset \n",
    "#and perform TV and radio with sales"
   ]
  },
  {
   "cell_type": "code",
   "execution_count": 83,
   "id": "2aee99ea",
   "metadata": {},
   "outputs": [],
   "source": [
    "#we take input TV and radio and output as sales\n",
    "x=df[[\"TV\",\"radio\"]]\n",
    "y=df[\"sales\"]"
   ]
  },
  {
   "cell_type": "code",
   "execution_count": 84,
   "id": "660a73f5",
   "metadata": {},
   "outputs": [],
   "source": [
    "X_train,X_test,Y_train,Y_test=train_test_split(x,y,test_size=0.3,random_state=1)"
   ]
  },
  {
   "cell_type": "code",
   "execution_count": 85,
   "id": "9e0ffe2f",
   "metadata": {},
   "outputs": [
    {
     "data": {
      "text/html": [
       "<div>\n",
       "<style scoped>\n",
       "    .dataframe tbody tr th:only-of-type {\n",
       "        vertical-align: middle;\n",
       "    }\n",
       "\n",
       "    .dataframe tbody tr th {\n",
       "        vertical-align: top;\n",
       "    }\n",
       "\n",
       "    .dataframe thead th {\n",
       "        text-align: right;\n",
       "    }\n",
       "</style>\n",
       "<table border=\"1\" class=\"dataframe\">\n",
       "  <thead>\n",
       "    <tr style=\"text-align: right;\">\n",
       "      <th></th>\n",
       "      <th>TV</th>\n",
       "      <th>radio</th>\n",
       "    </tr>\n",
       "  </thead>\n",
       "  <tbody>\n",
       "    <tr>\n",
       "      <th>116</th>\n",
       "      <td>139.2</td>\n",
       "      <td>14.3</td>\n",
       "    </tr>\n",
       "    <tr>\n",
       "      <th>67</th>\n",
       "      <td>139.3</td>\n",
       "      <td>14.5</td>\n",
       "    </tr>\n",
       "    <tr>\n",
       "      <th>78</th>\n",
       "      <td>5.4</td>\n",
       "      <td>29.9</td>\n",
       "    </tr>\n",
       "    <tr>\n",
       "      <th>42</th>\n",
       "      <td>293.6</td>\n",
       "      <td>27.7</td>\n",
       "    </tr>\n",
       "    <tr>\n",
       "      <th>17</th>\n",
       "      <td>281.4</td>\n",
       "      <td>39.6</td>\n",
       "    </tr>\n",
       "  </tbody>\n",
       "</table>\n",
       "</div>"
      ],
      "text/plain": [
       "        TV  radio\n",
       "116  139.2   14.3\n",
       "67   139.3   14.5\n",
       "78     5.4   29.9\n",
       "42   293.6   27.7\n",
       "17   281.4   39.6"
      ]
     },
     "execution_count": 85,
     "metadata": {},
     "output_type": "execute_result"
    }
   ],
   "source": [
    "X_train.head()"
   ]
  },
  {
   "cell_type": "code",
   "execution_count": 86,
   "id": "a060f06e",
   "metadata": {},
   "outputs": [],
   "source": [
    "#creating object of leanear regression\n",
    "lr=LinearRegression()"
   ]
  },
  {
   "cell_type": "code",
   "execution_count": 87,
   "id": "09cbc3c4",
   "metadata": {},
   "outputs": [
    {
     "data": {
      "text/plain": [
       "LinearRegression()"
      ]
     },
     "execution_count": 87,
     "metadata": {},
     "output_type": "execute_result"
    }
   ],
   "source": [
    "#training the model\n",
    "lr.fit(X_train,Y_train)"
   ]
  },
  {
   "cell_type": "code",
   "execution_count": 88,
   "id": "16be7336",
   "metadata": {},
   "outputs": [
    {
     "name": "stdout",
     "output_type": "stream",
     "text": [
      "slope=  [0.04697554 0.17765046]\n",
      "intercept=  2.9647671191401574\n"
     ]
    }
   ],
   "source": [
    "#checking slope and intercept\n",
    "print(\"slope= \",lr.coef_)\n",
    "print(\"intercept= \",lr.intercept_)"
   ]
  },
  {
   "cell_type": "code",
   "execution_count": 89,
   "id": "11f307a8",
   "metadata": {},
   "outputs": [],
   "source": [
    "#testing the model\n",
    "Y_pred=lr.predict(X_test)"
   ]
  },
  {
   "cell_type": "code",
   "execution_count": 90,
   "id": "917c41eb",
   "metadata": {},
   "outputs": [
    {
     "data": {
      "text/plain": [
       "1.9147050289721805"
      ]
     },
     "execution_count": 90,
     "metadata": {},
     "output_type": "execute_result"
    }
   ],
   "source": [
    "#mean squared error\n",
    "mean_squared_error(Y_test,Y_pred)"
   ]
  },
  {
   "cell_type": "code",
   "execution_count": 91,
   "id": "7065da1f",
   "metadata": {},
   "outputs": [
    {
     "data": {
      "text/plain": [
       "0.92303218502568"
      ]
     },
     "execution_count": 91,
     "metadata": {},
     "output_type": "execute_result"
    }
   ],
   "source": [
    "#r2_score\n",
    "r2_score(Y_test,Y_pred)"
   ]
  },
  {
   "cell_type": "code",
   "execution_count": 92,
   "id": "31b6dafe",
   "metadata": {},
   "outputs": [],
   "source": [
    "#Solve 3rd assumption of linear regression (no Multicolinearity)"
   ]
  },
  {
   "cell_type": "code",
   "execution_count": 93,
   "id": "ac58bab3",
   "metadata": {},
   "outputs": [],
   "source": [
    "#Work on 1st and 2nd Assumption of Linear Regression \n",
    "#1. there should be a linear relationship\n",
    "#2. if occur linear relation then next check relation is homoskedatik \n",
    "#not a heteroskedastik"
   ]
  },
  {
   "cell_type": "code",
   "execution_count": 94,
   "id": "28b69e6d",
   "metadata": {},
   "outputs": [
    {
     "data": {
      "text/plain": [
       "58     2.121325\n",
       "40     0.161080\n",
       "34     1.790963\n",
       "102   -3.121584\n",
       "184   -1.071115\n",
       "198    1.751649\n",
       "95     0.650372\n",
       "4     -0.476570\n",
       "29     1.376352\n",
       "168   -0.175850\n",
       "171    0.094861\n",
       "18     1.442691\n",
       "11     0.085973\n",
       "89     0.085626\n",
       "110   -1.628579\n",
       "118    0.475105\n",
       "159    0.479785\n",
       "35    -4.548925\n",
       "136   -1.595709\n",
       "59     0.296797\n",
       "51     1.313444\n",
       "16    -0.151716\n",
       "44    -0.209470\n",
       "94     1.002953\n",
       "31     0.540576\n",
       "162   -0.130433\n",
       "38     0.367320\n",
       "28    -0.566610\n",
       "193    1.338393\n",
       "27    -1.310358\n",
       "47     1.593306\n",
       "165   -2.684544\n",
       "194    0.978638\n",
       "177   -0.645678\n",
       "176    0.201464\n",
       "97     0.118795\n",
       "174   -2.516140\n",
       "73     0.943990\n",
       "69     1.352080\n",
       "172    0.143738\n",
       "108    1.648793\n",
       "107    1.435349\n",
       "189    0.707220\n",
       "14     0.602824\n",
       "56    -2.799666\n",
       "19     0.469889\n",
       "114   -0.352296\n",
       "39     1.127387\n",
       "185    1.993211\n",
       "124    0.216236\n",
       "98     1.311803\n",
       "123    0.305838\n",
       "119   -0.118500\n",
       "53     1.450047\n",
       "33    -1.594481\n",
       "179    0.079578\n",
       "181   -1.988236\n",
       "106    1.106689\n",
       "199   -1.995585\n",
       "138    0.014138\n",
       "Name: sales, dtype: float64"
      ]
     },
     "execution_count": 94,
     "metadata": {},
     "output_type": "execute_result"
    }
   ],
   "source": [
    "#check linear relation between input and output\n",
    "#use some tricks\n",
    "#find residual\n",
    "residual=Y_test-Y_pred\n",
    "residual"
   ]
  },
  {
   "cell_type": "code",
   "execution_count": 95,
   "id": "4915aa82",
   "metadata": {},
   "outputs": [
    {
     "data": {
      "image/png": "[encoded data removed]",
      "text/plain": [
       "<Figure size 432x288 with 1 Axes>"
      ]
     },
     "metadata": {
      "needs_background": "light"
     },
     "output_type": "display_data"
    }
   ],
   "source": [
    "#Visualize scatterplot between y_pred and residual means here input=Y_pred and y(output)=residual\n",
    "#because residual deends on Y_red value\n",
    "plt.figure()\n",
    "sns.scatterplot(Y_pred,residual)\n",
    "plt.show()"
   ]
  },
  {
   "cell_type": "code",
   "execution_count": 96,
   "id": "a7b08387",
   "metadata": {},
   "outputs": [],
   "source": [
    "# in above scatterplot, This is not a linear relation between Y_pred\n",
    "# and residuel means no relation between x=[\"TV\",\"radio\"] with sales o/p\n",
    "#means this assumption is not fullfill\n",
    "\n",
    "##2. Assumption :  if occur linear relation then next check relation is \n",
    "#homoskedatik not a heteroskedastik but no found any linear relation means\n",
    "#not satify 2nd assumption\n",
    "\n",
    "#means 2nd Assumption totally depend on First Assumption"
   ]
  },
  {
   "cell_type": "code",
   "execution_count": 97,
   "id": "8d14e595",
   "metadata": {},
   "outputs": [],
   "source": [
    "#4. Assumption of linear regression : - Residual should be normally distributed\n",
    "#curve means data should be euqally divide on both sides.\n",
    "#normal distributed curve then use inbuilt function displot() of seaborn\n",
    "#library ,distplot is also known as frequency graph\n",
    "#use distplot()"
   ]
  },
  {
   "cell_type": "code",
   "execution_count": 98,
   "id": "6de423fc",
   "metadata": {},
   "outputs": [
    {
     "data": {
      "image/png": "[encoded data removed]",
      "text/plain": [
       "<Figure size 432x288 with 1 Axes>"
      ]
     },
     "metadata": {
      "needs_background": "light"
     },
     "output_type": "display_data"
    },
    {
     "data": {
      "image/png": "[encoded data removed]",
      "text/plain": [
       "<Figure size 432x288 with 1 Axes>"
      ]
     },
     "metadata": {
      "needs_background": "light"
     },
     "output_type": "display_data"
    },
    {
     "data": {
      "text/plain": [
       "-1.0935181639447333"
      ]
     },
     "execution_count": 98,
     "metadata": {},
     "output_type": "execute_result"
    }
   ],
   "source": [
    "sns.histplot(residual)\n",
    "plt.show()\n",
    "sns.distplot(residual)\n",
    "plt.show()\n",
    "#check skewness\n",
    "residual.skew()"
   ]
  },
  {
   "cell_type": "markdown",
   "id": "bbba0124",
   "metadata": {},
   "source": [
    "# Demo of PLR"
   ]
  },
  {
   "cell_type": "code",
   "execution_count": 99,
   "id": "9c1917bc",
   "metadata": {},
   "outputs": [],
   "source": [
    "#demo of PLR\n",
    "#take degree of input =1 then equation Y=mx+c means receive straight line\n",
    "#if degree of input =1 then linear equation \n",
    "#first create a user defined function\n",
    "def poly_1(X): #here X is a 1D numpy array\n",
    "    m=4 #suppose\n",
    "    c=5 #suppose\n",
    "    Y=m*X+c\n",
    "    return Y"
   ]
  },
  {
   "cell_type": "code",
   "execution_count": 100,
   "id": "4ae85cd5",
   "metadata": {},
   "outputs": [
    {
     "name": "stdout",
     "output_type": "stream",
     "text": [
      "     Ínput_X  Output_Y\n",
      "0       -100      -395\n",
      "1        -99      -391\n",
      "2        -98      -387\n",
      "3        -97      -383\n",
      "4        -96      -379\n",
      "..       ...       ...\n",
      "195       95       385\n",
      "196       96       389\n",
      "197       97       393\n",
      "198       98       397\n",
      "199       99       401\n",
      "\n",
      "[200 rows x 2 columns]\n"
     ]
    }
   ],
   "source": [
    "#main program\n",
    "#create a 1D numpy array\n",
    "X=np.arange(-100,100)  #start =-100 stop=99 step=+1\n",
    "#print(X)\n",
    "#call function \n",
    "Y=poly_1(X)\n",
    "#print(Y)\n",
    "#create dictionary\n",
    "dic={'Ínput_X':X,'Output_Y':Y}\n",
    "P=pd.DataFrame(dic)\n",
    "print(P)"
   ]
  },
  {
   "cell_type": "code",
   "execution_count": 101,
   "id": "fb58ef3e",
   "metadata": {},
   "outputs": [
    {
     "data": {
      "image/png": "[encoded data removed]",
      "text/plain": [
       "<Figure size 432x288 with 1 Axes>"
      ]
     },
     "metadata": {
      "needs_background": "light"
     },
     "output_type": "display_data"
    }
   ],
   "source": [
    "plt.plot(X,Y)\n",
    "plt.title(\"Linear polinomial\")\n",
    "plt.xlabel(\"value of X\")\n",
    "plt.ylabel(\"value of Y\")\n",
    "plt.show()"
   ]
  },
  {
   "cell_type": "code",
   "execution_count": 102,
   "id": "05590333",
   "metadata": {},
   "outputs": [],
   "source": [
    "#increasing the degree to x=2\n",
    "#then equation is a quadratic equation:= ax^2+bx=c=0\n",
    "#equation Y=m1*X^2+m2*X^1+c\n",
    "#create a user defined function for degree=2\n",
    "\n",
    "def poly_2(X):\n",
    "    m1=6\n",
    "    m2=4\n",
    "    c=5\n",
    "    y=m1*(X**2)+m2*X+c\n",
    "    return y"
   ]
  },
  {
   "cell_type": "code",
   "execution_count": 103,
   "id": "5901be62",
   "metadata": {},
   "outputs": [
    {
     "name": "stdout",
     "output_type": "stream",
     "text": [
      "     Ínput_X  Output_Y\n",
      "0       -100     59605\n",
      "1        -99     58415\n",
      "2        -98     57237\n",
      "3        -97     56071\n",
      "4        -96     54917\n",
      "..       ...       ...\n",
      "195       95     54535\n",
      "196       96     55685\n",
      "197       97     56847\n",
      "198       98     58021\n",
      "199       99     59207\n",
      "\n",
      "[200 rows x 2 columns]\n"
     ]
    }
   ],
   "source": [
    "#calling the function\n",
    "#main program\n",
    "#create a 1D numpy array\n",
    "X=np.arange(-100,100)  #start =-100 stop=99 step=+1\n",
    "#print(X)\n",
    "#call function \n",
    "Y=poly_2(X)\n",
    "#print(Y)\n",
    "#create dictionary\n",
    "dic={'Ínput_X':X,'Output_Y':Y}\n",
    "P=pd.DataFrame(dic)\n",
    "print(P)"
   ]
  },
  {
   "cell_type": "code",
   "execution_count": 104,
   "id": "90b0a9d6",
   "metadata": {},
   "outputs": [
    {
     "data": {
      "image/png": "[encoded data removed]",
      "text/plain": [
       "<Figure size 432x288 with 1 Axes>"
      ]
     },
     "metadata": {
      "needs_background": "light"
     },
     "output_type": "display_data"
    }
   ],
   "source": [
    "#visualizing\n",
    "plt.plot(X,Y)\n",
    "plt.title(\"Quadratic polinomial\")\n",
    "plt.xlabel(\"value of X\")\n",
    "plt.ylabel(\"value of Y\")\n",
    "plt.show()"
   ]
  },
  {
   "cell_type": "code",
   "execution_count": 105,
   "id": "11719479",
   "metadata": {},
   "outputs": [],
   "source": [
    "#increasing the degree of input X=3\n",
    "#then equition is a cubic equation:= ax^3+bx^2+cx^1+d=0\n",
    "#equation Y=m1*X^3+m2*X^2+m3*X+c\n",
    "#create a user defined function for degree=3\n",
    "\n",
    "def poly_3(X):\n",
    "    m1=8\n",
    "    m2=6\n",
    "    m3=4\n",
    "    c=5\n",
    "    y=m1*(X**3)+m2*(X**2)+m3*X+c\n",
    "    return y"
   ]
  },
  {
   "cell_type": "code",
   "execution_count": 106,
   "id": "ed117650",
   "metadata": {},
   "outputs": [
    {
     "name": "stdout",
     "output_type": "stream",
     "text": [
      "     Ínput_X  Output_Y\n",
      "0       -100  -7940395\n",
      "1        -99  -7703977\n",
      "2        -98  -7472299\n",
      "3        -97  -7245313\n",
      "4        -96  -7022971\n",
      "..       ...       ...\n",
      "195       95   6913535\n",
      "196       96   7133573\n",
      "197       97   7358231\n",
      "198       98   7587557\n",
      "199       99   7821599\n",
      "\n",
      "[200 rows x 2 columns]\n"
     ]
    }
   ],
   "source": [
    "#calling the function\n",
    "#main program\n",
    "#create a 1D numpy array\n",
    "X=np.arange(-100,100)  #start =-100 stop=99 step=+1\n",
    "#print(X)\n",
    "#call function \n",
    "Y=poly_3(X)\n",
    "#print(Y)\n",
    "#create dictionary\n",
    "dic={'Ínput_X':X,'Output_Y':Y}\n",
    "P=pd.DataFrame(dic)\n",
    "print(P)"
   ]
  },
  {
   "cell_type": "code",
   "execution_count": 107,
   "id": "cee142a6",
   "metadata": {},
   "outputs": [
    {
     "data": {
      "image/png": "[encoded data removed]",
      "text/plain": [
       "<Figure size 432x288 with 1 Axes>"
      ]
     },
     "metadata": {
      "needs_background": "light"
     },
     "output_type": "display_data"
    }
   ],
   "source": [
    "plt.plot(X,Y)\n",
    "plt.title(\"Cubic polinomial\")\n",
    "plt.xlabel(\"value of X\")\n",
    "plt.ylabel(\"value of Y\")\n",
    "plt.show()"
   ]
  },
  {
   "cell_type": "markdown",
   "id": "f2701b94",
   "metadata": {},
   "source": [
    "# Back to DataSet"
   ]
  },
  {
   "cell_type": "code",
   "execution_count": 108,
   "id": "f1d4f4dd",
   "metadata": {},
   "outputs": [],
   "source": [
    "#Increase degree of input of our dataset \n",
    "#Input : TV and radio means X1=TV X2=radio  and output Y=sales\n",
    "#Y=m1*(X1*2)+m2(X1*1)+m3(X2*2)+m4(X2**1)+c\n",
    "#equation Y=m1*TV*2+m2*TV+m3*radio*2+m4*radio+b\n",
    "#we work on dataset \n",
    "#apply polynomial linear regression means increase the degree of independent\n",
    "#variable X means degree=2 \n",
    "#equation : ax2+bx+c=0  here 2 inputs ax1*2+bx1+cx2*2+dx2+e\n",
    "#here we have 2 inputs : - X=TV,radio means X1=\"TV\" and X2=\"radio\"\n",
    "#eq. m1*TV*2+m2*TV1+m3*radio2+m4*radio*1+b"
   ]
  },
  {
   "cell_type": "code",
   "execution_count": 109,
   "id": "01cb6d15",
   "metadata": {},
   "outputs": [],
   "source": [
    "#select input and output\n",
    "X=df[[\"TV\",\"radio\"]] #2D \n",
    "Y=df[\"sales\"]#1D"
   ]
  },
  {
   "cell_type": "code",
   "execution_count": 110,
   "id": "cb1157db",
   "metadata": {},
   "outputs": [],
   "source": [
    "#call PolynomialFeatures inbuilt class which define in sklearn.preprocessing\n",
    "from sklearn.preprocessing import PolynomialFeatures"
   ]
  },
  {
   "cell_type": "code",
   "execution_count": 111,
   "id": "a5fbb360",
   "metadata": {},
   "outputs": [],
   "source": [
    "#creating object of polynomialfeatures and pass degree\n",
    "pf=PolynomialFeatures(3)"
   ]
  },
  {
   "cell_type": "code",
   "execution_count": 112,
   "id": "9dd9e54e",
   "metadata": {},
   "outputs": [],
   "source": [
    "x_poly=pf.fit_transform(X)\n",
    "#we create polynomial version of x so we call fit_transform() : inbuilt\n",
    "#method of polynomialfeatures class"
   ]
  },
  {
   "cell_type": "code",
   "execution_count": 113,
   "id": "f8cfb137",
   "metadata": {},
   "outputs": [
    {
     "data": {
      "text/plain": [
       "array([[1.00000000e+00, 2.30100000e+02, 3.78000000e+01, ...,\n",
       "        2.00135918e+06, 3.28776084e+05, 5.40101520e+04],\n",
       "       [1.00000000e+00, 4.45000000e+01, 3.93000000e+01, ...,\n",
       "        7.78238250e+04, 6.87298050e+04, 6.06984570e+04],\n",
       "       [1.00000000e+00, 1.72000000e+01, 4.59000000e+01, ...,\n",
       "        1.35790560e+04, 3.62371320e+04, 9.67025790e+04],\n",
       "       ...,\n",
       "       [1.00000000e+00, 1.77000000e+02, 9.30000000e+00, ...,\n",
       "        2.91359700e+05, 1.53087300e+04, 8.04357000e+02],\n",
       "       [1.00000000e+00, 2.83600000e+02, 4.20000000e+01, ...,\n",
       "        3.37801632e+06, 5.00270400e+05, 7.40880000e+04],\n",
       "       [1.00000000e+00, 2.32100000e+02, 8.60000000e+00, ...,\n",
       "        4.63285526e+05, 1.71661160e+04, 6.36056000e+02]])"
      ]
     },
     "execution_count": 113,
     "metadata": {},
     "output_type": "execute_result"
    }
   ],
   "source": [
    "x_poly"
   ]
  },
  {
   "cell_type": "code",
   "execution_count": 114,
   "id": "7fab48fb",
   "metadata": {},
   "outputs": [],
   "source": [
    "#train test split\n",
    "X_train,X_test,Y_train,Y_test=train_test_split(x_poly,Y,test_size=0.3,random_state=1)"
   ]
  },
  {
   "cell_type": "code",
   "execution_count": 115,
   "id": "e3a40de1",
   "metadata": {},
   "outputs": [],
   "source": [
    "#we train the model with 70% data using LinearRegression class\n",
    "#creating object\n",
    "lr=LinearRegression()\n"
   ]
  },
  {
   "cell_type": "code",
   "execution_count": 116,
   "id": "7405f9d8",
   "metadata": {},
   "outputs": [
    {
     "data": {
      "text/plain": [
       "LinearRegression()"
      ]
     },
     "execution_count": 116,
     "metadata": {},
     "output_type": "execute_result"
    }
   ],
   "source": [
    "#traing data\n",
    "lr.fit(X_train,Y_train)"
   ]
  },
  {
   "cell_type": "code",
   "execution_count": 117,
   "id": "ec3ea296",
   "metadata": {},
   "outputs": [],
   "source": [
    "#predicting data\n",
    "Y_pred=lr.predict(X_test)"
   ]
  },
  {
   "cell_type": "code",
   "execution_count": 118,
   "id": "c56de5d2",
   "metadata": {},
   "outputs": [
    {
     "name": "stdout",
     "output_type": "stream",
     "text": [
      "Mean Squared Error =  0.14469078647701475\n"
     ]
    }
   ],
   "source": [
    "#mean squared error\n",
    "print(\"Mean Squared Error = \",mean_squared_error(Y_test,Y_pred))"
   ]
  },
  {
   "cell_type": "code",
   "execution_count": 119,
   "id": "55b9e926",
   "metadata": {},
   "outputs": [
    {
     "name": "stdout",
     "output_type": "stream",
     "text": [
      "R2_Score =  0.9941836818133654\n"
     ]
    }
   ],
   "source": [
    "#R2_score\n",
    "print(\"R2_Score = \",r2_score(Y_test,Y_pred))"
   ]
  },
  {
   "cell_type": "code",
   "execution_count": 120,
   "id": "8efea27b",
   "metadata": {},
   "outputs": [
    {
     "name": "stdout",
     "output_type": "stream",
     "text": [
      "Slope =  [ 0.00000000e+00  9.16483199e-02  2.25347616e-02 -4.65701531e-04\n",
      "  1.30652795e-03 -1.62567917e-04  8.31531755e-07 -7.44270012e-07\n",
      " -1.18928234e-06  9.37589630e-06]\n",
      "Intercept =  4.162147477105858\n"
     ]
    }
   ],
   "source": [
    "#checking slope and intercept\n",
    "print(\"Slope = \",lr.coef_)\n",
    "print(\"Intercept = \",lr.intercept_)"
   ]
  },
  {
   "cell_type": "code",
   "execution_count": 121,
   "id": "c85817aa",
   "metadata": {},
   "outputs": [
    {
     "data": {
      "text/plain": [
       "58    -0.041888\n",
       "40     0.445638\n",
       "34    -0.093118\n",
       "102   -0.065757\n",
       "184    0.179460\n",
       "198    0.027800\n",
       "95    -0.197140\n",
       "4     -0.023023\n",
       "29     0.143746\n",
       "168    0.245208\n",
       "171   -0.308870\n",
       "18     0.530108\n",
       "11     0.459830\n",
       "89    -0.871036\n",
       "110    0.445780\n",
       "118   -0.579427\n",
       "159   -0.447708\n",
       "35    -0.460786\n",
       "136    0.856041\n",
       "59     0.131923\n",
       "51    -0.196747\n",
       "16    -0.069882\n",
       "44     0.875771\n",
       "94    -0.292173\n",
       "31    -0.623031\n",
       "162    0.126614\n",
       "38     0.692022\n",
       "28    -0.064441\n",
       "193   -0.038868\n",
       "27     0.253143\n",
       "47     0.308808\n",
       "165    0.158161\n",
       "194   -0.097822\n",
       "177   -0.394323\n",
       "176    0.327206\n",
       "97     0.126910\n",
       "174   -0.092242\n",
       "73    -0.037799\n",
       "69    -0.187360\n",
       "172    0.851225\n",
       "108   -0.000472\n",
       "107   -0.596018\n",
       "189    0.426741\n",
       "14     0.072516\n",
       "56    -0.279619\n",
       "19    -0.302362\n",
       "114   -0.303319\n",
       "39     0.288186\n",
       "185    0.338592\n",
       "124   -0.026599\n",
       "98    -0.569396\n",
       "123   -0.710938\n",
       "119    0.076575\n",
       "53    -0.262732\n",
       "33    -0.056169\n",
       "179    0.097471\n",
       "181    0.111519\n",
       "106    0.433444\n",
       "199    0.226478\n",
       "138    0.269316\n",
       "Name: sales, dtype: float64"
      ]
     },
     "execution_count": 121,
     "metadata": {},
     "output_type": "execute_result"
    }
   ],
   "source": [
    "#check linear relation between input and output\n",
    "#creating normal distribution curve using residual\n",
    "#find residual\n",
    "residual=Y_test-Y_pred\n",
    "residual"
   ]
  },
  {
   "cell_type": "code",
   "execution_count": 122,
   "id": "d5955c27",
   "metadata": {},
   "outputs": [
    {
     "data": {
      "image/png": "[encoded data removed]",
      "text/plain": [
       "<Figure size 432x288 with 1 Axes>"
      ]
     },
     "metadata": {
      "needs_background": "light"
     },
     "output_type": "display_data"
    },
    {
     "data": {
      "image/png": "[encoded data removed]",
      "text/plain": [
       "<Figure size 432x288 with 1 Axes>"
      ]
     },
     "metadata": {
      "needs_background": "light"
     },
     "output_type": "display_data"
    },
    {
     "data": {
      "text/plain": [
       "0.07135639609463926"
      ]
     },
     "execution_count": 122,
     "metadata": {},
     "output_type": "execute_result"
    }
   ],
   "source": [
    "sns.histplot(residual)\n",
    "plt.show()\n",
    "sns.distplot(residual)\n",
    "plt.show()\n",
    "#checking skewness\n",
    "residual.skew()"
   ]
  },
  {
   "cell_type": "code",
   "execution_count": 123,
   "id": "ba8eed35",
   "metadata": {},
   "outputs": [
    {
     "data": {
      "image/png": "[encoded data removed]",
      "text/plain": [
       "<Figure size 432x288 with 1 Axes>"
      ]
     },
     "metadata": {
      "needs_background": "light"
     },
     "output_type": "display_data"
    }
   ],
   "source": [
    "#there should be linear relation in scatter plot\n",
    "plt.figure()\n",
    "sns.scatterplot(Y_pred,residual)\n",
    "plt.show()"
   ]
  },
  {
   "cell_type": "code",
   "execution_count": null,
   "id": "095ffeea",
   "metadata": {},
   "outputs": [],
   "source": [
    "#if take degree of input =3 then \n",
    "#here this is linear relation ship between residuals and Y_pred \n",
    "#means input and output are related to each other\n",
    "#but datpoints are scattered means heteroskadastic but should be homoskedastik\n",
    "#means datapoints are close each other"
   ]
  }
 ],
 "metadata": {
  "kernelspec": {
   "display_name": "Python 3 (ipykernel)",
   "language": "python",
   "name": "python3"
  },
  "language_info": {
   "codemirror_mode": {
    "name": "ipython",
    "version": 3
   },
   "file_extension": ".py",
   "mimetype": "text/x-python",
   "name": "python",
   "nbconvert_exporter": "python",
   "pygments_lexer": "ipython3",
   "version": "3.10.1"
  }
 },
 "nbformat": 4,
 "nbformat_minor": 5
}
